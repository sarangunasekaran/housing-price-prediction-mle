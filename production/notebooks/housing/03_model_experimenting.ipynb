{
 "cells": [
  {
   "cell_type": "markdown",
   "metadata": {},
   "source": [
    "# Purpose"
   ]
  },
  {
   "cell_type": "markdown",
   "metadata": {},
   "source": [
    "This notebook demonstrates the model experimentation and finalization. It covers EDA, outlier treatment, transformation, training, model evaluation and comparison across models."
   ]
  },
  {
   "cell_type": "markdown",
   "metadata": {},
   "source": [
    "## Imports"
   ]
  },
  {
   "cell_type": "code",
   "execution_count": 15,
   "metadata": {},
   "outputs": [],
   "source": [
    "import os\n",
    "import os.path as op\n",
    "import shutil\n",
    "\n",
    "# standard third party imports\n",
    "import numpy as np\n",
    "import pandas as pd\n",
    "from matplotlib import pyplot as plt\n",
    "from sklearn.pipeline import Pipeline\n",
    "from sklearn.feature_selection import SelectFromModel\n",
    "from sklearn.model_selection import GridSearchCV\n",
    "from sklearn.preprocessing import FunctionTransformer\n",
    "from sklearn.compose import ColumnTransformer\n",
    "\n",
    "# impute missing values\n",
    "from sklearn.experimental import enable_iterative_imputer  # noqa\n",
    "from sklearn.impute import KNNImputer, IterativeImputer, SimpleImputer\n",
    "from sklearn.tree import DecisionTreeRegressor\n",
    "from category_encoders import TargetEncoder\n"
   ]
  },
  {
   "cell_type": "code",
   "execution_count": 16,
   "metadata": {},
   "outputs": [
    {
     "name": "stdout",
     "output_type": "stream",
     "text": [
      "The autoreload extension is already loaded. To reload it, use:\n",
      "  %reload_ext autoreload\n"
     ]
    }
   ],
   "source": [
    "%load_ext autoreload\n",
    "%autoreload 2"
   ]
  },
  {
   "cell_type": "code",
   "execution_count": 17,
   "metadata": {},
   "outputs": [],
   "source": [
    "# standard code-template imports\n",
    "from ta_lib.core.api import (\n",
    "    create_context, get_dataframe, get_feature_names_from_column_transformer, string_cleaning,\n",
    "    get_package_path, display_as_tabs, save_pipeline, load_pipeline, initialize_environment,\n",
    "    load_dataset, save_dataset, DEFAULT_ARTIFACTS_PATH\n",
    ")\n",
    "\n",
    "import ta_lib.eda.api as eda\n",
    "from xgboost import XGBRegressor\n",
    "from ta_lib.regression.api import SKLStatsmodelOLS\n",
    "from ta_lib.regression.api import RegressionComparison, RegressionReport\n",
    "import ta_lib.reports.api as reports\n",
    "from ta_lib.data_processing.api import Outlier\n",
    "\n",
    "initialize_environment(debug=False, hide_warnings=True)"
   ]
  },
  {
   "cell_type": "markdown",
   "metadata": {},
   "source": [
    "# Initialization"
   ]
  },
  {
   "cell_type": "code",
   "execution_count": 18,
   "metadata": {},
   "outputs": [],
   "source": [
    "artifacts_folder = DEFAULT_ARTIFACTS_PATH"
   ]
  },
  {
   "cell_type": "code",
   "execution_count": 19,
   "metadata": {},
   "outputs": [],
   "source": [
    "config_path = op.join('conf', 'config.yml')\n",
    "context = create_context(config_path)"
   ]
  },
  {
   "cell_type": "markdown",
   "metadata": {},
   "source": [
    "# 3 Feature Engineering\n",
    "\n",
    "The focus here is the `Pipeline` and not the model. Though the model would inform the pipeline that is needed to train the model, our focus is to set it up in such a way that it can be saved/loaded, tweaked for different model choices and so on."
   ]
  },
  {
   "cell_type": "markdown",
   "metadata": {},
   "source": [
    "## 3.1 Read the Train and Test Data"
   ]
  },
  {
   "cell_type": "code",
   "execution_count": 20,
   "metadata": {},
   "outputs": [
    {
     "name": "stdout",
     "output_type": "stream",
     "text": [
      "(16512, 9) (16512, 1)\n",
      "(4128, 9) (4128, 1)\n"
     ]
    }
   ],
   "source": [
    "train_X = load_dataset(context, 'train/housing/features')\n",
    "train_y = load_dataset(context, 'train/housing/target')\n",
    "print(train_X.shape, train_y.shape)\n",
    "\n",
    "test_X = load_dataset(context, 'test/housing/features')\n",
    "test_y = load_dataset(context, 'test/housing/target')\n",
    "print(test_X.shape, test_y.shape)"
   ]
  },
  {
   "cell_type": "code",
   "execution_count": 65,
   "metadata": {},
   "outputs": [],
   "source": [
    "import math\n",
    "train_y['median_house_value']=train_y['median_house_value'].apply(lambda x: x + math.exp(-18.42))\n",
    "test_y['median_house_value']=test_y['median_house_value'].apply(lambda x: x + math.exp(-18.42))"
   ]
  },
  {
   "cell_type": "markdown",
   "metadata": {},
   "source": [
    "## 3.2 Feature Engineering Pipelines\n"
   ]
  },
  {
   "cell_type": "markdown",
   "metadata": {},
   "source": [
    "**Dev NOTES**\n",
    "\n",
    "For Feature Engineering and Model Building sklearn.pipeline.Pipeline are leveraged because of the following advantages\n",
    "<details>\n",
    "    \n",
    "1. It helps in automating workflows and are easier to read and comprehend.\n",
    "2. Right Sequence can be ensured and (for example always encodes before imputing)\n",
    "3. Reproducibility is very convenient with pipelines\n",
    "4. Pipelines help you prevent data leakage in your test data\n",
    "5. Code is near implementation ready"
   ]
  },
  {
   "cell_type": "markdown",
   "metadata": {},
   "source": [
    "#### General Steps in the Feature Transformation are as follows\n",
    " - Outlier Treatment\n",
    " - Encoding of Categorical Columns\n",
    " - Missing Values Imputation"
   ]
  },
  {
   "cell_type": "code",
   "execution_count": 21,
   "metadata": {},
   "outputs": [
    {
     "name": "stdout",
     "output_type": "stream",
     "text": [
      "Index(['longitude', 'latitude', 'housing_median_age', 'total_rooms',\n",
      "       'total_bedrooms', 'population', 'households', 'median_income'],\n",
      "      dtype='object')\n"
     ]
    }
   ],
   "source": [
    "# collecting different types of columns for transformations\n",
    "cat_columns = train_X.select_dtypes('object').columns\n",
    "num_columns = train_X.select_dtypes('number').columns\n",
    "print(num_columns)"
   ]
  },
  {
   "cell_type": "markdown",
   "metadata": {},
   "source": [
    "#### Outlier Handling\n",
    "- A Custom Transformer is used to handle outliers. It is not included as part of the pipeline as outliers handling are optional for test data\n",
    "- An option to either drop or cap the outliers can be passed during the transform call\n",
    "- If we want to treat outliers for some columns them we can pass cols argument to the Transformer\n",
    "- This will go into production code"
   ]
  },
  {
   "cell_type": "code",
   "execution_count": 22,
   "metadata": {},
   "outputs": [
    {
     "name": "stdout",
     "output_type": "stream",
     "text": [
      "(16512, 9)\n",
      "(16512, 9)\n"
     ]
    }
   ],
   "source": [
    "outlier_transformer = Outlier(method='mean')\n",
    "print(train_X.shape)\n",
    "train_X = outlier_transformer.fit_transform(train_X)\n",
    "print(train_X.shape)"
   ]
  },
  {
   "cell_type": "markdown",
   "metadata": {},
   "source": [
    "#### Encoding\n"
   ]
  },
  {
   "cell_type": "markdown",
   "metadata": {},
   "source": [
    "Some sample pipelines showcasing how to create column specific pipelines and integrating them overall is presented below\n",
    "\n",
    "- Commonly target encoding is done for categorical variables with too many levels.\n",
    "- We also group sparse levels. For fewer levels one hot encoding/label encoding is preferred.\n",
    "- If there is one dominant level, we can use binary encoding.\n",
    "- This will go into production code"
   ]
  },
  {
   "cell_type": "code",
   "execution_count": 23,
   "metadata": {},
   "outputs": [],
   "source": [
    "from sklearn.base import BaseEstimator, TransformerMixin\n",
    "\n",
    "col_names = \"total_rooms\", \"total_bedrooms\", \"population\", \"households\"\n",
    "rooms_ix, bedrooms_ix, population_ix, households_ix = [\n",
    "    train_X.columns.get_loc(c) for c in col_names]\n",
    "\n",
    "class CombinedAttributesAdder(BaseEstimator, TransformerMixin):\n",
    "    def __init__(self, add_bedrooms_per_room=True): # no *args or **kargs\n",
    "        self.add_bedrooms_per_room = add_bedrooms_per_room\n",
    "    def fit(self, X, y=None):\n",
    "        return self  # nothing else to do\n",
    "    def transform(self, X):\n",
    "        temp_cols = X.columns.to_list()\n",
    "        X=X.values\n",
    "        temp_cols.extend(['rooms_per_household', 'population_per_household',\n",
    "                         'bedrooms_per_room'])\n",
    "        new_cols = {k:v for k,v in zip(range(len(temp_cols)),temp_cols)}\n",
    "        rooms_per_household = X[:, rooms_ix] / X[:, households_ix]\n",
    "        population_per_household = X[:, population_ix] / X[:, households_ix]\n",
    "        if self.add_bedrooms_per_room:\n",
    "            bedrooms_per_room = X[:, bedrooms_ix] / X[:, rooms_ix]\n",
    "            finaldf = pd.DataFrame(np.c_[X, rooms_per_household, population_per_household,\n",
    "                         bedrooms_per_room]).rename(columns=new_cols)\n",
    "        else:\n",
    "            finaldf = pd.DataFrame(np.c_[X, rooms_per_household, population_per_household]).rename(columns=new_cols)\n",
    "        return finaldf\n",
    "     "
   ]
  },
  {
   "cell_type": "code",
   "execution_count": 24,
   "metadata": {},
   "outputs": [
    {
     "name": "stdout",
     "output_type": "stream",
     "text": [
      "Index(['longitude', 'latitude', 'housing_median_age', 'total_rooms',\n",
      "       'total_bedrooms', 'population', 'households', 'median_income',\n",
      "       'rooms_per_household', 'population_per_household', 'bedrooms_per_room'],\n",
      "      dtype='object')\n"
     ]
    }
   ],
   "source": [
    "from sklearn.preprocessing import StandardScaler\n",
    "attrib_adder=CombinedAttributesAdder()\n",
    "cat=train_X['ocean_proximity']\n",
    "train_X=attrib_adder.transform(train_X[num_columns])\n",
    "num_cols=train_X.select_dtypes('number').columns\n",
    "train_X['ocean_proximity']=cat\n",
    "print(num_cols)"
   ]
  },
  {
   "cell_type": "code",
   "execution_count": 25,
   "metadata": {},
   "outputs": [],
   "source": [
    "num_pipeline = Pipeline([\n",
    "        ('imputer', SimpleImputer(strategy=\"median\")),\n",
    "        ('std_scaler', StandardScaler()),\n",
    "    ])"
   ]
  },
  {
   "cell_type": "code",
   "execution_count": 26,
   "metadata": {},
   "outputs": [],
   "source": [
    "from sklearn.compose import ColumnTransformer\n",
    "from sklearn.preprocessing import OneHotEncoder"
   ]
  },
  {
   "cell_type": "code",
   "execution_count": 27,
   "metadata": {},
   "outputs": [
    {
     "name": "stdout",
     "output_type": "stream",
     "text": [
      "[[ 1.24693819 -1.32781903 -0.28552449 ...  0.          0.\n",
      "   1.        ]\n",
      " [ 0.62705927 -0.71890811  0.5908656  ...  0.          0.\n",
      "   0.        ]\n",
      " [ 1.15195675 -0.83600636 -1.32125823 ...  0.          0.\n",
      "   0.        ]\n",
      " ...\n",
      " [-1.20258336  1.01414605 -0.9228991  ...  0.          0.\n",
      "   0.        ]\n",
      " [-1.04761363  0.50359766  0.35185012 ...  0.          0.\n",
      "   0.        ]\n",
      " [ 0.65205439 -0.75169562  0.98922473 ...  0.          0.\n",
      "   0.        ]]\n"
     ]
    }
   ],
   "source": [
    "features_transformer = ColumnTransformer([\n",
    "    (\"num\", num_pipeline , num_cols),\n",
    "    (\"cat\", OneHotEncoder(), cat_columns),\n",
    "])"
   ]
  },
  {
   "cell_type": "code",
   "execution_count": 28,
   "metadata": {},
   "outputs": [],
   "source": [
    "sample_X = train_X.sample(frac=0.1, random_state=context.random_seed)\n",
    "sample_y = train_y.loc[sample_X.index]\n",
    "housing=features_transformer.fit_transform(sample_X, sample_y)\n",
    "sample_train_X = get_dataframe(\n",
    "    features_transformer.fit_transform(sample_X, sample_y), \n",
    "    get_feature_names_from_column_transformer(features_transformer)\n",
    ")\n",
    "\n",
    "# nothing to do for target\n",
    "sample_train_y = sample_y"
   ]
  },
  {
   "cell_type": "markdown",
   "metadata": {},
   "source": [
    "**Dev notes(Encoding):**\n",
    "<details>\n",
    "\n",
    "    Some common practices followed in Categorical Feature Encoding are\n",
    "    * For categorical variables with too many levels, target encoding can be done.\n",
    "    * For fewer levels, one hot encoding can be done.\n",
    "    * If one very dominant level is observed, binary encoding can be used.\n",
    "    \n",
    "    \n",
    "</details>"
   ]
  },
  {
   "cell_type": "markdown",
   "metadata": {},
   "source": [
    "## 3.2 Feature analysis\n",
    "\n",
    "Using the pipeline above analyze the features and decide on additional features to add/remove from the pipeline. This section will not be part of the production code, unless input data drifts etc. are explicitly demanded in the project.\n",
    "\n",
    "Here we are primarily focused on feature selection/elimination based on business rules, prior knowledge, data analysis.\n",
    "\n",
    "**We are not building any models at this point.**\n"
   ]
  },
  {
   "cell_type": "markdown",
   "metadata": {},
   "source": [
    "- we create some sample data to analyze that we assume represent the population\n",
    "- train the features transformer and do the analysis as below"
   ]
  },
  {
   "cell_type": "markdown",
   "metadata": {},
   "source": [
    "Running the features transformer on the complete data"
   ]
  },
  {
   "cell_type": "code",
   "execution_count": 29,
   "metadata": {},
   "outputs": [],
   "source": [
    "train_X = get_dataframe(\n",
    "    features_transformer.fit_transform(train_X, train_y), \n",
    "    get_feature_names_from_column_transformer(features_transformer)\n",
    ")"
   ]
  },
  {
   "cell_type": "markdown",
   "metadata": {},
   "source": [
    "### 3.2.1 Univariate\n",
    "\n",
    "\n",
    "- Look at each variable independently. This is useful if your models have assumptions on the distribution and/or bounds on the features/target"
   ]
  },
  {
   "cell_type": "code",
   "execution_count": 30,
   "metadata": {},
   "outputs": [
    {
     "data": {
      "text/plain": [
       "Index(['num_longitude', 'num_latitude', 'num_housing_median_age',\n",
       "       'num_total_rooms', 'num_total_bedrooms', 'num_population',\n",
       "       'num_households', 'num_median_income', 'num_rooms_per_household',\n",
       "       'num_population_per_household', 'num_bedrooms_per_room',\n",
       "       'ocean_proximity_<1H OCEAN', 'ocean_proximity_INLAND',\n",
       "       'ocean_proximity_ISLAND', 'ocean_proximity_NEAR BAY',\n",
       "       'ocean_proximity_NEAR OCEAN'],\n",
       "      dtype='object')"
      ]
     },
     "execution_count": 30,
     "metadata": {},
     "output_type": "execute_result"
    }
   ],
   "source": [
    "train_X.columns"
   ]
  },
  {
   "cell_type": "code",
   "execution_count": 31,
   "metadata": {},
   "outputs": [
    {
     "data": {},
     "metadata": {},
     "output_type": "display_data"
    },
    {
     "data": {
      "application/vnd.holoviews_exec.v0+json": "",
      "text/html": [
       "<div id='1001'>\n",
       "\n",
       "\n",
       "\n",
       "\n",
       "\n",
       "  <div class=\"bk-root\" id=\"d4a7d3dd-0ffe-421b-a175-288e4cc301df\" data-root-id=\"1001\"></div>\n",
       "</div>\n",
       "<script type=\"application/javascript\">(function(root) {\n",
       "  function embed_document(root) {\n",
       "  var docs_json = {\"a3a47ac2-f416-4b62-8cf5-73dd3807e542\":{\"roots\":{\"references\":[{\"attributes\":{\"align\":null,\"below\":[{\"id\":\"1018\"}],\"center\":[{\"id\":\"1021\"},{\"id\":\"1025\"}],\"extra_y_ranges\":{\"twiny\":{\"id\":\"1059\"}},\"left\":[{\"id\":\"1022\"}],\"margin\":null,\"min_border_bottom\":10,\"min_border_left\":10,\"min_border_right\":10,\"min_border_top\":10,\"plot_height\":300,\"renderers\":[{\"id\":\"1049\"},{\"id\":\"1057\"}],\"right\":[{\"id\":\"1060\"}],\"sizing_mode\":\"fixed\",\"title\":{\"id\":\"1010\"},\"toolbar\":{\"id\":\"1032\"},\"toolbar_location\":null,\"x_range\":{\"id\":\"1006\"},\"x_scale\":{\"id\":\"1014\"},\"y_range\":{\"id\":\"1007\"},\"y_scale\":{\"id\":\"1016\"}},\"id\":\"1009\",\"subtype\":\"Figure\",\"type\":\"Plot\"},{\"attributes\":{\"source\":{\"id\":\"1145\"}},\"id\":\"1188\",\"type\":\"CDSView\"},{\"attributes\":{\"data\":{\"left\":{\"__ndarray__\":\"BcpUpMiUAcANS+tFaen/vxECLUNBqfy/FLluQBlp+b8YcLA98Sj2vxsn8jrJ6PK/PLxncEJR779EKutq8tDov0qYbmWiUOK/oAzkv6Sg179g0dVpCUDFvwDacbDaBKM/cL4OwnbCzj8ogwBs22HcP4zTfLs9seQ/iGX5wI0x6z/A+zrj7tjwP7xE+eUWGfQ/uo236D5Z9z+21nXrZpn6Pw==\",\"dtype\":\"float64\",\"order\":\"little\",\"shape\":[20]},\"right\":{\"__ndarray__\":\"DUvrRWnp/78RAi1DQan8vxS5bkAZafm/GHCwPfEo9r8bJ/I6yejyvzy8Z3BCUe+/RCrravLQ6L9KmG5lolDiv6AM5L+koNe/YNHVaQlAxb8A2nGw2gSjP3C+DsJ2ws4/KIMAbNth3D+M03y7PbHkP4hl+cCNMes/wPs64+7Y8D+8RPnlFhn0P7qNt+g+Wfc/ttZ162aZ+j+xHzTujtn9Pw==\",\"dtype\":\"float64\",\"order\":\"little\",\"shape\":[20]},\"top\":[90,482,299,601,430,1341,1016,1161,671,1328,1157,722,1503,1378,1010,500,848,435,390,1150]},\"selected\":{\"id\":\"1044\"},\"selection_policy\":{\"id\":\"1070\"}},\"id\":\"1043\",\"type\":\"ColumnDataSource\"},{\"attributes\":{\"text\":\"Density Plot for num_housing_median_age\",\"text_color\":{\"value\":\"black\"},\"text_font_size\":{\"value\":\"12pt\"}},\"id\":\"1010\",\"type\":\"Title\"},{\"attributes\":{\"margin\":[5,5,5,5],\"name\":\"HSpacer02888\",\"sizing_mode\":\"stretch_width\"},\"id\":\"1005\",\"type\":\"Spacer\"},{\"attributes\":{\"overlay\":{\"id\":\"1031\"}},\"id\":\"1029\",\"type\":\"BoxZoomTool\"},{\"attributes\":{\"axis\":{\"id\":\"1018\"},\"grid_line_color\":null,\"ticker\":null},\"id\":\"1021\",\"type\":\"Grid\"},{\"attributes\":{\"axis_label\":\"num_housing_median_age\",\"bounds\":\"auto\",\"formatter\":{\"id\":\"1039\"},\"major_label_orientation\":\"horizontal\",\"ticker\":{\"id\":\"1019\"}},\"id\":\"1018\",\"type\":\"LinearAxis\"},{\"attributes\":{\"axis_label\":\"num_housing_median_age_density, y\",\"formatter\":{\"id\":\"1067\"},\"ticker\":{\"id\":\"1066\"},\"y_range_name\":\"twiny\"},\"id\":\"1060\",\"type\":\"LinearAxis\"},{\"attributes\":{\"format\":\"0,0.0[00000]\"},\"id\":\"1327\",\"type\":\"NumberFormatter\"},{\"attributes\":{},\"id\":\"1146\",\"type\":\"Selection\"},{\"attributes\":{\"data\":{\"A_25_percent\":{\"__ndarray__\":\"4XoUrkfh6r8=\",\"dtype\":\"float64\",\"order\":\"little\",\"shape\":[1]},\"A_50_percent\":{\"__ndarray__\":\"uB6F61G4nj8=\",\"dtype\":\"float64\",\"order\":\"little\",\"shape\":[1]},\"A_75_percent\":{\"__ndarray__\":\"cT0K16Nw5T8=\",\"dtype\":\"float64\",\"order\":\"little\",\"shape\":[1]},\"count\":{\"__ndarray__\":\"AAAAAAAg0EA=\",\"dtype\":\"float64\",\"order\":\"little\",\"shape\":[1]},\"max\":{\"__ndarray__\":\"7FG4HoXr/T8=\",\"dtype\":\"float64\",\"order\":\"little\",\"shape\":[1]},\"mean\":{\"__ndarray__\":\"AAAAAAAAAIA=\",\"dtype\":\"float64\",\"order\":\"little\",\"shape\":[1]},\"min\":{\"__ndarray__\":\"mpmZmZmZAcA=\",\"dtype\":\"float64\",\"order\":\"little\",\"shape\":[1]},\"std\":{\"__ndarray__\":\"AAAAAAAA8D8=\",\"dtype\":\"float64\",\"order\":\"little\",\"shape\":[1]}},\"selected\":{\"id\":\"1146\"},\"selection_policy\":{\"id\":\"1203\"}},\"id\":\"1145\",\"type\":\"ColumnDataSource\"},{\"attributes\":{\"end\":0.42566052614553507},\"id\":\"1059\",\"type\":\"Range1d\"},{\"attributes\":{\"margin\":[5,5,5,5],\"name\":\"HSpacer02885\",\"sizing_mode\":\"stretch_width\"},\"id\":\"1385\",\"type\":\"Spacer\"},{\"attributes\":{\"editor\":{\"id\":\"1313\"},\"field\":\"count\",\"formatter\":{\"id\":\"1312\"},\"title\":\"count\"},\"id\":\"1314\",\"type\":\"TableColumn\"},{\"attributes\":{\"fill_alpha\":0.2,\"fill_color\":\"#1f77b3\",\"line_alpha\":0.2,\"x\":{\"field\":\"x\"},\"y\":{\"field\":\"y\"}},\"id\":\"1056\",\"type\":\"Patch\"},{\"attributes\":{},\"id\":\"1019\",\"type\":\"BasicTicker\"},{\"attributes\":{},\"id\":\"1323\",\"type\":\"NumberEditor\"},{\"attributes\":{\"source\":{\"id\":\"1051\"}},\"id\":\"1058\",\"type\":\"CDSView\"},{\"attributes\":{\"active_drag\":\"auto\",\"active_inspect\":\"auto\",\"active_multi\":null,\"active_scroll\":\"auto\",\"active_tap\":\"auto\",\"tools\":[{\"id\":\"1008\"},{\"id\":\"1026\"},{\"id\":\"1027\"},{\"id\":\"1028\"},{\"id\":\"1029\"},{\"id\":\"1030\"}]},\"id\":\"1032\",\"type\":\"Toolbar\"},{\"attributes\":{\"format\":\"0,0.0[00000]\"},\"id\":\"1317\",\"type\":\"NumberFormatter\"},{\"attributes\":{},\"id\":\"1030\",\"type\":\"ResetTool\"},{\"attributes\":{\"margin\":[20,20,20,20],\"min_width\":250,\"options\":[\"num_housing_median_age\",\"num_total_rooms\",\"num_total_bedrooms\",\"num_population\",\"num_households\",\"num_median_income\",\"num_rooms_per_household\",\"num_population_per_household\",\"num_bedrooms_per_room\"],\"title\":\"col\",\"value\":\"num_housing_median_age\",\"width\":250},\"id\":\"1384\",\"type\":\"Select\"},{\"attributes\":{},\"id\":\"1027\",\"type\":\"PanTool\"},{\"attributes\":{},\"id\":\"1067\",\"type\":\"BasicTickFormatter\"},{\"attributes\":{},\"id\":\"1028\",\"type\":\"WheelZoomTool\"},{\"attributes\":{},\"id\":\"1023\",\"type\":\"BasicTicker\"},{\"attributes\":{\"children\":[{\"id\":\"1004\"},{\"id\":\"1381\"}],\"margin\":[0,0,0,0],\"name\":\"Column02891\"},\"id\":\"1003\",\"type\":\"Column\"},{\"attributes\":{},\"id\":\"1026\",\"type\":\"SaveTool\"},{\"attributes\":{\"margin\":[5,5,5,5],\"name\":\"HSpacer02892\",\"sizing_mode\":\"stretch_width\"},\"id\":\"1386\",\"type\":\"Spacer\"},{\"attributes\":{},\"id\":\"1070\",\"type\":\"UnionRenderers\"},{\"attributes\":{\"callback\":null,\"renderers\":[{\"id\":\"1057\"}],\"tags\":[\"hv_created\"],\"tooltips\":[[\"num_housing_median_age\",\"@{num_housing_median_age}\"],[\"Density\",\"@{num_housing_median_age_density}\"]]},\"id\":\"1008\",\"type\":\"HoverTool\"},{\"attributes\":{\"axis_label\":\"Frequency\",\"bounds\":\"auto\",\"formatter\":{\"id\":\"1041\"},\"major_label_orientation\":\"horizontal\",\"ticker\":{\"id\":\"1023\"}},\"id\":\"1022\",\"type\":\"LinearAxis\"},{\"attributes\":{\"axis\":{\"id\":\"1022\"},\"dimension\":1,\"grid_line_color\":null,\"ticker\":null},\"id\":\"1025\",\"type\":\"Grid\"},{\"attributes\":{\"data_source\":{\"id\":\"1051\"},\"glyph\":{\"id\":\"1054\"},\"hover_glyph\":null,\"muted_glyph\":{\"id\":\"1056\"},\"nonselection_glyph\":{\"id\":\"1055\"},\"selection_glyph\":null,\"view\":{\"id\":\"1058\"},\"y_range_name\":\"twiny\"},\"id\":\"1057\",\"type\":\"GlyphRenderer\"},{\"attributes\":{},\"id\":\"1066\",\"type\":\"BasicTicker\"},{\"attributes\":{},\"id\":\"1052\",\"type\":\"Selection\"},{\"attributes\":{\"margin\":[5,5,5,5],\"name\":\"HSpacer02884\",\"sizing_mode\":\"stretch_width\"},\"id\":\"1382\",\"type\":\"Spacer\"},{\"attributes\":{},\"id\":\"1203\",\"type\":\"UnionRenderers\"},{\"attributes\":{\"fill_alpha\":0.5,\"fill_color\":\"#1f77b3\",\"line_alpha\":1,\"x\":{\"field\":\"x\"},\"y\":{\"field\":\"y\"}},\"id\":\"1055\",\"type\":\"Patch\"},{\"attributes\":{\"data\":{\"x\":{\"__ndarray__\":\"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\",\"dtype\":\"float64\",\"order\":\"little\",\"shape\":[200]},\"y\":{\"__ndarray__\":\"AAAAAAAAAAAAAAAAAAAAAAAAAAAAAAAAAAAAAAAAAAAAAAAAAAAAAAAAAAAAAAAAAAAAAAAAAAAAAAAAAAAAAAAAAAAAAAAAAAAAAAAAAAAAAAAAAAAAAAAAAAAAAAAAAAAAAAAAAAAAAAAAAAAAAAAAAAAAAAAAAAAAAAAAAAAAAAAAAAAAAAAAAAAAAAAAAAAAAAAAAAAAAAAAAAAAAAAAAAAAAAAAAAAAAAAAAAAAAAAAAAAAAAAAAAAAAAAAAAAAAAAAAAAAAAAAAAAAAAAAAAAAAAAAAAAAAAAAAAAAAAAAAAAAAAAAAAAAAAAAAAAAAAAAAAAAAAAAAAAAAAAAAAAAAAAAAAAAAAAAAAAAAAAAAAAAAAAAAAAAAAAAAAAAAAAAAAAAAAAAAAAAAAAAAAAAAAAAAAAAAAAAAAAAAAAAAAAAAAAAAAAAAAAAAAAAAAAAAAAAAAAAAAAAAAAAAAAAAAAAAAAAAAAAAAAAAAAAAAAAAAAAAAAAAAAAAAAAAAAAAAAAAAAAAAAAAAAAAAAAAAAAAAAAAAAAAAAAAAAAAAAAAAAAAAAAAAAAAAAAAAAAAAAAAAAAAAAAAAAAAAAAAAAAAAAAAAAAAAAAAAAAAAAAAAAAAAAAAAAAAAAAAAAAAAAAAAAAAAAAAAAAAAAAAAAAAAAAAAAAAAAAAAAAAAAAAAAAAAAAAAAAAAAAAAAAAAAAAAAAAAAAAAAAAAAAAAAAAAAAAAAAAAAAAAAAAAAAAAAAAAAAAAAAAAAAAAAAAAAAAAAAAAAAAAAAAAAAAAAAAAAAAAAAAAAAAAAAAAAAAAAAAAAAAAAAAAAAAAAAAAAAAAAAAAAAAAAAAAAAAAAAAAAAAAAAAAAAAAAAAAAAAAAAAAAAAAAAAAAAAAAAAAAAAAAAAAAAAAAAAAAAAAAAAAAAAAAAAAAAAAAAAAAAAAAAAAAAAAAAAAAAAAAAAAAAAAAAAAAAAAAAAAAAAAAAAAAAAAAAAAAAAAAAAAAAAAAAAAAAAAAAAAAAAAAAAAAAAAAAAAAAAAAAAAAAAAAAAAAAAAAAAAA9tCFlD9xeP+bcO6WDnXQ/94n/LiJxiD+nhM3+urmZP/3eyzP9DKg/sq81p5X9sz9ZrbyFk5a9P4gwrRP8isM/qmu/2j4ixz8qD+uxh7XIP2/I2NhMGcg/3sRgm1DmxT/KUJxyNSXDP+0HVr2hz8A/HpJW/Cbwvj+2Ydka3Hi+P+AyGG1L278/600ffLVAwT81+ISTyuzCP4swxFpitMQ/beORBKVkxj+xvQu7P9XHP0Zga6cN7Mg/jrjtRnmiyT8qI1L49QjKP4/+gvhHRso/Vi91Y66Syj9MjDNLqTDLPw9f6W2mZMw//iI4yVhqzj9BuuSgTbLQP3qDqBHho9I/FeXuHXDj1D8cO0If5CnXP9WDgnuYHtk/N2kxNj9y2j8W2RPr+PjaP/N4ZhrUtdo/TN0vpvvS2T8c7LXu2o3YP6AHaXSyI9c/Ebqw5LXG1T9b1690jJvUP5UwZNZdutM/BlID/pkv0z+T8Xxu7/vSP9ggsrSFFNM/7jO0BSFk0z9UpMKEU83TP9nIr3FRLtQ/SQa/uiZn1D/gP6wIoWHUP8plBKwiGNQ/LRkb1QeY0z+DKxxiMv7SP9j/Lqoib9I//dkioKsN0j/61QDNR/PRP8NWLfwGLNI/AN+392+20j8N1R5xx4XTP66khEn5g9Q/F8J2olOR1T/gyUo8YYPWP3sbPfYZJ9c/kigsAyRK1z8OcNOcIcrWP2Zx4oIyo9U/9ZTcWgj10z+xgRL9gvrRPx+4rcEF788/9rEt+BBLzD8UMBn3ok3JP4yLtr0hBsc/ca58vClZxT8qezB3+RTEP1JYgsnwB8M/yiPL3YARwj/dC2PoVyjBP8hN2+3eVMA/bByeRQ1Hvz/gT9/pgSq+P9MFhfsRK70/buBK/SL4uz9tSUGavza6P+W04eXrq7c/inXWyFJctD8+DTfU842wP6PlGtYgV6k/GIjtPLE4oj/543jPu5eYP6KOEeCSGY8/R/O6sh1fgj/WzS/zfjB0PzEk3g3DhmQ/w+O6okUyUz/izqrZpWxAP228VojClyk/rva6Bn4WEj8+J4hAtB/3Pg==\",\"dtype\":\"float64\",\"order\":\"little\",\"shape\":[200]}},\"selected\":{\"id\":\"1052\"},\"selection_policy\":{\"id\":\"1072\"}},\"id\":\"1051\",\"type\":\"ColumnDataSource\"},{\"attributes\":{},\"id\":\"1039\",\"type\":\"BasicTickFormatter\"},{\"attributes\":{\"children\":[{\"id\":\"1384\"}],\"css_classes\":[\"panel-widget-box\"],\"margin\":[5,5,5,5],\"name\":\"WidgetBox02879\"},\"id\":\"1383\",\"type\":\"Column\"},{\"attributes\":{},\"id\":\"1348\",\"type\":\"NumberEditor\"},{\"attributes\":{},\"id\":\"1016\",\"type\":\"LinearScale\"},{\"attributes\":{\"format\":\"0,0.0[00000]\"},\"id\":\"1342\",\"type\":\"NumberFormatter\"},{\"attributes\":{},\"id\":\"1044\",\"type\":\"Selection\"},{\"attributes\":{\"children\":[{\"id\":\"1382\"},{\"id\":\"1383\"},{\"id\":\"1385\"}],\"margin\":[0,0,0,0],\"name\":\"Row02886\"},\"id\":\"1381\",\"type\":\"Row\"},{\"attributes\":{\"editor\":{\"id\":\"1338\"},\"field\":\"A_50_percent\",\"formatter\":{\"id\":\"1337\"},\"title\":\"50%\"},\"id\":\"1339\",\"type\":\"TableColumn\"},{\"attributes\":{},\"id\":\"1328\",\"type\":\"NumberEditor\"},{\"attributes\":{\"bottom\":{\"value\":0},\"fill_alpha\":{\"value\":0.2},\"fill_color\":{\"value\":\"#00fff0\"},\"left\":{\"field\":\"left\"},\"line_alpha\":{\"value\":0.2},\"right\":{\"field\":\"right\"},\"top\":{\"field\":\"top\"}},\"id\":\"1048\",\"type\":\"Quad\"},{\"attributes\":{\"style\":{\"white-space\":\"nowrap\"},\"text\":\"<span style=\\\"color:black;font-family:Arial;font-style:bold;font-weight:bold;font-size:12pt\\\">col: num_housing_median_age</span>\",\"width\":450},\"id\":\"1208\",\"type\":\"Div\"},{\"attributes\":{\"editor\":{\"id\":\"1348\"},\"field\":\"max\",\"formatter\":{\"id\":\"1347\"},\"title\":\"max\"},\"id\":\"1349\",\"type\":\"TableColumn\"},{\"attributes\":{\"client_comm_id\":\"8cddf2da12df4609ae1bbe895aed62ef\",\"comm_id\":\"871b5204dc5a4ce0a05dde5f3a08433b\",\"plot_id\":\"1001\"},\"id\":\"1429\",\"type\":\"panel.models.comm_manager.CommManager\"},{\"attributes\":{\"columns\":[{\"id\":\"1314\"},{\"id\":\"1319\"},{\"id\":\"1324\"},{\"id\":\"1329\"},{\"id\":\"1334\"},{\"id\":\"1339\"},{\"id\":\"1344\"},{\"id\":\"1349\"}],\"height\":60,\"reorderable\":false,\"source\":{\"id\":\"1145\"},\"view\":{\"id\":\"1188\"}},\"id\":\"1187\",\"type\":\"DataTable\"},{\"attributes\":{\"editor\":{\"id\":\"1343\"},\"field\":\"A_75_percent\",\"formatter\":{\"id\":\"1342\"},\"title\":\"75%\"},\"id\":\"1344\",\"type\":\"TableColumn\"},{\"attributes\":{\"format\":\"0,0.0[00000]\"},\"id\":\"1347\",\"type\":\"NumberFormatter\"},{\"attributes\":{},\"id\":\"1343\",\"type\":\"NumberEditor\"},{\"attributes\":{\"toolbar\":{\"id\":\"1205\"},\"toolbar_location\":\"above\"},\"id\":\"1206\",\"type\":\"ToolbarBox\"},{\"attributes\":{},\"id\":\"1338\",\"type\":\"NumberEditor\"},{\"attributes\":{\"editor\":{\"id\":\"1328\"},\"field\":\"min\",\"formatter\":{\"id\":\"1327\"},\"title\":\"min\"},\"id\":\"1329\",\"type\":\"TableColumn\"},{\"attributes\":{\"fill_alpha\":0.5,\"fill_color\":\"#1f77b3\",\"x\":{\"field\":\"x\"},\"y\":{\"field\":\"y\"}},\"id\":\"1054\",\"type\":\"Patch\"},{\"attributes\":{\"editor\":{\"id\":\"1333\"},\"field\":\"A_25_percent\",\"formatter\":{\"id\":\"1332\"},\"title\":\"25%\"},\"id\":\"1334\",\"type\":\"TableColumn\"},{\"attributes\":{\"source\":{\"id\":\"1043\"}},\"id\":\"1050\",\"type\":\"CDSView\"},{\"attributes\":{\"margin\":[5,5,5,5],\"name\":\"HSpacer02889\",\"sizing_mode\":\"stretch_width\"},\"id\":\"1380\",\"type\":\"Spacer\"},{\"attributes\":{\"format\":\"0,0.0[00000]\"},\"id\":\"1337\",\"type\":\"NumberFormatter\"},{\"attributes\":{\"editor\":{\"id\":\"1323\"},\"field\":\"std\",\"formatter\":{\"id\":\"1322\"},\"title\":\"std\"},\"id\":\"1324\",\"type\":\"TableColumn\"},{\"attributes\":{\"editor\":{\"id\":\"1318\"},\"field\":\"mean\",\"formatter\":{\"id\":\"1317\"},\"title\":\"mean\"},\"id\":\"1319\",\"type\":\"TableColumn\"},{\"attributes\":{},\"id\":\"1333\",\"type\":\"NumberEditor\"},{\"attributes\":{\"format\":\"0,0.0[00000]\"},\"id\":\"1332\",\"type\":\"NumberFormatter\"},{\"attributes\":{\"bottom\":{\"value\":0},\"fill_alpha\":{\"value\":0.1},\"fill_color\":{\"value\":\"#00fff0\"},\"left\":{\"field\":\"left\"},\"line_alpha\":{\"value\":0.1},\"right\":{\"field\":\"right\"},\"top\":{\"field\":\"top\"}},\"id\":\"1047\",\"type\":\"Quad\"},{\"attributes\":{\"data_source\":{\"id\":\"1043\"},\"glyph\":{\"id\":\"1046\"},\"hover_glyph\":null,\"muted_glyph\":{\"id\":\"1048\"},\"nonselection_glyph\":{\"id\":\"1047\"},\"selection_glyph\":null,\"view\":{\"id\":\"1050\"}},\"id\":\"1049\",\"type\":\"GlyphRenderer\"},{\"attributes\":{\"children\":[[{\"id\":\"1009\"},0,0],[{\"id\":\"1187\"},1,0]]},\"id\":\"1204\",\"type\":\"GridBox\"},{\"attributes\":{},\"id\":\"1313\",\"type\":\"NumberEditor\"},{\"attributes\":{\"bottom\":{\"value\":0},\"fill_color\":{\"value\":\"#00fff0\"},\"left\":{\"field\":\"left\"},\"right\":{\"field\":\"right\"},\"top\":{\"field\":\"top\"}},\"id\":\"1046\",\"type\":\"Quad\"},{\"attributes\":{\"children\":[{\"id\":\"1002\"},{\"id\":\"1003\"},{\"id\":\"1386\"}],\"margin\":[0,0,0,0],\"name\":\"Row02878\"},\"id\":\"1001\",\"type\":\"Row\"},{\"attributes\":{},\"id\":\"1041\",\"type\":\"BasicTickFormatter\"},{\"attributes\":{},\"id\":\"1014\",\"type\":\"LinearScale\"},{\"attributes\":{},\"id\":\"1318\",\"type\":\"NumberEditor\"},{\"attributes\":{\"children\":[{\"id\":\"1208\"},{\"id\":\"1207\"}]},\"id\":\"1209\",\"type\":\"Column\"},{\"attributes\":{\"bottom_units\":\"screen\",\"fill_alpha\":0.5,\"fill_color\":\"lightgrey\",\"left_units\":\"screen\",\"level\":\"overlay\",\"line_alpha\":1.0,\"line_color\":\"black\",\"line_dash\":[4,4],\"line_width\":2,\"right_units\":\"screen\",\"top_units\":\"screen\"},\"id\":\"1031\",\"type\":\"BoxAnnotation\"},{\"attributes\":{\"format\":\"0,0.0[00000]\"},\"id\":\"1322\",\"type\":\"NumberFormatter\"},{\"attributes\":{},\"id\":\"1072\",\"type\":\"UnionRenderers\"},{\"attributes\":{\"toolbars\":[{\"id\":\"1032\"}],\"tools\":[{\"id\":\"1008\"},{\"id\":\"1026\"},{\"id\":\"1027\"},{\"id\":\"1028\"},{\"id\":\"1029\"},{\"id\":\"1030\"}]},\"id\":\"1205\",\"type\":\"ProxyToolbar\"},{\"attributes\":{\"children\":[{\"id\":\"1206\"},{\"id\":\"1204\"}]},\"id\":\"1207\",\"type\":\"Column\"},{\"attributes\":{\"format\":\"0,0.0[00000]\"},\"id\":\"1312\",\"type\":\"NumberFormatter\"},{\"attributes\":{\"end\":2.541893458761875,\"reset_end\":2.541893458761875,\"reset_start\":-2.8739269530958222,\"start\":-2.8739269530958222,\"tags\":[[[\"x\",\"x\",null]]]},\"id\":\"1006\",\"type\":\"Range1d\"},{\"attributes\":{\"end\":1518.03,\"reset_end\":1653.2999977947384,\"reset_start\":0.0,\"tags\":[[[\"Frequency\",\"Frequency\",null]]]},\"id\":\"1007\",\"type\":\"Range1d\"},{\"attributes\":{\"margin\":[5,5,5,5],\"name\":\"HSpacer02887\",\"sizing_mode\":\"stretch_width\"},\"id\":\"1002\",\"type\":\"Spacer\"},{\"attributes\":{\"children\":[{\"id\":\"1005\"},{\"id\":\"1209\"},{\"id\":\"1380\"}],\"margin\":[0,0,0,0],\"name\":\"Row02890\"},\"id\":\"1004\",\"type\":\"Row\"}],\"root_ids\":[\"1001\",\"1429\"]},\"title\":\"Bokeh Application\",\"version\":\"2.2.3\"}};\n",
       "  var render_items = [{\"docid\":\"a3a47ac2-f416-4b62-8cf5-73dd3807e542\",\"root_ids\":[\"1001\"],\"roots\":{\"1001\":\"d4a7d3dd-0ffe-421b-a175-288e4cc301df\"}}];\n",
       "  root.Bokeh.embed.embed_items_notebook(docs_json, render_items);\n",
       "  }\n",
       "if (root.Bokeh !== undefined) {\n",
       "    embed_document(root);\n",
       "  } else {\n",
       "    var attempts = 0;\n",
       "    var timer = setInterval(function(root) {\n",
       "      if (root.Bokeh !== undefined) {\n",
       "        clearInterval(timer);\n",
       "        embed_document(root);\n",
       "      } else if (document.readyState == \"complete\") {\n",
       "        attempts++;\n",
       "        if (attempts > 100) {\n",
       "          clearInterval(timer);\n",
       "          console.log(\"Bokeh: ERROR: Unable to run BokehJS code because BokehJS library is missing\");\n",
       "        }\n",
       "      }\n",
       "    }, 10, root)\n",
       "  }\n",
       "})(window);</script>"
      ],
      "text/plain": [
       ":DynamicMap   [col]\n",
       "   :Layout\n",
       "      .Overlay.I :Overlay\n",
       "         .Histogram.I    :Histogram   [x]   (Frequency)\n",
       "         .Distribution.I :Distribution   [num_housing_median_age]   (Density)\n",
       "      .Table.I   :Table   [count,mean,std,min,25%,50%,75%,max]"
      ]
     },
     "execution_count": 31,
     "metadata": {
      "application/vnd.holoviews_exec.v0+json": {
       "id": "1001"
      }
     },
     "output_type": "execute_result"
    }
   ],
   "source": [
    "out = eda.get_density_plots(train_X, cols=['num_housing_median_age',\n",
    "       'num_total_rooms', 'num_total_bedrooms', 'num_population',\n",
    "       'num_households', 'num_median_income', 'num_rooms_per_household',\n",
    "       'num_population_per_household', 'num_bedrooms_per_room'])\n",
    "out"
   ]
  },
  {
   "cell_type": "code",
   "execution_count": 32,
   "metadata": {},
   "outputs": [],
   "source": [
    "# save the plots are html\n",
    "reports.create_report({'univariate': out}, name='feature_analysis_univariate')"
   ]
  },
  {
   "cell_type": "markdown",
   "metadata": {},
   "source": [
    "A report containing the above plot is available [here](https://drive.google.com/file/d/1oqlhJ_GifdEXOT0mOqnGoOIwBt1e5jd2/view?usp=sharing)\n"
   ]
  },
  {
   "cell_type": "markdown",
   "metadata": {},
   "source": [
    "Alternatively, the above plots can be generated as a single html as below. The output from this is available [here](https://drive.google.com/file/d/1mWvPLC2eAEIfNqIYDKpWuAwP6kInkMbw/view?usp=sharing)"
   ]
  },
  {
   "cell_type": "code",
   "execution_count": 33,
   "metadata": {},
   "outputs": [
    {
     "name": "stderr",
     "output_type": "stream",
     "text": [
      "p-value may not be accurate for N > 5000.\n"
     ]
    }
   ],
   "source": [
    "reports.feature_analysis(train_X,'./feature_analysis_report.html')"
   ]
  },
  {
   "cell_type": "markdown",
   "metadata": {},
   "source": [
    "### 3.2.2 Bivariate - mutual interactions"
   ]
  },
  {
   "cell_type": "markdown",
   "metadata": {},
   "source": [
    "- Find columns with high correlations and drop them"
   ]
  },
  {
   "cell_type": "code",
   "execution_count": 34,
   "metadata": {},
   "outputs": [
    {
     "data": {
      "text/html": [
       "<div>\n",
       "<style scoped>\n",
       "    .dataframe tbody tr th:only-of-type {\n",
       "        vertical-align: middle;\n",
       "    }\n",
       "\n",
       "    .dataframe tbody tr th {\n",
       "        vertical-align: top;\n",
       "    }\n",
       "\n",
       "    .dataframe thead th {\n",
       "        text-align: right;\n",
       "    }\n",
       "</style>\n",
       "<table border=\"1\" class=\"dataframe\">\n",
       "  <thead>\n",
       "    <tr style=\"text-align: right;\">\n",
       "      <th></th>\n",
       "      <th>Variable 1</th>\n",
       "      <th>Variable 2</th>\n",
       "      <th>Corr Coef</th>\n",
       "      <th>Abs Corr Coef</th>\n",
       "    </tr>\n",
       "  </thead>\n",
       "  <tbody>\n",
       "    <tr>\n",
       "      <th>0</th>\n",
       "      <td>num_households</td>\n",
       "      <td>num_total_bedrooms</td>\n",
       "      <td>0.970478</td>\n",
       "      <td>0.970478</td>\n",
       "    </tr>\n",
       "    <tr>\n",
       "      <th>1</th>\n",
       "      <td>num_latitude</td>\n",
       "      <td>num_longitude</td>\n",
       "      <td>-0.924018</td>\n",
       "      <td>0.924018</td>\n",
       "    </tr>\n",
       "    <tr>\n",
       "      <th>2</th>\n",
       "      <td>num_total_bedrooms</td>\n",
       "      <td>num_total_rooms</td>\n",
       "      <td>0.918230</td>\n",
       "      <td>0.918230</td>\n",
       "    </tr>\n",
       "    <tr>\n",
       "      <th>3</th>\n",
       "      <td>num_households</td>\n",
       "      <td>num_total_rooms</td>\n",
       "      <td>0.911455</td>\n",
       "      <td>0.911455</td>\n",
       "    </tr>\n",
       "    <tr>\n",
       "      <th>4</th>\n",
       "      <td>num_households</td>\n",
       "      <td>num_population</td>\n",
       "      <td>0.907583</td>\n",
       "      <td>0.907583</td>\n",
       "    </tr>\n",
       "    <tr>\n",
       "      <th>5</th>\n",
       "      <td>num_population</td>\n",
       "      <td>num_total_bedrooms</td>\n",
       "      <td>0.869576</td>\n",
       "      <td>0.869576</td>\n",
       "    </tr>\n",
       "    <tr>\n",
       "      <th>6</th>\n",
       "      <td>num_population</td>\n",
       "      <td>num_total_rooms</td>\n",
       "      <td>0.840291</td>\n",
       "      <td>0.840291</td>\n",
       "    </tr>\n",
       "    <tr>\n",
       "      <th>7</th>\n",
       "      <td>num_bedrooms_per_room</td>\n",
       "      <td>num_median_income</td>\n",
       "      <td>-0.629107</td>\n",
       "      <td>0.629107</td>\n",
       "    </tr>\n",
       "    <tr>\n",
       "      <th>8</th>\n",
       "      <td>ocean_proximity_&lt;1H OCEAN</td>\n",
       "      <td>ocean_proximity_INLAND</td>\n",
       "      <td>-0.605845</td>\n",
       "      <td>0.605845</td>\n",
       "    </tr>\n",
       "  </tbody>\n",
       "</table>\n",
       "</div>"
      ],
      "text/plain": [
       "                  Variable 1              Variable 2  Corr Coef  Abs Corr Coef\n",
       "0             num_households      num_total_bedrooms   0.970478       0.970478\n",
       "1               num_latitude           num_longitude  -0.924018       0.924018\n",
       "2         num_total_bedrooms         num_total_rooms   0.918230       0.918230\n",
       "3             num_households         num_total_rooms   0.911455       0.911455\n",
       "4             num_households          num_population   0.907583       0.907583\n",
       "5             num_population      num_total_bedrooms   0.869576       0.869576\n",
       "6             num_population         num_total_rooms   0.840291       0.840291\n",
       "7      num_bedrooms_per_room       num_median_income  -0.629107       0.629107\n",
       "8  ocean_proximity_<1H OCEAN  ocean_proximity_INLAND  -0.605845       0.605845"
      ]
     },
     "execution_count": 34,
     "metadata": {},
     "output_type": "execute_result"
    }
   ],
   "source": [
    "out = eda.get_correlation_table(train_X)\n",
    "out[out[\"Abs Corr Coef\"] > 0.6]"
   ]
  },
  {
   "cell_type": "code",
   "execution_count": 35,
   "metadata": {},
   "outputs": [
    {
     "data": {
      "text/html": [
       "<div>\n",
       "<style scoped>\n",
       "    .dataframe tbody tr th:only-of-type {\n",
       "        vertical-align: middle;\n",
       "    }\n",
       "\n",
       "    .dataframe tbody tr th {\n",
       "        vertical-align: top;\n",
       "    }\n",
       "\n",
       "    .dataframe thead th {\n",
       "        text-align: right;\n",
       "    }\n",
       "</style>\n",
       "<table border=\"1\" class=\"dataframe\">\n",
       "  <thead>\n",
       "    <tr style=\"text-align: right;\">\n",
       "      <th></th>\n",
       "      <th>Variable 1</th>\n",
       "      <th>Variable 2</th>\n",
       "      <th>Corr Coef</th>\n",
       "      <th>Abs Corr Coef</th>\n",
       "    </tr>\n",
       "  </thead>\n",
       "  <tbody>\n",
       "    <tr>\n",
       "      <th>0</th>\n",
       "      <td>num_households</td>\n",
       "      <td>num_total_bedrooms</td>\n",
       "      <td>0.970478</td>\n",
       "      <td>0.970478</td>\n",
       "    </tr>\n",
       "    <tr>\n",
       "      <th>1</th>\n",
       "      <td>num_latitude</td>\n",
       "      <td>num_longitude</td>\n",
       "      <td>-0.924018</td>\n",
       "      <td>0.924018</td>\n",
       "    </tr>\n",
       "    <tr>\n",
       "      <th>2</th>\n",
       "      <td>num_total_bedrooms</td>\n",
       "      <td>num_total_rooms</td>\n",
       "      <td>0.918230</td>\n",
       "      <td>0.918230</td>\n",
       "    </tr>\n",
       "    <tr>\n",
       "      <th>3</th>\n",
       "      <td>num_households</td>\n",
       "      <td>num_total_rooms</td>\n",
       "      <td>0.911455</td>\n",
       "      <td>0.911455</td>\n",
       "    </tr>\n",
       "    <tr>\n",
       "      <th>4</th>\n",
       "      <td>num_households</td>\n",
       "      <td>num_population</td>\n",
       "      <td>0.907583</td>\n",
       "      <td>0.907583</td>\n",
       "    </tr>\n",
       "    <tr>\n",
       "      <th>5</th>\n",
       "      <td>num_population</td>\n",
       "      <td>num_total_bedrooms</td>\n",
       "      <td>0.869576</td>\n",
       "      <td>0.869576</td>\n",
       "    </tr>\n",
       "    <tr>\n",
       "      <th>6</th>\n",
       "      <td>num_population</td>\n",
       "      <td>num_total_rooms</td>\n",
       "      <td>0.840291</td>\n",
       "      <td>0.840291</td>\n",
       "    </tr>\n",
       "    <tr>\n",
       "      <th>7</th>\n",
       "      <td>num_bedrooms_per_room</td>\n",
       "      <td>num_median_income</td>\n",
       "      <td>-0.629107</td>\n",
       "      <td>0.629107</td>\n",
       "    </tr>\n",
       "  </tbody>\n",
       "</table>\n",
       "</div>"
      ],
      "text/plain": [
       "              Variable 1          Variable 2  Corr Coef  Abs Corr Coef\n",
       "0         num_households  num_total_bedrooms   0.970478       0.970478\n",
       "1           num_latitude       num_longitude  -0.924018       0.924018\n",
       "2     num_total_bedrooms     num_total_rooms   0.918230       0.918230\n",
       "3         num_households     num_total_rooms   0.911455       0.911455\n",
       "4         num_households      num_population   0.907583       0.907583\n",
       "5         num_population  num_total_bedrooms   0.869576       0.869576\n",
       "6         num_population     num_total_rooms   0.840291       0.840291\n",
       "7  num_bedrooms_per_room   num_median_income  -0.629107       0.629107"
      ]
     },
     "execution_count": 35,
     "metadata": {},
     "output_type": "execute_result"
    }
   ],
   "source": [
    "# channel and source_channel highly correlated. So discarding source_channel\n",
    "# brand and manufacturer are almost same so discarding manufacturer.\n",
    "# Similarly keeping sku between inventory and sku\n",
    "# Similarly keeping condition between conditions and ext_grade\n",
    "# Similarly keeping model_family between platforms, ext_model_family and model_family\n",
    "# Discarding selling price & selling cost as they are multiples of unit price/cost & quantity.\n",
    "# Discarding gp as it is the of selling price and selling cost\n",
    "# order_no, line, invoice_no & customername cannot be IDVs\n",
    "curated_columns = list(\n",
    "    set(train_X.columns.to_list()) \n",
    "    - set(['num_population_per_household',\n",
    "        'ocean_proximity_NEAR OCEAN',  \n",
    "       'num_rooms_per_household', 'ocean_proximity_INLAND',\n",
    "       'ocean_proximity_ISLAND', 'ocean_proximity_NEAR BAY',\n",
    "       'ocean_proximity_<1H OCEAN'])\n",
    ")\n",
    "\n",
    "train_X = train_X[curated_columns]\n",
    "\n",
    "out = eda.get_correlation_table(train_X)\n",
    "out[out[\"Abs Corr Coef\"] > 0.6]"
   ]
  },
  {
   "cell_type": "code",
   "execution_count": 36,
   "metadata": {},
   "outputs": [
    {
     "data": {
      "text/plain": [
       "Index(['num_bedrooms_per_room', 'num_total_rooms', 'num_median_income',\n",
       "       'num_total_bedrooms', 'num_longitude', 'num_latitude',\n",
       "       'num_housing_median_age', 'num_population', 'num_households'],\n",
       "      dtype='object')"
      ]
     },
     "execution_count": 36,
     "metadata": {},
     "output_type": "execute_result"
    }
   ],
   "source": [
    "train_X.columns"
   ]
  },
  {
   "cell_type": "code",
   "execution_count": 37,
   "metadata": {},
   "outputs": [
    {
     "data": {},
     "metadata": {},
     "output_type": "display_data"
    },
    {
     "data": {
      "application/vnd.holoviews_exec.v0+json": "",
      "text/html": [
       "<div id='14676'>\n",
       "\n",
       "\n",
       "\n",
       "\n",
       "\n",
       "  <div class=\"bk-root\" id=\"ae771544-0f4f-4616-abf8-7a00c134c672\" data-root-id=\"14676\"></div>\n",
       "</div>\n",
       "<script type=\"application/javascript\">(function(root) {\n",
       "  function embed_document(root) {\n",
       "  var docs_json = {\"39be0bf3-4e16-4dec-8557-873ce3b8b7f9\":{\"roots\":{\"references\":[{\"attributes\":{\"axis_label\":\"num_households\",\"bounds\":\"auto\",\"formatter\":{\"id\":\"14711\"},\"major_label_orientation\":\"horizontal\",\"ticker\":{\"id\":\"14691\"}},\"id\":\"14690\",\"type\":\"LinearAxis\"},{\"attributes\":{\"callback\":null,\"renderers\":[{\"id\":\"14722\"}],\"tags\":[\"hv_created\"],\"tooltips\":[[\"Count\",\"@{Count}\"]]},\"id\":\"14680\",\"type\":\"HoverTool\"},{\"attributes\":{\"children\":[{\"id\":\"14677\"},{\"id\":\"14681\"},{\"id\":\"14808\"}],\"margin\":[0,0,0,0],\"name\":\"Row34396\",\"tags\":[\"embedded\"]},\"id\":\"14676\",\"type\":\"Row\"},{\"attributes\":{},\"id\":\"14702\",\"type\":\"ResetTool\"},{\"attributes\":{\"aspect_scale\":1.0040650893700598,\"fill_alpha\":{\"value\":0.2},\"fill_color\":{\"field\":\"Count\",\"transform\":{\"id\":\"14715\"}},\"line_alpha\":{\"value\":0.2},\"line_color\":{\"field\":\"Count\",\"transform\":{\"id\":\"14715\"}},\"q\":{\"field\":\"q\"},\"r\":{\"field\":\"r\"},\"size\":0.06927422189887124},\"id\":\"14721\",\"type\":\"HexTile\"},{\"attributes\":{\"bar_line_color\":\"black\",\"color_mapper\":{\"id\":\"14715\"},\"formatter\":{\"id\":\"14732\"},\"label_standoff\":8,\"location\":[0,0],\"major_tick_line_color\":\"black\",\"ticker\":{\"id\":\"14724\"}},\"id\":\"14725\",\"type\":\"ColorBar\"},{\"attributes\":{\"axis\":{\"id\":\"14694\"},\"dimension\":1,\"grid_line_color\":null,\"ticker\":null},\"id\":\"14697\",\"type\":\"Grid\"},{\"attributes\":{\"source\":{\"id\":\"14716\"}},\"id\":\"14723\",\"type\":\"CDSView\"},{\"attributes\":{\"text\":\"Correlation: 0.97\",\"text_color\":{\"value\":\"black\"},\"text_font_size\":{\"value\":\"12pt\"}},\"id\":\"14682\",\"type\":\"Title\"},{\"attributes\":{\"high\":614,\"low\":1,\"palette\":[\"#b3fef5\",\"#b0fef5\",\"#adfdf5\",\"#a9fcf5\",\"#a6fbf6\",\"#a3faf6\",\"#a0faf6\",\"#9df9f6\",\"#9af8f6\",\"#97f7f6\",\"#93f7f6\",\"#90f6f6\",\"#8df5f6\",\"#8af4f7\",\"#87f3f7\",\"#83f2f7\",\"#80f2f7\",\"#7df1f7\",\"#79f0f7\",\"#76eff7\",\"#73eef7\",\"#6fedf8\",\"#6cecf8\",\"#68ecf8\",\"#65ebf8\",\"#61eaf8\",\"#5ee9f8\",\"#5ae8f8\",\"#57e7f8\",\"#53e6f8\",\"#50e5f9\",\"#4ce4f9\",\"#49e3f9\",\"#45e2f9\",\"#42e1f9\",\"#3ee0f9\",\"#3bdff9\",\"#38def9\",\"#35ddf9\",\"#32dcf9\",\"#30dbfa\",\"#2ed9fa\",\"#2dd8fa\",\"#2cd7fa\",\"#2bd6fa\",\"#2bd5fa\",\"#2ad3fa\",\"#2ad2fa\",\"#29d1fa\",\"#29d0fb\",\"#29cffb\",\"#28cdfb\",\"#28ccfb\",\"#28cbfb\",\"#28cafb\",\"#28c8fb\",\"#28c7fb\",\"#29c6fb\",\"#29c5fb\",\"#29c4fb\",\"#29c2fb\",\"#2ac1fb\",\"#2ac0fb\",\"#2bbffb\",\"#2bbdfc\",\"#2cbcfc\",\"#2dbbfc\",\"#2db9fc\",\"#2eb8fc\",\"#2fb7fc\",\"#2fb6fc\",\"#30b4fc\",\"#31b3fc\",\"#32b2fc\",\"#32b0fc\",\"#33affc\",\"#33aefc\",\"#34adfc\",\"#34abfc\",\"#34aafc\",\"#35a9fc\",\"#35a8fc\",\"#35a6fc\",\"#35a5fc\",\"#35a4fc\",\"#35a3fc\",\"#35a1fc\",\"#35a0fc\",\"#359ffc\",\"#359dfc\",\"#359cfc\",\"#359bfc\",\"#349afd\",\"#3498fd\",\"#3497fd\",\"#3396fd\",\"#3395fd\",\"#3293fd\",\"#3292fd\",\"#3191fd\",\"#3090fd\",\"#308ffd\",\"#2f8dfd\",\"#2f8cfd\",\"#2e8bfd\",\"#2e8afd\",\"#2d88fd\",\"#2d87fd\",\"#2c86fd\",\"#2c84fd\",\"#2c83fd\",\"#2c82fd\",\"#2b81fd\",\"#2b7ffd\",\"#2b7efd\",\"#2b7dfd\",\"#2b7bfd\",\"#2b7afd\",\"#2b79fd\",\"#2b77fd\",\"#2b76fd\",\"#2b75fd\",\"#2b73fd\",\"#2c72fd\",\"#2c71fd\",\"#2c6ffd\",\"#2c6efd\",\"#2d6cfd\",\"#2d6bfd\",\"#2d6afc\",\"#2e68fc\",\"#2e67fc\",\"#2e65fc\",\"#2e64fc\",\"#2f62fc\",\"#2f61fc\",\"#2f5ffc\",\"#2f5efc\",\"#2f5dfc\",\"#2f5bfc\",\"#2f5afc\",\"#2f58fb\",\"#2f57fb\",\"#2f55fb\",\"#2f53fb\",\"#2f52fb\",\"#2f50fb\",\"#2f4ffb\",\"#2f4dfb\",\"#2e4cfb\",\"#2e4afb\",\"#2e48fb\",\"#2e47fa\",\"#2d45fa\",\"#2d43fa\",\"#2d42fa\",\"#2d40fa\",\"#2c3efa\",\"#2c3dfa\",\"#2b3bf9\",\"#2b39f9\",\"#2a37f9\",\"#2a36f8\",\"#2934f8\",\"#2832f7\",\"#2831f7\",\"#272ff6\",\"#262ef5\",\"#252cf5\",\"#252af4\",\"#2429f3\",\"#2327f2\",\"#2226f1\",\"#2124f0\",\"#2023ef\",\"#1f22ee\",\"#1e20ed\",\"#1d1feb\",\"#1c1eea\",\"#1b1ce9\",\"#1a1be7\",\"#181ae6\",\"#1719e5\",\"#1618e3\",\"#1417e1\",\"#1316e0\",\"#1215de\",\"#1014dc\",\"#0f13db\",\"#0e12d9\",\"#0d11d7\",\"#0c10d5\",\"#0b0fd3\",\"#0a0ed1\",\"#090dd0\",\"#080dce\",\"#080ccc\",\"#070bca\",\"#070ac8\",\"#0709c6\",\"#0708c4\",\"#0707c2\",\"#0707bf\",\"#0806bd\",\"#0806bb\",\"#0905b9\",\"#0904b7\",\"#0a04b5\",\"#0a04b2\",\"#0b03b0\",\"#0c03ae\",\"#0d02ab\",\"#0e02a9\",\"#0e02a7\",\"#0f02a4\",\"#0f01a2\",\"#1001a0\",\"#10019d\",\"#10019b\",\"#100199\",\"#100197\",\"#100194\",\"#0f0192\",\"#0f0190\",\"#0f018e\",\"#0e018b\",\"#0e0189\",\"#0d0187\",\"#0d0185\",\"#0c0183\",\"#0b0181\",\"#0b017e\",\"#0a017c\",\"#09017a\",\"#090178\",\"#080276\",\"#070274\",\"#060272\",\"#060270\",\"#05026e\",\"#04026c\",\"#030269\",\"#030267\",\"#020265\",\"#010263\",\"#010261\",\"#00025f\",\"#00025d\",\"#00025b\",\"#000259\",\"#000257\",\"#000255\",\"#000154\",\"#000152\",\"#000150\",\"#00004e\"]},\"id\":\"14715\",\"type\":\"LinearColorMapper\"},{\"attributes\":{},\"id\":\"14700\",\"type\":\"WheelZoomTool\"},{\"attributes\":{\"margin\":[5,5,5,5],\"name\":\"HSpacer34401\",\"sizing_mode\":\"stretch_width\"},\"id\":\"14808\",\"type\":\"Spacer\"},{\"attributes\":{\"data_source\":{\"id\":\"14716\"},\"glyph\":{\"id\":\"14719\"},\"hover_glyph\":null,\"muted_glyph\":{\"id\":\"14721\"},\"nonselection_glyph\":{\"id\":\"14720\"},\"selection_glyph\":null,\"view\":{\"id\":\"14723\"}},\"id\":\"14722\",\"type\":\"GlyphRenderer\"},{\"attributes\":{\"axis\":{\"id\":\"14690\"},\"grid_line_color\":null,\"ticker\":null},\"id\":\"14693\",\"type\":\"Grid\"},{\"attributes\":{},\"id\":\"14699\",\"type\":\"PanTool\"},{\"attributes\":{},\"id\":\"14695\",\"type\":\"BasicTicker\"},{\"attributes\":{\"axis_label\":\"num_total_bedrooms\",\"bounds\":\"auto\",\"formatter\":{\"id\":\"14713\"},\"major_label_orientation\":\"horizontal\",\"ticker\":{\"id\":\"14695\"}},\"id\":\"14694\",\"type\":\"LinearAxis\"},{\"attributes\":{\"aspect_scale\":1.0040650893700598,\"fill_color\":{\"field\":\"Count\",\"transform\":{\"id\":\"14715\"}},\"line_color\":{\"field\":\"Count\",\"transform\":{\"id\":\"14715\"}},\"q\":{\"field\":\"q\"},\"r\":{\"field\":\"r\"},\"size\":0.06927422189887124},\"id\":\"14719\",\"type\":\"HexTile\"},{\"attributes\":{\"end\":4.206428855142171,\"reset_end\":4.206428855142171,\"reset_start\":-2.028251115756241,\"start\":-2.028251115756241,\"tags\":[[[\"num_total_bedrooms\",\"num_total_bedrooms\",null]]]},\"id\":\"14679\",\"type\":\"Range1d\"},{\"attributes\":{\"margin\":[5,5,5,5],\"name\":\"HSpacer34400\",\"sizing_mode\":\"stretch_width\"},\"id\":\"14677\",\"type\":\"Spacer\"},{\"attributes\":{},\"id\":\"14735\",\"type\":\"UnionRenderers\"},{\"attributes\":{},\"id\":\"14713\",\"type\":\"BasicTickFormatter\"},{\"attributes\":{\"overlay\":{\"id\":\"14703\"}},\"id\":\"14701\",\"type\":\"BoxZoomTool\"},{\"attributes\":{},\"id\":\"14698\",\"type\":\"SaveTool\"},{\"attributes\":{},\"id\":\"14686\",\"type\":\"LinearScale\"},{\"attributes\":{\"active_drag\":\"auto\",\"active_inspect\":\"auto\",\"active_multi\":null,\"active_scroll\":\"auto\",\"active_tap\":\"auto\",\"tools\":[{\"id\":\"14680\"},{\"id\":\"14698\"},{\"id\":\"14699\"},{\"id\":\"14700\"},{\"id\":\"14701\"},{\"id\":\"14702\"}]},\"id\":\"14704\",\"type\":\"Toolbar\"},{\"attributes\":{\"end\":3.8986144098462914,\"reset_end\":3.8986144098462914,\"reset_start\":-1.793370469582678,\"start\":-1.793370469582678,\"tags\":[[[\"num_households\",\"num_households\",null]]]},\"id\":\"14678\",\"type\":\"Range1d\"},{\"attributes\":{\"bottom_units\":\"screen\",\"fill_alpha\":0.5,\"fill_color\":\"lightgrey\",\"left_units\":\"screen\",\"level\":\"overlay\",\"line_alpha\":1.0,\"line_color\":\"black\",\"line_dash\":[4,4],\"line_width\":2,\"right_units\":\"screen\",\"top_units\":\"screen\"},\"id\":\"14703\",\"type\":\"BoxAnnotation\"},{\"attributes\":{\"align\":null,\"below\":[{\"id\":\"14690\"}],\"center\":[{\"id\":\"14693\"},{\"id\":\"14697\"}],\"left\":[{\"id\":\"14694\"}],\"margin\":null,\"min_border_bottom\":10,\"min_border_left\":10,\"min_border_right\":10,\"min_border_top\":10,\"plot_height\":300,\"renderers\":[{\"id\":\"14722\"}],\"right\":[{\"id\":\"14725\"}],\"sizing_mode\":\"fixed\",\"title\":{\"id\":\"14682\"},\"toolbar\":{\"id\":\"14704\"},\"x_range\":{\"id\":\"14678\"},\"x_scale\":{\"id\":\"14686\"},\"y_range\":{\"id\":\"14679\"},\"y_scale\":{\"id\":\"14688\"}},\"id\":\"14681\",\"subtype\":\"Figure\",\"type\":\"Plot\"},{\"attributes\":{\"data\":{\"Count\":[614,159,171,542,265,383,23,70,14,232,8,489,275,533,560,5,19,31,34,67,537,24,68,103,271,212,26,63,246,367,9,186,4,12,131,245,66,195,70,434,397,246,149,134,12,3,41,15,50,298,115,306,44,12,73,125,18,80,29,107,31,2,15,207,169,41,5,8,7,92,5,240,354,1,389,1,75,24,97,17,8,68,15,49,26,10,16,15,65,9,32,40,99,13,20,117,10,20,142,144,27,42,23,9,42,27,193,186,178,1,64,3,25,1,73,4,82,11,59,19,5,2,3,6,101,7,1,11,34,20,1,15,51,14,4,11,22,16,16,73,19,7,1,17,20,4,11,15,17,2,8,1,83,5,19,5,30,5,20,7,19,28,6,9,1,2,113,44,10,5,4,9,3,6,28,29,10,10,15,1,13,4,41,21,58,2,8,14,41,24,6,17,8,6,1,3,4,3,44,20,2,5,10,40,5,5,2,47,8,1,5,46,1,3,7,4,3,20,4,50,3,12,1,40,4,23,1,5,1,3,5,7,4,5,19,4,2,17,7,1,9,2,1,2,7,3,1,11,10,7,2,7,6,15,3,6,9,9,1,4,6,2,9,9,4,8,2,1,9,11,5,5,2,1,3,1,8,2,5,1,20,3,1,5,2,3,4,1,5,2,3,2,3,2,3,7,3,1,6,5,7,3,2,2,10,4,3,5,2,2,2,5,2,2,7,1,3,1,2,5,6,7,5,2,2,1,1,5,5,3,1,4,3,5,2,2,16,5,5,6,2,1,2,1,1,2,1,6,9,5,1,7,1,1,1,10,4,3,1,2,5,1,3,2,15,2,4,2,1,4,4,2,3,3,7,7,4,1,2,1,1,2,1,2,1,2,5,3,1,1,2,2,1,3,5,3,5,1,3,1,2,1,1,3,6,2,2,1,3,1,4,1,2,3,1,1,3,1,3,3,1,1,1,1,1,1,3,1,1,3,1,1,3,2,2,2,4,3,1,1,1,1,1,1,1,1,2,1,1,3,6,2,2,1,2,2,7,1,2,1,2,1,1,1,3,1,1,1,1,1,2,2,3,2,1,1,1,1,1,1,5,1,2,2,1,1,1,1,1,1,1,1,1,3,1,1,1,1,1,1,1,2,2,2,1,1,2,1,1,2,1,1,1,1,1,2,1,1,1,1,1,1,2,2,2,1,1,1,1,1,1,1,1,2,1,1,1,1,1,2,1,1,2,1,2,1,1,1,1,1,1,1,1,1,1,1,1,1,1,1,1,1,1,1,1,1,1,1,1,1,1,1,1,1,1,1,1,1,1,1,1,1,1,1,1,1],\"q\":[-8,-5,-13,-5,2,-10,-15,7,1,1,-3,-11,-3,-7,-9,34,17,23,-5,12,-4,1,14,-1,48,-2,18,3,-14,-2,36,5,6,16,-4,-10,-16,1,-12,-6,-1,3,0,4,10,2,-11,24,7,0,2,-6,19,-11,12,9,12,-1,18,-17,4,13,-12,-15,4,6,4,0,33,8,45,-9,-3,25,-12,36,13,22,8,17,42,11,-8,15,22,47,21,15,6,23,-6,-14,-19,31,20,10,-6,-5,7,-18,11,10,13,20,13,19,-7,-13,6,29,-20,14,-3,0,3,36,-8,-6,9,-9,-9,18,47,4,-16,-20,36,-13,14,14,9,30,10,25,-12,18,5,29,-1,-4,25,-10,27,27,-2,-12,1,-14,16,-2,37,17,11,0,27,41,26,23,-2,35,26,8,17,2,43,19,5,16,41,13,-12,8,-10,8,5,21,21,3,9,38,12,18,-7,24,0,5,7,34,17,20,35,23,39,28,4,37,1,-13,-11,32,9,38,15,16,30,-17,-4,-8,35,-3,29,20,25,-15,19,13,44,-4,2,15,-15,28,34,2,-13,9,28,32,16,27,12,45,31,10,30,44,19,-17,14,-4,39,26,9,-7,22,42,39,-7,41,33,14,29,7,31,-6,26,24,25,41,39,4,24,29,33,2,-1,-16,20,-10,24,39,0,15,13,17,4,-8,-13,11,0,-10,40,1,25,4,-18,-3,-2,43,-4,33,-16,-14,11,19,47,-13,10,28,27,19,35,-16,29,6,-9,33,36,2,10,6,46,-10,-3,31,0,-8,-3,38,23,11,0,48,-12,10,2,27,-3,-18,-1,1,6,7,-10,11,7,-19,-1,26,43,1,43,13,11,36,35,-4,-11,22,21,-4,-8,10,11,40,40,46,43,26,7,46,22,20,40,-7,4,-11,-3,34,-5,-6,44,-11,34,21,38,7,-10,4,35,18,7,-2,-14,0,32,28,-11,18,22,14,2,19,-8,30,-9,40,0,44,-8,1,5,12,2,-5,-10,-4,7,-4,24,45,9,42,-16,24,4,6,-2,38,44,10,25,17,22,-9,5,19,29,12,46,-14,14,3,-7,5,43,-9,3,13,37,8,23,15,-4,17,3,36,41,13,-15,-6,13,-1,16,16,32,32,29,25,3,-7,23,3,20,-2,14,15,28,-2,30,-13,-12,5,8,-8,9,23,-15,31,3,42,13,38,18,5,-6,9,42,10,34,-19,37,-1,37,8,-3,5,5,24,20,20,37,-12,3,25,11,46,33,5,-11,-5,41,-7,8,-2,3,12,20,25,36,38,28,8,39,31,6,9,45,-14,38,0,-3,45,43,9,27,27,-3,22,17,14,42,22,32,23,30,8,23,26,9,5,3,-8,28,-17,-3,39,23,-5,7,20,17,12,-12,-9,41,30,-9,24,37,35,27,25,18,28,-7,30,5,4,18,29,21,13,-5,-1,30],\"r\":[6,3,9,4,-1,7,10,-4,1,0,0,8,3,5,7,-25,-13,-16,5,-9,3,-2,-10,0,-35,1,-12,-3,10,2,-25,-3,-8,-13,4,8,11,-1,8,5,1,-2,1,-2,-9,-9,7,-18,-6,0,-2,4,-13,6,-8,-6,-7,2,-13,12,-4,-7,7,11,-3,-3,-1,-2,-24,-6,-32,6,2,2,9,-23,-9,-16,-5,-11,-29,-7,4,-10,-15,-33,-14,-12,-5,-15,3,11,14,-22,-13,-7,6,2,-5,13,-9,-6,-8,-16,-10,-14,6,10,-4,3,14,-8,1,-4,-1,-26,5,2,-7,5,3,2,-35,-5,12,15,-35,8,-9,-11,-25,-22,-8,-17,3,-14,-2,-21,-1,2,-18,2,-24,-19,3,5,-3,9,-10,-4,-26,-10,-8,3,-20,-28,-18,-18,0,-26,-19,-7,-14,-3,-36,-19,-4,-11,-29,-12,6,-4,-1,-8,-5,-15,-16,-4,-8,-25,-10,-15,4,-17,-1,-11,-7,-24,-12,-15,-24,-17,-27,-21,-6,-27,-4,3,9,-23,-9,-29,-9,-12,-23,11,-3,7,-25,-6,-19,-14,-21,8,-12,-11,-32,1,2,-11,7,-20,-36,0,7,-5,-25,-22,-16,-21,-11,-31,-24,-5,-21,-31,3,13,-12,-4,-28,-21,-24,-4,-14,-31,-36,2,-30,-25,-14,-20,-3,-21,-1,-20,-19,-19,-27,-29,2,-20,-22,-23,3,3,9,-21,5,-16,-30,-3,-14,-25,-15,-13,3,4,-6,-6,6,-29,3,-16,-12,11,-2,-5,-31,-5,-22,10,8,-11,-17,-34,5,-21,-19,-18,-15,-27,8,-24,-6,2,-26,-27,-7,-10,2,-35,4,4,-23,-7,1,-7,-35,-19,-10,2,-36,4,2,-15,-35,-1,12,-3,-21,-7,-9,3,3,2,13,-2,-17,-30,-5,-35,-21,-18,-36,-28,-1,3,-17,-17,-6,2,-14,-12,-33,-28,-33,-32,-22,3,-34,-33,-17,-35,3,-7,2,-4,-28,0,1,-35,4,-26,-13,-28,-8,-3,-10,-30,-27,-20,-3,4,-11,-25,-22,5,-35,-30,-15,-5,-20,-2,-20,4,-27,-10,-30,-3,2,2,-24,-4,1,9,5,-11,0,-15,-33,-12,-34,7,2,-9,3,-7,-26,-33,-11,-22,-18,-31,-1,-15,-16,-35,-13,-32,3,3,0,-5,-12,-34,8,-5,-28,-24,-29,-25,-13,-2,-35,2,-24,-31,-14,9,0,2,-14,-15,-14,-26,-24,-18,3,3,0,-35,-14,-36,-2,-25,2,-23,-8,-25,6,2,-7,-28,-4,-21,3,12,-26,-9,-30,-31,-27,-11,3,-3,-17,-32,3,-23,12,-29,-6,-25,3,-12,-9,-8,-21,-18,2,-28,10,-7,-20,-13,-31,-27,-22,1,-2,-35,-1,-9,-1,-6,3,-12,-24,-29,-36,-24,-10,-33,-35,-2,-4,-36,6,-31,-14,-10,-35,-33,-20,-28,2,-8,-20,-17,-32,-33,-18,-27,-14,-26,-15,-24,-25,2,-20,-17,0,-18,10,-3,-35,-20,-5,-10,-22,3,-26,0,0,-32,-28,-2,-33,-30,-35,-31,-27,-31,-28,-6,-24,-1,3,-24,-26,-18,-15,-1,-4,-19]},\"selected\":{\"id\":\"14717\"},\"selection_policy\":{\"id\":\"14735\"}},\"id\":\"14716\",\"type\":\"ColumnDataSource\"},{\"attributes\":{},\"id\":\"14688\",\"type\":\"LinearScale\"},{\"attributes\":{},\"id\":\"14691\",\"type\":\"BasicTicker\"},{\"attributes\":{},\"id\":\"14711\",\"type\":\"BasicTickFormatter\"},{\"attributes\":{},\"id\":\"14724\",\"type\":\"BasicTicker\"},{\"attributes\":{},\"id\":\"14717\",\"type\":\"Selection\"},{\"attributes\":{\"aspect_scale\":1.0040650893700598,\"fill_alpha\":{\"value\":0.1},\"fill_color\":{\"field\":\"Count\",\"transform\":{\"id\":\"14715\"}},\"line_alpha\":{\"value\":0.1},\"line_color\":{\"field\":\"Count\",\"transform\":{\"id\":\"14715\"}},\"q\":{\"field\":\"q\"},\"r\":{\"field\":\"r\"},\"size\":0.06927422189887124},\"id\":\"14720\",\"type\":\"HexTile\"},{\"attributes\":{},\"id\":\"14732\",\"type\":\"BasicTickFormatter\"}],\"root_ids\":[\"14676\"]},\"title\":\"Bokeh Application\",\"version\":\"2.2.3\"}};\n",
       "  var render_items = [{\"docid\":\"39be0bf3-4e16-4dec-8557-873ce3b8b7f9\",\"root_ids\":[\"14676\"],\"roots\":{\"14676\":\"ae771544-0f4f-4616-abf8-7a00c134c672\"}}];\n",
       "  root.Bokeh.embed.embed_items_notebook(docs_json, render_items);\n",
       "  }\n",
       "if (root.Bokeh !== undefined) {\n",
       "    embed_document(root);\n",
       "  } else {\n",
       "    var attempts = 0;\n",
       "    var timer = setInterval(function(root) {\n",
       "      if (root.Bokeh !== undefined) {\n",
       "        clearInterval(timer);\n",
       "        embed_document(root);\n",
       "      } else if (document.readyState == \"complete\") {\n",
       "        attempts++;\n",
       "        if (attempts > 100) {\n",
       "          clearInterval(timer);\n",
       "          console.log(\"Bokeh: ERROR: Unable to run BokehJS code because BokehJS library is missing\");\n",
       "        }\n",
       "      }\n",
       "    }, 10, root)\n",
       "  }\n",
       "})(window);</script>"
      ],
      "text/plain": [
       ":HexTiles   [num_households,num_total_bedrooms]"
      ]
     },
     "execution_count": 37,
     "metadata": {
      "application/vnd.holoviews_exec.v0+json": {
       "id": "14676"
      }
     },
     "output_type": "execute_result"
    }
   ],
   "source": [
    "out = eda.get_bivariate_plots(train_X, x_cols=['num_households'], \n",
    "                              y_cols=['num_total_bedrooms'])\n",
    "out"
   ]
  },
  {
   "cell_type": "code",
   "execution_count": 38,
   "metadata": {},
   "outputs": [
    {
     "name": "stdout",
     "output_type": "stream",
     "text": [
      "CPU times: user 5.92 s, sys: 28.5 ms, total: 5.95 s\n",
      "Wall time: 5.94 s\n"
     ]
    }
   ],
   "source": [
    "%%time\n",
    "# create reports as needed\n",
    "cols = train_X.columns.to_list()\n",
    "all_plots = {}\n",
    "for ii, col1 in enumerate(cols): \n",
    "    for jj in range(ii+1, len(cols)):\n",
    "        col2 = cols[jj]\n",
    "        out = eda.get_bivariate_plots(train_X, x_cols=[col1], y_cols=[col2])\n",
    "        all_plots.update({f'{col2} vs {col1}': out})\n",
    "\n",
    "reports.create_report(all_plots, name='feature_analysis_bivariate')"
   ]
  },
  {
   "cell_type": "markdown",
   "metadata": {},
   "source": [
    "A report containing the bivariate plot is available [here](https://drive.google.com/file/d/1S3JXE1TTwuALugqL5I4zsRpjYy9vIXZy/view?usp=sharing)\n",
    "\n",
    "Alternatively, the above plots can be generated as a single html as below. The output from this is available [here](https://drive.google.com/file/d/12o2Q7O6q2Zck0cHBQ36WDeWuy7b4athM/view?usp=sharing)"
   ]
  },
  {
   "cell_type": "code",
   "execution_count": 39,
   "metadata": {},
   "outputs": [],
   "source": [
    "reports.feature_interactions(train_X,'./feature_interaction_report.html')"
   ]
  },
  {
   "cell_type": "markdown",
   "metadata": {},
   "source": [
    "### 3.2.3 Key Drivers - Interaction with Target variable"
   ]
  },
  {
   "cell_type": "code",
   "execution_count": 40,
   "metadata": {},
   "outputs": [
    {
     "data": {},
     "metadata": {},
     "output_type": "display_data"
    },
    {
     "data": {},
     "metadata": {},
     "output_type": "display_data"
    },
    {
     "data": {
      "application/vnd.holoviews_exec.v0+json": "",
      "text/html": [
       "<div id='25973'>\n",
       "\n",
       "\n",
       "\n",
       "\n",
       "\n",
       "  <div class=\"bk-root\" id=\"b20b4986-b025-4103-b624-c46f5793b0b6\" data-root-id=\"25973\"></div>\n",
       "</div>\n",
       "<script type=\"application/javascript\">(function(root) {\n",
       "  function embed_document(root) {\n",
       "  var docs_json = {\"3d20d1c0-fbcb-41b4-8791-b89dc673c380\":{\"roots\":{\"references\":[{\"attributes\":{},\"id\":\"25984\",\"type\":\"CategoricalScale\"},{\"attributes\":{\"axis\":{\"id\":\"26047\"},\"grid_line_color\":null,\"ticker\":null},\"id\":\"26050\",\"type\":\"Grid\"},{\"attributes\":{\"data_source\":{\"id\":\"26067\"},\"glyph\":{\"id\":\"26070\"},\"hover_glyph\":null,\"muted_glyph\":{\"id\":\"26072\"},\"nonselection_glyph\":{\"id\":\"26071\"},\"selection_glyph\":null,\"view\":{\"id\":\"26074\"}},\"id\":\"26073\",\"type\":\"GlyphRenderer\"},{\"attributes\":{\"callback\":null,\"renderers\":[{\"id\":\"26073\"}],\"tags\":[\"hv_created\"],\"tooltips\":[[\"index\",\"@{index}\"],[\"Mutual_information_with_Target\",\"@{Mutual_information_with_Target}\"]]},\"id\":\"26037\",\"type\":\"HoverTool\"},{\"attributes\":{},\"id\":\"26025\",\"type\":\"UnionRenderers\"},{\"attributes\":{},\"id\":\"25994\",\"type\":\"PanTool\"},{\"attributes\":{\"overlay\":{\"id\":\"25998\"}},\"id\":\"25996\",\"type\":\"BoxZoomTool\"},{\"attributes\":{},\"id\":\"26014\",\"type\":\"BasicTickFormatter\"},{\"attributes\":{},\"id\":\"26054\",\"type\":\"SaveTool\"},{\"attributes\":{},\"id\":\"26045\",\"type\":\"CategoricalScale\"},{\"attributes\":{\"data\":{\"Mutual_information_with_Target\":{\"__ndarray__\":\"AAtg+PGsqD8Ai5+9omGsPwBbzx2Fya0/gIoXqaI0sD+AjHkjEIi3P4CQlQeIFsA/wPlYi4+qwT8A+EGH+ObIP+CxSVcZ1No/\",\"dtype\":\"float64\",\"order\":\"little\",\"shape\":[9]},\"index\":[\"num_housing_median_age\",\"num_total_bedrooms\",\"num_households\",\"num_population\",\"num_total_rooms\",\"num_latitude\",\"num_longitude\",\"num_bedrooms_per_room\",\"num_median_income\"]},\"selected\":{\"id\":\"26068\"},\"selection_policy\":{\"id\":\"26086\"}},\"id\":\"26067\",\"type\":\"ColumnDataSource\"},{\"attributes\":{},\"id\":\"25997\",\"type\":\"ResetTool\"},{\"attributes\":{},\"id\":\"26077\",\"type\":\"CategoricalTickFormatter\"},{\"attributes\":{\"end\":0.7897091779377304,\"reset_end\":0.7897091779377304,\"reset_start\":-0.34471640900899114,\"start\":-0.34471640900899114,\"tags\":[[[\"Pearson_correlation_with_Target\",\"Pearson_correlation_with_Target\",null]]]},\"id\":\"25974\",\"type\":\"Range1d\"},{\"attributes\":{\"bottom_units\":\"screen\",\"fill_alpha\":0.5,\"fill_color\":\"lightgrey\",\"left_units\":\"screen\",\"level\":\"overlay\",\"line_alpha\":1.0,\"line_color\":\"black\",\"line_dash\":[4,4],\"line_width\":2,\"right_units\":\"screen\",\"top_units\":\"screen\"},\"id\":\"25998\",\"type\":\"BoxAnnotation\"},{\"attributes\":{},\"id\":\"26007\",\"type\":\"Selection\"},{\"attributes\":{},\"id\":\"26068\",\"type\":\"Selection\"},{\"attributes\":{},\"id\":\"26086\",\"type\":\"UnionRenderers\"},{\"attributes\":{},\"id\":\"25995\",\"type\":\"WheelZoomTool\"},{\"attributes\":{\"axis\":{\"id\":\"25990\"},\"dimension\":1,\"grid_line_color\":null,\"ticker\":null},\"id\":\"25992\",\"type\":\"Grid\"},{\"attributes\":{\"source\":{\"id\":\"26067\"}},\"id\":\"26074\",\"type\":\"CDSView\"},{\"attributes\":{},\"id\":\"25982\",\"type\":\"LinearScale\"},{\"attributes\":{\"source\":{\"id\":\"26006\"}},\"id\":\"26013\",\"type\":\"CDSView\"},{\"attributes\":{\"active_drag\":\"auto\",\"active_inspect\":\"auto\",\"active_multi\":null,\"active_scroll\":\"auto\",\"active_tap\":\"auto\",\"tools\":[{\"id\":\"26037\"},{\"id\":\"26054\"},{\"id\":\"26055\"},{\"id\":\"26056\"},{\"id\":\"26057\"},{\"id\":\"26058\"}]},\"id\":\"26060\",\"type\":\"Toolbar\"},{\"attributes\":{\"text\":\"Mutual Information with Target\",\"text_color\":{\"value\":\"black\"},\"text_font_size\":{\"value\":\"12pt\"}},\"id\":\"26039\",\"type\":\"Title\"},{\"attributes\":{},\"id\":\"26055\",\"type\":\"PanTool\"},{\"attributes\":{\"axis_label\":\"\",\"bounds\":\"auto\",\"formatter\":{\"id\":\"26077\"},\"major_label_orientation\":\"horizontal\",\"ticker\":{\"id\":\"26052\"}},\"id\":\"26051\",\"type\":\"CategoricalAxis\"},{\"attributes\":{\"bottom_units\":\"screen\",\"fill_alpha\":0.5,\"fill_color\":\"lightgrey\",\"left_units\":\"screen\",\"level\":\"overlay\",\"line_alpha\":1.0,\"line_color\":\"black\",\"line_dash\":[4,4],\"line_width\":2,\"right_units\":\"screen\",\"top_units\":\"screen\"},\"id\":\"26059\",\"type\":\"BoxAnnotation\"},{\"attributes\":{\"active_drag\":\"auto\",\"active_inspect\":\"auto\",\"active_multi\":null,\"active_scroll\":\"auto\",\"active_tap\":\"auto\",\"tools\":[{\"id\":\"25976\"},{\"id\":\"25993\"},{\"id\":\"25994\"},{\"id\":\"25995\"},{\"id\":\"25996\"},{\"id\":\"25997\"}]},\"id\":\"25999\",\"type\":\"Toolbar\"},{\"attributes\":{},\"id\":\"26048\",\"type\":\"BasicTicker\"},{\"attributes\":{\"align\":null,\"below\":[{\"id\":\"26047\"}],\"center\":[{\"id\":\"26050\"},{\"id\":\"26053\"}],\"left\":[{\"id\":\"26051\"}],\"margin\":null,\"min_border_bottom\":10,\"min_border_left\":10,\"min_border_right\":10,\"min_border_top\":10,\"plot_height\":300,\"plot_width\":700,\"renderers\":[{\"id\":\"26073\"}],\"sizing_mode\":\"fixed\",\"title\":{\"id\":\"26039\"},\"toolbar\":{\"id\":\"26060\"},\"x_range\":{\"id\":\"26035\"},\"x_scale\":{\"id\":\"26043\"},\"y_range\":{\"id\":\"25975\"},\"y_scale\":{\"id\":\"26045\"}},\"id\":\"26038\",\"subtype\":\"Figure\",\"type\":\"Plot\"},{\"attributes\":{\"child\":{\"id\":\"25977\"},\"name\":\"feature_correlation\",\"title\":\"feature_correlation\"},\"id\":\"26034\",\"type\":\"Panel\"},{\"attributes\":{},\"id\":\"26056\",\"type\":\"WheelZoomTool\"},{\"attributes\":{},\"id\":\"26052\",\"type\":\"CategoricalTicker\"},{\"attributes\":{\"data_source\":{\"id\":\"26006\"},\"glyph\":{\"id\":\"26009\"},\"hover_glyph\":null,\"muted_glyph\":{\"id\":\"26011\"},\"nonselection_glyph\":{\"id\":\"26010\"},\"selection_glyph\":null,\"view\":{\"id\":\"26013\"}},\"id\":\"26012\",\"type\":\"GlyphRenderer\"},{\"attributes\":{\"child\":{\"id\":\"26038\"},\"name\":\"mutual_information\",\"title\":\"mutual_information\"},\"id\":\"26095\",\"type\":\"Panel\"},{\"attributes\":{\"axis\":{\"id\":\"25986\"},\"grid_line_color\":null,\"ticker\":null},\"id\":\"25989\",\"type\":\"Grid\"},{\"attributes\":{},\"id\":\"25991\",\"type\":\"CategoricalTicker\"},{\"attributes\":{},\"id\":\"26043\",\"type\":\"LinearScale\"},{\"attributes\":{\"axis_label\":\"\",\"bounds\":\"auto\",\"formatter\":{\"id\":\"26016\"},\"major_label_orientation\":\"horizontal\",\"ticker\":{\"id\":\"25991\"}},\"id\":\"25990\",\"type\":\"CategoricalAxis\"},{\"attributes\":{\"fill_alpha\":{\"value\":0.1},\"fill_color\":{\"value\":\"#1f77b3\"},\"height\":{\"value\":0.8},\"line_alpha\":{\"value\":0.1},\"right\":{\"field\":\"Pearson_correlation_with_Target\"},\"y\":{\"field\":\"index\"}},\"id\":\"26010\",\"type\":\"HBar\"},{\"attributes\":{},\"id\":\"26075\",\"type\":\"BasicTickFormatter\"},{\"attributes\":{},\"id\":\"26058\",\"type\":\"ResetTool\"},{\"attributes\":{\"fill_alpha\":{\"value\":0.1},\"fill_color\":{\"value\":\"#1f77b3\"},\"height\":{\"value\":0.8},\"line_alpha\":{\"value\":0.1},\"right\":{\"field\":\"Mutual_information_with_Target\"},\"y\":{\"field\":\"index\"}},\"id\":\"26071\",\"type\":\"HBar\"},{\"attributes\":{\"axis_label\":\"Mutual_information_with_Target\",\"bounds\":\"auto\",\"formatter\":{\"id\":\"26075\"},\"major_label_orientation\":\"horizontal\",\"ticker\":{\"id\":\"26048\"}},\"id\":\"26047\",\"type\":\"LinearAxis\"},{\"attributes\":{\"callback\":null,\"renderers\":[{\"id\":\"26012\"}],\"tags\":[\"hv_created\"],\"tooltips\":[[\"index\",\"@{index}\"],[\"Pearson_correlation_with_Target\",\"@{Pearson_correlation_with_Target}\"]]},\"id\":\"25976\",\"type\":\"HoverTool\"},{\"attributes\":{\"fill_alpha\":{\"value\":0.2},\"fill_color\":{\"value\":\"#1f77b3\"},\"height\":{\"value\":0.8},\"line_alpha\":{\"value\":0.2},\"right\":{\"field\":\"Pearson_correlation_with_Target\"},\"y\":{\"field\":\"index\"}},\"id\":\"26011\",\"type\":\"HBar\"},{\"attributes\":{\"factors\":[\"num_bedrooms_per_room\",\"num_latitude\",\"num_longitude\",\"num_population\",\"num_total_bedrooms\",\"num_households\",\"num_housing_median_age\",\"num_total_rooms\",\"num_median_income\"],\"tags\":[[[\"index\",\"index\",null]]]},\"id\":\"25975\",\"type\":\"FactorRange\"},{\"attributes\":{\"margin\":[0,0,0,0],\"tabs\":[{\"id\":\"26034\"},{\"id\":\"26095\"}]},\"id\":\"25973\",\"type\":\"Tabs\"},{\"attributes\":{},\"id\":\"25987\",\"type\":\"BasicTicker\"},{\"attributes\":{\"overlay\":{\"id\":\"26059\"}},\"id\":\"26057\",\"type\":\"BoxZoomTool\"},{\"attributes\":{\"text\":\"Feature Correlation with Target Function\",\"text_color\":{\"value\":\"black\"},\"text_font_size\":{\"value\":\"12pt\"}},\"id\":\"25978\",\"type\":\"Title\"},{\"attributes\":{\"fill_color\":{\"value\":\"#1f77b3\"},\"height\":{\"value\":0.8},\"right\":{\"field\":\"Mutual_information_with_Target\"},\"y\":{\"field\":\"index\"}},\"id\":\"26070\",\"type\":\"HBar\"},{\"attributes\":{\"axis_label\":\"Pearson_correlation_with_Target\",\"bounds\":\"auto\",\"formatter\":{\"id\":\"26014\"},\"major_label_orientation\":\"horizontal\",\"ticker\":{\"id\":\"25987\"}},\"id\":\"25986\",\"type\":\"LinearAxis\"},{\"attributes\":{},\"id\":\"26016\",\"type\":\"CategoricalTickFormatter\"},{\"attributes\":{\"fill_color\":{\"value\":\"#1f77b3\"},\"height\":{\"value\":0.8},\"right\":{\"field\":\"Pearson_correlation_with_Target\"},\"y\":{\"field\":\"index\"}},\"id\":\"26009\",\"type\":\"HBar\"},{\"attributes\":{},\"id\":\"25993\",\"type\":\"SaveTool\"},{\"attributes\":{\"fill_alpha\":{\"value\":0.2},\"fill_color\":{\"value\":\"#1f77b3\"},\"height\":{\"value\":0.8},\"line_alpha\":{\"value\":0.2},\"right\":{\"field\":\"Mutual_information_with_Target\"},\"y\":{\"field\":\"index\"}},\"id\":\"26072\",\"type\":\"HBar\"},{\"attributes\":{\"client_comm_id\":\"02abdcc9f1a04db5bfd043d90310197f\",\"comm_id\":\"dcefe2e1d54c4436b63cbc9d40dfad55\",\"plot_id\":\"25973\"},\"id\":\"26144\",\"type\":\"panel.models.comm_manager.CommManager\"},{\"attributes\":{\"align\":null,\"below\":[{\"id\":\"25986\"}],\"center\":[{\"id\":\"25989\"},{\"id\":\"25992\"}],\"left\":[{\"id\":\"25990\"}],\"margin\":null,\"min_border_bottom\":10,\"min_border_left\":10,\"min_border_right\":10,\"min_border_top\":10,\"plot_height\":300,\"plot_width\":700,\"renderers\":[{\"id\":\"26012\"}],\"sizing_mode\":\"fixed\",\"title\":{\"id\":\"25978\"},\"toolbar\":{\"id\":\"25999\"},\"x_range\":{\"id\":\"25974\"},\"x_scale\":{\"id\":\"25982\"},\"y_range\":{\"id\":\"25975\"},\"y_scale\":{\"id\":\"25984\"}},\"id\":\"25977\",\"subtype\":\"Figure\",\"type\":\"Plot\"},{\"attributes\":{\"data\":{\"Pearson_correlation_with_Target\":{\"__ndarray__\":\"LFeH7vYC0L+cb7eNJuLCv4263vBnv6W/+ZqWbxJwoL+peeQtAm2rPzbP04q1fLI//JAVw1NEuj+KGJCJha7DP/3X8/DcPuY/\",\"dtype\":\"float64\",\"order\":\"little\",\"shape\":[9]},\"index\":[\"num_bedrooms_per_room\",\"num_latitude\",\"num_longitude\",\"num_population\",\"num_total_bedrooms\",\"num_households\",\"num_housing_median_age\",\"num_total_rooms\",\"num_median_income\"]},\"selected\":{\"id\":\"26007\"},\"selection_policy\":{\"id\":\"26025\"}},\"id\":\"26006\",\"type\":\"ColumnDataSource\"},{\"attributes\":{\"axis\":{\"id\":\"26051\"},\"dimension\":1,\"grid_line_color\":null,\"ticker\":null},\"id\":\"26053\",\"type\":\"Grid\"},{\"attributes\":{\"end\":0.45629559765753136,\"reset_end\":0.45629559765753136,\"reset_start\":0.0,\"tags\":[[[\"Mutual_information_with_Target\",\"Mutual_information_with_Target\",null]]]},\"id\":\"26035\",\"type\":\"Range1d\"}],\"root_ids\":[\"25973\",\"26144\"]},\"title\":\"Bokeh Application\",\"version\":\"2.2.3\"}};\n",
       "  var render_items = [{\"docid\":\"3d20d1c0-fbcb-41b4-8791-b89dc673c380\",\"root_ids\":[\"25973\"],\"roots\":{\"25973\":\"b20b4986-b025-4103-b624-c46f5793b0b6\"}}];\n",
       "  root.Bokeh.embed.embed_items_notebook(docs_json, render_items);\n",
       "  }\n",
       "if (root.Bokeh !== undefined) {\n",
       "    embed_document(root);\n",
       "  } else {\n",
       "    var attempts = 0;\n",
       "    var timer = setInterval(function(root) {\n",
       "      if (root.Bokeh !== undefined) {\n",
       "        clearInterval(timer);\n",
       "        embed_document(root);\n",
       "      } else if (document.readyState == \"complete\") {\n",
       "        attempts++;\n",
       "        if (attempts > 100) {\n",
       "          clearInterval(timer);\n",
       "          console.log(\"Bokeh: ERROR: Unable to run BokehJS code because BokehJS library is missing\");\n",
       "        }\n",
       "      }\n",
       "    }, 10, root)\n",
       "  }\n",
       "})(window);</script>"
      ],
      "text/plain": [
       "Tabs\n",
       "    [0] HoloViews(Bars, name='feature_correlation')\n",
       "    [1] HoloViews(Bars, name='mutual_information')"
      ]
     },
     "execution_count": 40,
     "metadata": {
      "application/vnd.holoviews_exec.v0+json": {
       "id": "25973"
      }
     },
     "output_type": "execute_result"
    }
   ],
   "source": [
    "out = eda.get_target_correlation(train_X, train_y)\n",
    "display_as_tabs([(k, v) for k,v in out.items()])"
   ]
  },
  {
   "cell_type": "code",
   "execution_count": 67,
   "metadata": {},
   "outputs": [
    {
     "data": {},
     "metadata": {},
     "output_type": "display_data"
    },
    {
     "data": {},
     "metadata": {},
     "output_type": "display_data"
    },
    {
     "data": {
      "application/vnd.holoviews_exec.v0+json": "",
      "text/html": [
       "<div id='49638'>\n",
       "\n",
       "\n",
       "\n",
       "\n",
       "\n",
       "  <div class=\"bk-root\" id=\"5058af74-1890-4e68-a649-6e128e30da50\" data-root-id=\"49638\"></div>\n",
       "</div>\n",
       "<script type=\"application/javascript\">(function(root) {\n",
       "  function embed_document(root) {\n",
       "  var docs_json = {\"3b4d9061-b122-4177-98e2-b64eef9d1a1a\":{\"roots\":{\"references\":[{\"attributes\":{},\"id\":\"49647\",\"type\":\"LinearScale\"},{\"attributes\":{},\"id\":\"49690\",\"type\":\"UnionRenderers\"},{\"attributes\":{\"client_comm_id\":\"a44a6021d3274e5e8c277041252ab8f7\",\"comm_id\":\"3775c8e54c02414ca6dbddb020b55d90\",\"plot_id\":\"49638\"},\"id\":\"49726\",\"type\":\"panel.models.comm_manager.CommManager\"},{\"attributes\":{},\"id\":\"49679\",\"type\":\"BasicTickFormatter\"},{\"attributes\":{},\"id\":\"49652\",\"type\":\"BasicTicker\"},{\"attributes\":{\"child\":{\"id\":\"49700\"},\"name\":\"shap_values\",\"title\":\"shap_values\"},\"id\":\"49701\",\"type\":\"Panel\"},{\"attributes\":{\"text\":\"Feature Importances from LassoCV\",\"text_color\":{\"value\":\"black\"},\"text_font_size\":{\"value\":\"12pt\"}},\"id\":\"49643\",\"type\":\"Title\"},{\"attributes\":{\"source\":{\"id\":\"49671\"}},\"id\":\"49678\",\"type\":\"CDSView\"},{\"attributes\":{\"callback\":null,\"renderers\":[{\"id\":\"49677\"}],\"tags\":[\"hv_created\"],\"tooltips\":[[\"index\",\"@{index}\"],[\"importance\",\"@{importance}\"]]},\"id\":\"49641\",\"type\":\"HoverTool\"},{\"attributes\":{\"fill_alpha\":{\"value\":0.1},\"fill_color\":{\"value\":\"#1f77b3\"},\"height\":{\"value\":0.8},\"line_alpha\":{\"value\":0.1},\"right\":{\"field\":\"importance\"},\"y\":{\"field\":\"index\"}},\"id\":\"49675\",\"type\":\"HBar\"},{\"attributes\":{\"child\":{\"id\":\"49642\"},\"name\":\"from_model\",\"title\":\"from_model\"},\"id\":\"49699\",\"type\":\"Panel\"},{\"attributes\":{\"fill_alpha\":{\"value\":0.2},\"fill_color\":{\"value\":\"#1f77b3\"},\"height\":{\"value\":0.8},\"line_alpha\":{\"value\":0.2},\"right\":{\"field\":\"importance\"},\"y\":{\"field\":\"index\"}},\"id\":\"49676\",\"type\":\"HBar\"},{\"attributes\":{},\"id\":\"49662\",\"type\":\"ResetTool\"},{\"attributes\":{\"overlay\":{\"id\":\"49663\"}},\"id\":\"49661\",\"type\":\"BoxZoomTool\"},{\"attributes\":{\"axis\":{\"id\":\"49651\"},\"grid_line_color\":null,\"ticker\":null},\"id\":\"49654\",\"type\":\"Grid\"},{\"attributes\":{},\"id\":\"49656\",\"type\":\"CategoricalTicker\"},{\"attributes\":{\"factors\":[\"num_latitude\",\"num_longitude\",\"num_population\",\"num_total_rooms\",\"num_housing_median_age\",\"num_bedrooms_per_room\",\"num_total_bedrooms\",\"num_households\",\"num_median_income\"],\"tags\":[[[\"index\",\"index\",null]]]},\"id\":\"49640\",\"type\":\"FactorRange\"},{\"attributes\":{},\"id\":\"49660\",\"type\":\"WheelZoomTool\"},{\"attributes\":{\"active_drag\":\"auto\",\"active_inspect\":\"auto\",\"active_multi\":null,\"active_scroll\":\"auto\",\"active_tap\":\"auto\",\"tools\":[{\"id\":\"49641\"},{\"id\":\"49658\"},{\"id\":\"49659\"},{\"id\":\"49660\"},{\"id\":\"49661\"},{\"id\":\"49662\"}]},\"id\":\"49664\",\"type\":\"Toolbar\"},{\"attributes\":{\"data\":{\"importance\":{\"__ndarray__\":\"bFSM1kwhVMCQmIx3lLZSwDkv/ZY/GEXA2LE8QHGUoD/qp4NpJWouQGBSfWbFYjBA+F+tgfa0MUBEcR5CTFE8QJXhXIgKZlNA\",\"dtype\":\"float64\",\"order\":\"little\",\"shape\":[9]},\"index\":[\"num_latitude\",\"num_longitude\",\"num_population\",\"num_total_rooms\",\"num_housing_median_age\",\"num_bedrooms_per_room\",\"num_total_bedrooms\",\"num_households\",\"num_median_income\"]},\"selected\":{\"id\":\"49672\"},\"selection_policy\":{\"id\":\"49690\"}},\"id\":\"49671\",\"type\":\"ColumnDataSource\"},{\"attributes\":{\"end\":93.40586363170507,\"reset_end\":93.40586363170507,\"reset_start\":-96.33178559285669,\"start\":-96.33178559285669,\"tags\":[[[\"importance\",\"importance\",null]]]},\"id\":\"49639\",\"type\":\"Range1d\"},{\"attributes\":{\"data_source\":{\"id\":\"49671\"},\"glyph\":{\"id\":\"49674\"},\"hover_glyph\":null,\"muted_glyph\":{\"id\":\"49676\"},\"nonselection_glyph\":{\"id\":\"49675\"},\"selection_glyph\":null,\"view\":{\"id\":\"49678\"}},\"id\":\"49677\",\"type\":\"GlyphRenderer\"},{\"attributes\":{},\"id\":\"49649\",\"type\":\"CategoricalScale\"},{\"attributes\":{\"bottom_units\":\"screen\",\"fill_alpha\":0.5,\"fill_color\":\"lightgrey\",\"left_units\":\"screen\",\"level\":\"overlay\",\"line_alpha\":1.0,\"line_color\":\"black\",\"line_dash\":[4,4],\"line_width\":2,\"right_units\":\"screen\",\"top_units\":\"screen\"},\"id\":\"49663\",\"type\":\"BoxAnnotation\"},{\"attributes\":{},\"id\":\"49672\",\"type\":\"Selection\"},{\"attributes\":{\"axis\":{\"id\":\"49655\"},\"dimension\":1,\"grid_line_color\":null,\"ticker\":null},\"id\":\"49657\",\"type\":\"Grid\"},{\"attributes\":{\"axis_label\":\"Features\",\"bounds\":\"auto\",\"formatter\":{\"id\":\"49681\"},\"major_label_orientation\":\"horizontal\",\"ticker\":{\"id\":\"49656\"}},\"id\":\"49655\",\"type\":\"CategoricalAxis\"},{\"attributes\":{\"margin\":[0,0,0,0],\"tabs\":[{\"id\":\"49699\"},{\"id\":\"49701\"}]},\"id\":\"49638\",\"type\":\"Tabs\"},{\"attributes\":{},\"id\":\"49659\",\"type\":\"PanTool\"},{\"attributes\":{},\"id\":\"49681\",\"type\":\"CategoricalTickFormatter\"},{\"attributes\":{\"axis_label\":\"Feature Importance [determined by coeff * mean(x)]\",\"bounds\":\"auto\",\"formatter\":{\"id\":\"49679\"},\"major_label_orientation\":\"horizontal\",\"ticker\":{\"id\":\"49652\"}},\"id\":\"49651\",\"type\":\"LinearAxis\"},{\"attributes\":{\"height\":367,\"margin\":[5,5,5,5],\"name\":\"shap_values\",\"text\":\"&lt;img src=&quot;data:image/png;base64,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&quot; width=&quot;576px&quot; height=&quot;367px&quot; alt=&quot;&quot;&gt;&lt;/img&gt;\",\"width\":576},\"id\":\"49700\",\"type\":\"panel.models.markup.HTML\"},{\"attributes\":{},\"id\":\"49658\",\"type\":\"SaveTool\"},{\"attributes\":{\"align\":null,\"below\":[{\"id\":\"49651\"}],\"center\":[{\"id\":\"49654\"},{\"id\":\"49657\"}],\"left\":[{\"id\":\"49655\"}],\"margin\":null,\"min_border_bottom\":10,\"min_border_left\":10,\"min_border_right\":10,\"min_border_top\":10,\"plot_height\":300,\"plot_width\":700,\"renderers\":[{\"id\":\"49677\"}],\"sizing_mode\":\"fixed\",\"title\":{\"id\":\"49643\"},\"toolbar\":{\"id\":\"49664\"},\"x_range\":{\"id\":\"49639\"},\"x_scale\":{\"id\":\"49647\"},\"y_range\":{\"id\":\"49640\"},\"y_scale\":{\"id\":\"49649\"}},\"id\":\"49642\",\"subtype\":\"Figure\",\"type\":\"Plot\"},{\"attributes\":{\"fill_color\":{\"value\":\"#1f77b3\"},\"height\":{\"value\":0.8},\"right\":{\"field\":\"importance\"},\"y\":{\"field\":\"index\"}},\"id\":\"49674\",\"type\":\"HBar\"}],\"root_ids\":[\"49638\",\"49726\"]},\"title\":\"Bokeh Application\",\"version\":\"2.2.3\"}};\n",
       "  var render_items = [{\"docid\":\"3b4d9061-b122-4177-98e2-b64eef9d1a1a\",\"root_ids\":[\"49638\"],\"roots\":{\"49638\":\"5058af74-1890-4e68-a649-6e128e30da50\"}}];\n",
       "  root.Bokeh.embed.embed_items_notebook(docs_json, render_items);\n",
       "  }\n",
       "if (root.Bokeh !== undefined) {\n",
       "    embed_document(root);\n",
       "  } else {\n",
       "    var attempts = 0;\n",
       "    var timer = setInterval(function(root) {\n",
       "      if (root.Bokeh !== undefined) {\n",
       "        clearInterval(timer);\n",
       "        embed_document(root);\n",
       "      } else if (document.readyState == \"complete\") {\n",
       "        attempts++;\n",
       "        if (attempts > 100) {\n",
       "          clearInterval(timer);\n",
       "          console.log(\"Bokeh: ERROR: Unable to run BokehJS code because BokehJS library is missing\");\n",
       "        }\n",
       "      }\n",
       "    }, 10, root)\n",
       "  }\n",
       "})(window);</script>"
      ],
      "text/plain": [
       "Tabs\n",
       "    [0] HoloViews(Bars, name='from_model')\n",
       "    [1] Matplotlib(Figure, name='shap_values')"
      ]
     },
     "execution_count": 67,
     "metadata": {
      "application/vnd.holoviews_exec.v0+json": {
       "id": "49638"
      }
     },
     "output_type": "execute_result"
    }
   ],
   "source": [
    "out = eda.get_feature_importances(train_X, train_y)\n",
    "display_as_tabs([(k, v) for k,v in out.items()])"
   ]
  },
  {
   "cell_type": "markdown",
   "metadata": {},
   "source": [
    "Key drivers report like feature importance, bivariate plots can be obtained as below"
   ]
  },
  {
   "cell_type": "code",
   "execution_count": 68,
   "metadata": {},
   "outputs": [],
   "source": [
    "reports.key_drivers(train_X,train_y,'./key_drivers_report.html')"
   ]
  },
  {
   "cell_type": "markdown",
   "metadata": {},
   "source": [
    "**Dev Notes**\n",
    "<details>\n",
    "    \n",
    "- The SHAP plots and bivariate plots in key drivers reports can be obtained by including quick=False as a parameter to key_drivers function call. \n",
    "- SHAP plots and bivariate plots often take long depending on data shape.\n",
    "- The plot with shap is present [here](https://drive.google.com/file/d/1JOTMBLiv3LEqZ-kxZz0RokW9v5UyiGva/view?usp=sharing)\n",
    "\n",
    "</details>"
   ]
  },
  {
   "cell_type": "markdown",
   "metadata": {},
   "source": [
    "\n",
    "All the plots like feature analysis, interaction, key drivers can be obtained as a single plot using data exploration method as shown below. The output from this is available [here](https://drive.google.com/file/d/1_3rE5u3qFHdeoL3VrFNTG-aBtHFALnI7/view?usp=sharing)"
   ]
  },
  {
   "cell_type": "code",
   "execution_count": 69,
   "metadata": {},
   "outputs": [
    {
     "name": "stderr",
     "output_type": "stream",
     "text": [
      "p-value may not be accurate for N > 5000.\n"
     ]
    }
   ],
   "source": [
    "reports.data_exploration(train_X,train_y,'./data_exploration_report.html')"
   ]
  },
  {
   "cell_type": "code",
   "execution_count": 41,
   "metadata": {},
   "outputs": [],
   "source": [
    "# saving the list of relevant columns\n",
    "save_pipeline(curated_columns, op.abspath(op.join(artifacts_folder, 'curated_columns.joblib')))\n",
    "\n",
    "# save the feature pipeline\n",
    "save_pipeline(features_transformer, op.abspath(op.join(artifacts_folder, 'features.joblib')))"
   ]
  },
  {
   "cell_type": "markdown",
   "metadata": {},
   "source": [
    "# 4 Modelling"
   ]
  },
  {
   "cell_type": "markdown",
   "metadata": {},
   "source": [
    "## 4.1 Modelling - Linear Regression"
   ]
  },
  {
   "cell_type": "markdown",
   "metadata": {},
   "source": [
    "### 4.1.1 Feature Selection(Specific to Regression)\n",
    "\n",
    "- Selecting Features specific to regression\n",
    "- VIF : measure of the amount of multi-collinearity in a set of multiple regressor variables. \n",
    "- On a case to case basis VIF thresholds change. Generally 5 or 10 are acceptable levels.\n",
    "- Usually on a recursive basis when removing the most collinear variable, there can be shuffle in VIF. \n",
    "- Often this section will not be part of the production code."
   ]
  },
  {
   "cell_type": "code",
   "execution_count": 42,
   "metadata": {},
   "outputs": [],
   "source": [
    "cols = list(train_X.columns)\n",
    "vif = eda.calc_vif(train_X)\n",
    "while max(vif.VIF) > 15:\n",
    "    #removing the largest variable from VIF\n",
    "    cols.remove(vif[(vif.VIF==vif.VIF.max())].variables.tolist()[0])\n",
    "    vif = eda.calc_vif(train_X[cols])"
   ]
  },
  {
   "cell_type": "code",
   "execution_count": 43,
   "metadata": {},
   "outputs": [],
   "source": [
    "reg_vars = vif.query('VIF < 15').variables\n",
    "reg_vars = list(reg_vars)"
   ]
  },
  {
   "cell_type": "markdown",
   "metadata": {},
   "source": [
    "### 4.1.2 Data transformations"
   ]
  },
  {
   "cell_type": "code",
   "execution_count": 44,
   "metadata": {},
   "outputs": [],
   "source": [
    "# Custom Transformations like these can be utilised\n",
    "def _custom_data_transform(df, cols2keep=None):\n",
    "    \"\"\"Transformation to drop some columns in the data\n",
    "    \n",
    "    Parameters\n",
    "    ----------\n",
    "        df - pd.DataFrame\n",
    "        cols2keep - columns to keep in the dataframe\n",
    "    \"\"\"\n",
    "    cols2keep = cols2keep or []\n",
    "    if len(cols2keep):\n",
    "        return (df\n",
    "                .select_columns(cols2keep))\n",
    "    else:\n",
    "        return df"
   ]
  },
  {
   "cell_type": "markdown",
   "metadata": {},
   "source": [
    "### 4.1.3 Model training pipeline\n",
    "\n",
    "- Here we focus on creating a collection of pipelines that can be used for training respective models.\n",
    "- Each model pipeline will essentially be of the form\n",
    "```\n",
    "[\n",
    "('preprocessing', preprocessing_pipeline),\n",
    "('feature_selection', feature_selection_pipeline),\n",
    "('estimator', estimator),\n",
    "]\n",
    "```"
   ]
  },
  {
   "cell_type": "markdown",
   "metadata": {},
   "source": [
    "### 4.1.4 Model Pipeline Build\n",
    "\n",
    "- This will be part of the production code (training only)."
   ]
  },
  {
   "cell_type": "code",
   "execution_count": 45,
   "metadata": {},
   "outputs": [
    {
     "data": {
      "text/plain": [
       "Pipeline(steps=[('',\n",
       "                 FunctionTransformer(func=<function _custom_data_transform at 0x7f9f3816e820>,\n",
       "                                     kw_args={'cols2keep': ['num_bedrooms_per_room',\n",
       "                                                            'num_total_rooms',\n",
       "                                                            'num_median_income',\n",
       "                                                            'num_longitude',\n",
       "                                                            'num_latitude',\n",
       "                                                            'num_housing_median_age',\n",
       "                                                            'num_population']})),\n",
       "                ('estimator', SKLStatsmodelOLS())])"
      ]
     },
     "execution_count": 45,
     "metadata": {},
     "output_type": "execute_result"
    }
   ],
   "source": [
    "reg_ppln_ols = Pipeline([\n",
    "    ('',FunctionTransformer(_custom_data_transform, kw_args={'cols2keep':reg_vars})),\n",
    "    ('estimator', SKLStatsmodelOLS())\n",
    "])\n",
    "reg_ppln_ols.fit(train_X, train_y.values.ravel())\n"
   ]
  },
  {
   "cell_type": "code",
   "execution_count": 46,
   "metadata": {},
   "outputs": [
    {
     "data": {
      "text/html": [
       "<table class=\"simpletable\">\n",
       "<caption>OLS Regression Results</caption>\n",
       "<tr>\n",
       "  <th>Dep. Variable:</th>            <td>y</td>        <th>  R-squared:         </th>  <td>   0.654</td>  \n",
       "</tr>\n",
       "<tr>\n",
       "  <th>Model:</th>                   <td>OLS</td>       <th>  Adj. R-squared:    </th>  <td>   0.654</td>  \n",
       "</tr>\n",
       "<tr>\n",
       "  <th>Method:</th>             <td>Least Squares</td>  <th>  F-statistic:       </th>  <td>   4456.</td>  \n",
       "</tr>\n",
       "<tr>\n",
       "  <th>Date:</th>             <td>Wed, 08 Jun 2022</td> <th>  Prob (F-statistic):</th>   <td>  0.00</td>   \n",
       "</tr>\n",
       "<tr>\n",
       "  <th>Time:</th>                 <td>10:45:12</td>     <th>  Log-Likelihood:    </th> <td>-2.0710e+05</td>\n",
       "</tr>\n",
       "<tr>\n",
       "  <th>No. Observations:</th>      <td> 16512</td>      <th>  AIC:               </th>  <td>4.142e+05</td> \n",
       "</tr>\n",
       "<tr>\n",
       "  <th>Df Residuals:</th>          <td> 16504</td>      <th>  BIC:               </th>  <td>4.143e+05</td> \n",
       "</tr>\n",
       "<tr>\n",
       "  <th>Df Model:</th>              <td>     7</td>      <th>                     </th>      <td> </td>     \n",
       "</tr>\n",
       "<tr>\n",
       "  <th>Covariance Type:</th>      <td>nonrobust</td>    <th>                     </th>      <td> </td>     \n",
       "</tr>\n",
       "</table>\n",
       "<table class=\"simpletable\">\n",
       "<tr>\n",
       "             <td></td>               <th>coef</th>     <th>std err</th>      <th>t</th>      <th>P>|t|</th>  <th>[0.025</th>    <th>0.975]</th>  \n",
       "</tr>\n",
       "<tr>\n",
       "  <th>intercept</th>              <td> 2.068e+05</td> <td>  527.210</td> <td>  392.189</td> <td> 0.000</td> <td> 2.06e+05</td> <td> 2.08e+05</td>\n",
       "</tr>\n",
       "<tr>\n",
       "  <th>num_bedrooms_per_room</th>  <td> 3.044e+04</td> <td>  735.925</td> <td>   41.369</td> <td> 0.000</td> <td>  2.9e+04</td> <td> 3.19e+04</td>\n",
       "</tr>\n",
       "<tr>\n",
       "  <th>num_total_rooms</th>        <td> 4.401e+04</td> <td> 1156.714</td> <td>   38.046</td> <td> 0.000</td> <td> 4.17e+04</td> <td> 4.63e+04</td>\n",
       "</tr>\n",
       "<tr>\n",
       "  <th>num_median_income</th>      <td> 8.292e+04</td> <td>  768.542</td> <td>  107.896</td> <td> 0.000</td> <td> 8.14e+04</td> <td> 8.44e+04</td>\n",
       "</tr>\n",
       "<tr>\n",
       "  <th>num_longitude</th>          <td>-7.894e+04</td> <td> 1553.390</td> <td>  -50.817</td> <td> 0.000</td> <td> -8.2e+04</td> <td>-7.59e+04</td>\n",
       "</tr>\n",
       "<tr>\n",
       "  <th>num_latitude</th>           <td>-8.316e+04</td> <td> 1588.296</td> <td>  -52.359</td> <td> 0.000</td> <td>-8.63e+04</td> <td>   -8e+04</td>\n",
       "</tr>\n",
       "<tr>\n",
       "  <th>num_housing_median_age</th> <td> 1.601e+04</td> <td>  598.702</td> <td>   26.742</td> <td> 0.000</td> <td> 1.48e+04</td> <td> 1.72e+04</td>\n",
       "</tr>\n",
       "<tr>\n",
       "  <th>num_population</th>         <td> -3.87e+04</td> <td> 1114.970</td> <td>  -34.710</td> <td> 0.000</td> <td>-4.09e+04</td> <td>-3.65e+04</td>\n",
       "</tr>\n",
       "</table>\n",
       "<table class=\"simpletable\">\n",
       "<tr>\n",
       "  <th>Omnibus:</th>       <td>3487.534</td> <th>  Durbin-Watson:     </th> <td>   1.989</td> \n",
       "</tr>\n",
       "<tr>\n",
       "  <th>Prob(Omnibus):</th>  <td> 0.000</td>  <th>  Jarque-Bera (JB):  </th> <td>10878.833</td>\n",
       "</tr>\n",
       "<tr>\n",
       "  <th>Skew:</th>           <td> 1.082</td>  <th>  Prob(JB):          </th> <td>    0.00</td> \n",
       "</tr>\n",
       "<tr>\n",
       "  <th>Kurtosis:</th>       <td> 6.336</td>  <th>  Cond. No.          </th> <td>    6.40</td> \n",
       "</tr>\n",
       "</table><br/><br/>Warnings:<br/>[1] Standard Errors assume that the covariance matrix of the errors is correctly specified."
      ],
      "text/plain": [
       "<class 'statsmodels.iolib.summary.Summary'>\n",
       "\"\"\"\n",
       "                            OLS Regression Results                            \n",
       "==============================================================================\n",
       "Dep. Variable:                      y   R-squared:                       0.654\n",
       "Model:                            OLS   Adj. R-squared:                  0.654\n",
       "Method:                 Least Squares   F-statistic:                     4456.\n",
       "Date:                Wed, 08 Jun 2022   Prob (F-statistic):               0.00\n",
       "Time:                        10:45:12   Log-Likelihood:            -2.0710e+05\n",
       "No. Observations:               16512   AIC:                         4.142e+05\n",
       "Df Residuals:                   16504   BIC:                         4.143e+05\n",
       "Df Model:                           7                                         \n",
       "Covariance Type:            nonrobust                                         \n",
       "==========================================================================================\n",
       "                             coef    std err          t      P>|t|      [0.025      0.975]\n",
       "------------------------------------------------------------------------------------------\n",
       "intercept               2.068e+05    527.210    392.189      0.000    2.06e+05    2.08e+05\n",
       "num_bedrooms_per_room   3.044e+04    735.925     41.369      0.000     2.9e+04    3.19e+04\n",
       "num_total_rooms         4.401e+04   1156.714     38.046      0.000    4.17e+04    4.63e+04\n",
       "num_median_income       8.292e+04    768.542    107.896      0.000    8.14e+04    8.44e+04\n",
       "num_longitude          -7.894e+04   1553.390    -50.817      0.000    -8.2e+04   -7.59e+04\n",
       "num_latitude           -8.316e+04   1588.296    -52.359      0.000   -8.63e+04      -8e+04\n",
       "num_housing_median_age  1.601e+04    598.702     26.742      0.000    1.48e+04    1.72e+04\n",
       "num_population          -3.87e+04   1114.970    -34.710      0.000   -4.09e+04   -3.65e+04\n",
       "==============================================================================\n",
       "Omnibus:                     3487.534   Durbin-Watson:                   1.989\n",
       "Prob(Omnibus):                  0.000   Jarque-Bera (JB):            10878.833\n",
       "Skew:                           1.082   Prob(JB):                         0.00\n",
       "Kurtosis:                       6.336   Cond. No.                         6.40\n",
       "==============================================================================\n",
       "\n",
       "Warnings:\n",
       "[1] Standard Errors assume that the covariance matrix of the errors is correctly specified.\n",
       "\"\"\""
      ]
     },
     "execution_count": 46,
     "metadata": {},
     "output_type": "execute_result"
    }
   ],
   "source": [
    "reg_ppln_ols['estimator'].summary()"
   ]
  },
  {
   "cell_type": "markdown",
   "metadata": {},
   "source": [
    "### 4.1.5 Model Evaluation(Linear Model)\n",
    "\n",
    "This will be part of the production code."
   ]
  },
  {
   "cell_type": "code",
   "execution_count": 47,
   "metadata": {},
   "outputs": [],
   "source": [
    "reg_ppln = Pipeline([\n",
    "    ('', FunctionTransformer(_custom_data_transform, kw_args={'cols2keep':reg_vars})),\n",
    "    ('Linear Regression', SKLStatsmodelOLS())\n",
    "])\n",
    "cat=test_X['ocean_proximity']\n",
    "test_X=attrib_adder.transform(test_X[num_columns])\n",
    "num_cols=train_X.select_dtypes('number').columns\n",
    "test_X['ocean_proximity']=cat\n",
    "test_X = get_dataframe(\n",
    "    features_transformer.transform(test_X), \n",
    "    get_feature_names_from_column_transformer(features_transformer)\n",
    ")\n",
    "test_X = test_X[curated_columns]"
   ]
  },
  {
   "cell_type": "code",
   "execution_count": 48,
   "metadata": {},
   "outputs": [],
   "source": [
    "reg_linear_report = RegressionReport(model=reg_ppln, x_train=train_X, y_train=train_y, x_test= test_X, y_test= test_y, refit=True)\n",
    "reg_linear_report.get_report(include_shap=False, file_path='regression_linear_model_report')"
   ]
  },
  {
   "cell_type": "code",
   "execution_count": 70,
   "metadata": {},
   "outputs": [],
   "source": [
    "save_pipeline(\n",
    "        reg_ppln_ols, op.abspath(op.join(artifacts_folder, \"train_pipeline.joblib\"))\n",
    "    )"
   ]
  },
  {
   "cell_type": "markdown",
   "metadata": {},
   "source": [
    "**Dev Notes**\n",
    "Use SHAP for variable interpretability.\n",
    "<details>\n",
    "\n",
    "    1. Use SHAP=True to generate variable interpretability plots in the report\n",
    "    2. SHAP is recommended for non parameteric models such as RF, xgboost.\n",
    "    3. However, SHAP reports are time consuming depending on no.of records and model complexity.\n",
    "    \n",
    "A sample of regerssion report with SHAP can be found [here](https://drive.google.com/file/d/18RlQTsT1ze09Cgz-qpb4ha_cvyWbN5F5/view?usp=sharing).\n",
    "</details>"
   ]
  },
  {
   "cell_type": "markdown",
   "metadata": {},
   "source": [
    "### 4.1.6 Residual Analysis\n",
    "- After scoring the model, it is recommended to do a residual analysis to know the distribution of errors\n",
    "- we took a threshold of 30% above which it is marked as over prediction or underprediction\n",
    "- This will not be part of the production code."
   ]
  },
  {
   "cell_type": "code",
   "execution_count": 49,
   "metadata": {},
   "outputs": [],
   "source": [
    "threshold=0.3\n",
    "residual_analysis = test_X.copy()\n",
    "residual_analysis['prediction'] = reg_ppln_ols.predict(test_X)\n",
    "residual_analysis['actuals'] = test_y.reset_index(drop = True).iloc[:,0].values\n",
    "residual_analysis['forecast_flag'] = 'good'\n",
    "residual_analysis.loc[((residual_analysis['prediction'] > (1+threshold) * residual_analysis['actuals'])\\\n",
    "                       & (residual_analysis['actuals']>100)),'forecast_flag'] = 'over predict'\n",
    "residual_analysis.loc[((residual_analysis['prediction'] < (1-threshold) * residual_analysis['actuals'])\\\n",
    "                       & (residual_analysis['actuals']>100)),'forecast_flag'] = 'under predict'"
   ]
  },
  {
   "cell_type": "code",
   "execution_count": 50,
   "metadata": {},
   "outputs": [
    {
     "data": {},
     "metadata": {},
     "output_type": "display_data"
    },
    {
     "data": {
      "application/vnd.holoviews_exec.v0+json": "",
      "text/html": [
       "<div id='32338'>\n",
       "\n",
       "\n",
       "\n",
       "\n",
       "\n",
       "  <div class=\"bk-root\" id=\"369cd905-b852-415c-9ed2-dea573cbce76\" data-root-id=\"32338\"></div>\n",
       "</div>\n",
       "<script type=\"application/javascript\">(function(root) {\n",
       "  function embed_document(root) {\n",
       "  var docs_json = {\"735383ad-8d50-4e16-9b88-6f1220f3ddda\":{\"roots\":{\"references\":[{\"attributes\":{},\"id\":\"32363\",\"type\":\"PanTool\"},{\"attributes\":{\"margin\":[5,5,5,5],\"name\":\"HSpacer87824\",\"sizing_mode\":\"stretch_width\"},\"id\":\"32545\",\"type\":\"Spacer\"},{\"attributes\":{},\"id\":\"32394\",\"type\":\"UnionRenderers\"},{\"attributes\":{\"children\":[{\"id\":\"32339\"},{\"id\":\"32345\"},{\"id\":\"32545\"}],\"margin\":[0,0,0,0],\"name\":\"Row87819\",\"tags\":[\"embedded\"]},\"id\":\"32338\",\"type\":\"Row\"},{\"attributes\":{\"end\":0.6263909692516513,\"reset_end\":0.6263909692516513,\"reset_start\":0.0,\"tags\":[[[\"num_total_rooms_density\",\"Density\",null]]]},\"id\":\"32341\",\"type\":\"Range1d\"},{\"attributes\":{\"axis\":{\"id\":\"32358\"},\"dimension\":1,\"grid_line_color\":null,\"ticker\":null},\"id\":\"32361\",\"type\":\"Grid\"},{\"attributes\":{\"text\":\"num_total_rooms(density)\",\"text_color\":{\"value\":\"black\"},\"text_font_size\":{\"value\":\"12pt\"}},\"id\":\"32346\",\"type\":\"Title\"},{\"attributes\":{\"axis_label\":\"num_total_rooms\",\"bounds\":\"auto\",\"formatter\":{\"id\":\"32375\"},\"major_label_orientation\":\"horizontal\",\"ticker\":{\"id\":\"32355\"}},\"id\":\"32354\",\"type\":\"LinearAxis\"},{\"attributes\":{},\"id\":\"32380\",\"type\":\"Selection\"},{\"attributes\":{\"fill_alpha\":0.5,\"fill_color\":\"#1f77b3\",\"line_alpha\":0.7,\"x\":{\"field\":\"x\"},\"y\":{\"field\":\"y\"}},\"id\":\"32382\",\"type\":\"Patch\"},{\"attributes\":{},\"id\":\"32377\",\"type\":\"BasicTickFormatter\"},{\"attributes\":{\"fill_alpha\":0.2,\"fill_color\":\"#2ba02b\",\"line_alpha\":0.2,\"x\":{\"field\":\"x\"},\"y\":{\"field\":\"y\"}},\"id\":\"32421\",\"type\":\"Patch\"},{\"attributes\":{},\"id\":\"32350\",\"type\":\"LinearScale\"},{\"attributes\":{},\"id\":\"32352\",\"type\":\"LinearScale\"},{\"attributes\":{\"label\":{\"value\":\"over predict\"},\"renderers\":[{\"id\":\"32385\"}]},\"id\":\"32396\",\"type\":\"LegendItem\"},{\"attributes\":{\"active_drag\":\"auto\",\"active_inspect\":\"auto\",\"active_multi\":null,\"active_scroll\":\"auto\",\"active_tap\":\"auto\",\"tools\":[{\"id\":\"32342\"},{\"id\":\"32362\"},{\"id\":\"32363\"},{\"id\":\"32364\"},{\"id\":\"32365\"},{\"id\":\"32366\"}]},\"id\":\"32368\",\"type\":\"Toolbar\"},{\"attributes\":{},\"id\":\"32362\",\"type\":\"SaveTool\"},{\"attributes\":{\"fill_alpha\":0.2,\"fill_color\":\"#1f77b3\",\"line_alpha\":0.2,\"x\":{\"field\":\"x\"},\"y\":{\"field\":\"y\"}},\"id\":\"32384\",\"type\":\"Patch\"},{\"attributes\":{\"data_source\":{\"id\":\"32379\"},\"glyph\":{\"id\":\"32382\"},\"hover_glyph\":null,\"muted_glyph\":{\"id\":\"32384\"},\"nonselection_glyph\":{\"id\":\"32383\"},\"selection_glyph\":null,\"view\":{\"id\":\"32386\"}},\"id\":\"32385\",\"type\":\"GlyphRenderer\"},{\"attributes\":{},\"id\":\"32375\",\"type\":\"BasicTickFormatter\"},{\"attributes\":{\"data\":{\"x\":{\"__ndarray__\":\"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\",\"dtype\":\"float64\",\"order\":\"little\",\"shape\":[200]},\"y\":{\"__ndarray__\":\"AAAAAAAAAAAAAAAAAAAAAAAAAAAAAAAAAAAAAAAAAAAAAAAAAAAAAAAAAAAAAAAAAAAAAAAAAAAAAAAAAAAAAAAAAAAAAAAAAAAAAAAAAAAAAAAAAAAAAAAAAAAAAAAAAAAAAAAAAAAAAAAAAAAAAAAAAAAAAAAAAAAAAAAAAAAAAAAAAAAAAAAAAAAAAAAAAAAAAAAAAAAAAAAAAAAAAAAAAAAAAAAAAAAAAAAAAAAAAAAAAAAAAAAAAAAAAAAAAAAAAAAAAAAAAAAAAAAAAAAAAAAAAAAAAAAAAAAAAAAAAAAAAAAAAAAAAAAAAAAAAAAAAAAAAAAAAAAAAAAAAAAAAAAAAAAAAAAAAAAAAAAAAAAAAAAAAAAAAAAAAAAAAAAAAAAAAAAAAAAAAAAAAAAAAAAAAAAAAAAAAAAAAAAAAAAAAAAAAAAAAAAAAAAAAAAAAAAAAAAAAAAAAAAAAAAAAAAAAAAAAAAAAAAAAAAAAAAAAAAAAAAAAAAAAAAAAAAAAAAAAAAAAAAAAAAAAAAAAAAAAAAAAAAAAAAAAAAAAAAAAAAAAAAAAAAAAAAAAAAAAAAAAAAAAAAAAAAAAAAAAAAAAAAAAAAAAAAAAAAAAAAAAAAAAAAAAAAAAAAAAAAAAAAAAAAAAAAAAAAAAAAAAAAAAAAAAAAAAAAAAAAAAAAAAAAAAAAAAAAAAAAAAAAAAAAAAAAAAAAAAAAAAAAAAAAAAAAAAAAAAAAAAAAAAAAAAAAAAAAAAAAAAAAAAAAAAAAAAAAAAAAAAAAAAAAAAAAAAAAAAAAAAAAAAAAAAAAAAAAAAAAAAAAAAAAAAAAAAAAAAAAAAAAAAAAAAAAAAAAAAAAAAAAAAAAAAAAAAAAAAAAAAAAAAAAAAAAAAAAAAAAAAAAAAAAAAAAAAAAAAAAAAAAAAAAAAAAAAAAAAAAAAAAAAAAAAAAAAAAAAAAAAAAAAAAAAAAAAAAAAAAAAAAAAAAAAAAAAAAAAAAAAAAAAAAAAAAAAAAAAAAAAAAAAAAAAAAAAAAAAAAAAAAAAAAAAAAAAAAAAAAAAADq/vjXD/zkPiVBSZDWjgQ/iq0M6158Hz8gi/7W5NgyP0hgdvlRo0E/r4jt0zfPST9jL313DY1NP+4SVbskm0o/YSsHrINhQz+Vh23jpk06P3TyUQ8hQjg/DK5PRID5QD+eDetCDntIP5IRRAvKUE0/FCwY7wzKSz/Axs9/AeZEP55OnNRRpTo/F6KBjXRmMz9nmi5gGi04PxXYOG9Ee0M/R8wWrYZeTD8nLaGhPmtRPyqSb7riyVI/OE9d8HAIUz+MnrF7/Z9SP2HuY0F0BVE/XFNB5VpUTD+cPQ+F6VVHP6sPwECC5UY/gz1mFy/1Sj/b/fQtmk9PPzx+v70QJFA/pG4s1QTATj+YLluzmEJOPyKwDKBEp08/uFo47T2ZTz/7NqSyzedKPwt+gIxleUI/h2Qk0TQJND8gbVHZmQwhP0MC9XYZ+AY/oFQs9Kdg7z7jZYsr7DP3Pk64gYs+LRY/vtQLDkGuMj8u0OABBFdJP/utIu68y1s/IP5E8hboaD+NXmZtcHdyP0ZO5JR5Cnc/xvIwxprMeD8vH+RA9hF4PyKcKmif1HY/7F4ebJNadz/y0VIhCHh6P9i9qAjy8X4/4NTb5MhcgT8BD+pLiVWCP75sEULBfII/yZKWm2Yugj84ahZykrCBP/cv64NZQoE/MJOglllWgT8Ds2FOG3yCP8Xdk2O11IQ/bh+MxuK0hz+iySvxdxSKPzaireh2WIs/mdq861WNiz/+GUo/SQiLP/lrwSgPJoo/DalAh1mBiT/7uFvt0DOKP8EN6cyjfI0/2L2DRRX5kT8rInEAA62WP5A/us/y2Jw/KGzXrf6Toj91xfkYsXmoP41cpR7ZebA/QThxz6pxtj8F69YUtZK+P/HlJvxMncQ/7/G9Hz1Qyz/l/1Rfh6vRP5eGiwM2KtY/kD9bF2mr2j+cikBboVveP2kJOIz0G+A/i+2+6jh73z+cKibFjwvcP3OJ68iKlNY/XZj0wQ5D0D+lY0hrp6rEP+n5s5/6ybY/HqM1rfhqpT9k10tjON6QP2gGVo7N8HU/3sH5kmFJVz+HHcGSePozPw==\",\"dtype\":\"float64\",\"order\":\"little\",\"shape\":[200]}},\"selected\":{\"id\":\"32380\"},\"selection_policy\":{\"id\":\"32394\"}},\"id\":\"32379\",\"type\":\"ColumnDataSource\"},{\"attributes\":{\"bottom_units\":\"screen\",\"fill_alpha\":0.5,\"fill_color\":\"lightgrey\",\"left_units\":\"screen\",\"level\":\"overlay\",\"line_alpha\":1.0,\"line_color\":\"black\",\"line_dash\":[4,4],\"line_width\":2,\"right_units\":\"screen\",\"top_units\":\"screen\"},\"id\":\"32367\",\"type\":\"BoxAnnotation\"},{\"attributes\":{},\"id\":\"32359\",\"type\":\"BasicTicker\"},{\"attributes\":{\"fill_alpha\":0.5,\"fill_color\":\"#ff7e0e\",\"line_alpha\":0.7,\"x\":{\"field\":\"x\"},\"y\":{\"field\":\"y\"}},\"id\":\"32400\",\"type\":\"Patch\"},{\"attributes\":{},\"id\":\"32364\",\"type\":\"WheelZoomTool\"},{\"attributes\":{\"overlay\":{\"id\":\"32367\"}},\"id\":\"32365\",\"type\":\"BoxZoomTool\"},{\"attributes\":{\"data_source\":{\"id\":\"32397\"},\"glyph\":{\"id\":\"32400\"},\"hover_glyph\":null,\"muted_glyph\":{\"id\":\"32402\"},\"nonselection_glyph\":{\"id\":\"32401\"},\"selection_glyph\":null,\"view\":{\"id\":\"32404\"}},\"id\":\"32403\",\"type\":\"GlyphRenderer\"},{\"attributes\":{\"fill_alpha\":0.5,\"fill_color\":\"#2ba02b\",\"line_alpha\":0.7,\"x\":{\"field\":\"x\"},\"y\":{\"field\":\"y\"}},\"id\":\"32420\",\"type\":\"Patch\"},{\"attributes\":{\"source\":{\"id\":\"32379\"}},\"id\":\"32386\",\"type\":\"CDSView\"},{\"attributes\":{},\"id\":\"32414\",\"type\":\"UnionRenderers\"},{\"attributes\":{\"source\":{\"id\":\"32397\"}},\"id\":\"32404\",\"type\":\"CDSView\"},{\"attributes\":{},\"id\":\"32366\",\"type\":\"ResetTool\"},{\"attributes\":{\"margin\":[5,5,5,5],\"name\":\"HSpacer87823\",\"sizing_mode\":\"stretch_width\"},\"id\":\"32339\",\"type\":\"Spacer\"},{\"attributes\":{\"data\":{\"x\":{\"__ndarray__\":\"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\",\"dtype\":\"float64\",\"order\":\"little\",\"shape\":[200]},\"y\":{\"__ndarray__\":\"AAAAAAAAAAAAAAAAAAAAAAAAAAAAAAAAAAAAAAAAAAAAAAAAAAAAAAAAAAAAAAAAAAAAAAAAAAAAAAAAAAAAAAAAAAAAAAAAAAAAAAAAAAAAAAAAAAAAAAAAAAAAAAAAAAAAAAAAAAAAAAAAAAAAAAAAAAAAAAAAAAAAAAAAAAAAAAAAAAAAAAAAAAAAAAAAAAAAAAAAAAAAAAAAAAAAAAAAAAAAAAAAAAAAAAAAAAAAAAAAAAAAAAAAAAAAAAAAAAAAAAAAAAAAAAAAAAAAAAAAAAAAAAAAAAAAAAAAAAAAAAAAAAAAAAAAAAAAAAAAAAAAAAAAAAAAAAAAAAAAAAAAAAAAAAAAAAAAAAAAAAAAAAAAAAAAAAAAAAAAAAAAAAAAAAAAAAAAAAAAAAAAAAAAAAAAAAAAAAAAAAAAAAAAAAAAAAAAAAAAAAAAAAAAAAAAAAAAAAAAAAAAAAAAAAAAAAAAAAAAAAAAAAAAAAAAAAAAAAAAAAAAAAAAAAAAAAAAAAAAAAAAAAAAAAAAAAAAAAAAAAAAAAAAAAAAAAAAAAAAAAAAAAAAAAAAAAAAAAAAAAAAAAAAAAAAAAAAAAAAAAAAAAAAAAAAAAAAAAAAAAAAAAAAAAAAAAAAAAAAAAAAAAAAAAAAAAAAAAAAAAAAAAAAAAAAAAAAAAAAAAAAAAAAAAAAAAAAAAAAAAAAAAAAAAAAAAAAAAAAAAAAAAAAAAAAAAAAAAAAAAAAAAAAAAAAAAAAAAAAAAAAAAAAAAAAAAAAAAAAAAAAAAAAAAAAAAAAAAAAAAAAAAAAAAAAAAAAAAAAAAAAAAAAAAAAAAAAAAAAAAAAAAAAAAAAAAAAAAAAAAAAAAAAAAAAAAAAAAAAAAAAAAAAAAAAAAAAAAAAAAAAAAAAAAAAAAAAAAAAAAAAAAAAAAAAAAAAAAAAAAAAAAAAAAAAAAAAAAAAAAAAAAAAAAAAAAAAAAAAAAAAAAAAAAAAAAAAAAAAAAAAAAAAAAAAAAAAAAAAAAAAAAAAAAAAAAAAAAAAAAAAAAAAAAAAAAAAAAAAAAAAAADTqGJKwecDP/ZibkXenxc/ZCd62AmzKT9e/rb2Oqc5PyRi9wuLiEc/UyVznm3hUz8DY8KPtQNfP/w0HL0bamY/cm+/FkQmbj/w9FEUrPhyP4oxmrlOe3Y/ssrxHL9EeT9UIXW+aCR7PzZ4Qgm8D3w/rvBoCIAUfD+m5IK6YEh7P83hAsnDwXk/Rmbguhafdz++M2POlxZ1P+Rzx0Wff3I/vpgvP99GcD+173ZjjZZtP+pIL/BTZWw/eOsHEEafbD+cT+HOYFhtP0JcuLnycG0/c/oaFf0ObD/H+BkTOfZoP2gLBU1al2Q/wVflvmq5Xz+uZm74F8FXP+D5AkCKflM/s/vqtvU4VT8PpsRLMpJfP2Tdnh6P3Go/efi96e3Jdj9x7n1s9FmCP4sAvYs+vos/yPInJheykz8nBRfxsV6aP3CHSPOuuqA/kvox+W04pD/g7sd1DWenP+W51iIxEqo/FYi04g0drD+3iRqSsoitP7TRXxwEc64/Znn4pb8Mrz8ZYDNjdImvP+msw+ipCLA/nOa5g69esD8Or4GqYtCwPw1lNbqlbLE/Z2xtfmBNsj8gQMro3ZWzPyKZD3yaabU/1BJptpfgtz/kpKsxswC7P0Tav91ewb4/ButUf52MwT+gGi2gKwfEPzFVelgY38Y/3HSH0Ikqyj+4c8IGrfrNPwL1fr5hJtE/TsF3+2SA0z9RQHFj5+3VP/NYwLwbS9g/PoJp3Ap42j9pZuUAVWHcPyUVP5zAA94/Cl43SAxp3z+A4HADo0/gP/ixT+kh1+A/JkoWjOxH4T/hN2wILpfhP6FTd30VteE/Hc9rINCR4T8SPJb2oSLhPzXOKLxoZeA/esin76vD3j9b5BRswVDcP3WrDZ4wntk/RlZMsnHZ1j8FKCn4WSbUP9GtDLc0l9E/iv1agT9Yzj/bZ/yWU7XJP20sXpfUM8U/4bzX5bfYwD8J7Kc1VIi5P0jNUY/7SrI/rly8fPCbqD87A7tVVeqeP/81Fl+PD5I/cHaEuz6Rgz+8mdfd3ZxzP9KiOImVJ2I/RI0fXtP+Tj8KYEnIgl84Pw==\",\"dtype\":\"float64\",\"order\":\"little\",\"shape\":[200]}},\"selected\":{\"id\":\"32417\"},\"selection_policy\":{\"id\":\"32435\"}},\"id\":\"32416\",\"type\":\"ColumnDataSource\"},{\"attributes\":{},\"id\":\"32355\",\"type\":\"BasicTicker\"},{\"attributes\":{\"data\":{\"x\":{\"__ndarray__\":\"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\",\"dtype\":\"float64\",\"order\":\"little\",\"shape\":[200]},\"y\":{\"__ndarray__\":\"AAAAAAAAAAAAAAAAAAAAAAAAAAAAAAAAAAAAAAAAAAAAAAAAAAAAAAAAAAAAAAAAAAAAAAAAAAAAAAAAAAAAAAAAAAAAAAAAAAAAAAAAAAAAAAAAAAAAAAAAAAAAAAAAAAAAAAAAAAAAAAAAAAAAAAAAAAAAAAAAAAAAAAAAAAAAAAAAAAAAAAAAAAAAAAAAAAAAAAAAAAAAAAAAAAAAAAAAAAAAAAAAAAAAAAAAAAAAAAAAAAAAAAAAAAAAAAAAAAAAAAAAAAAAAAAAAAAAAAAAAAAAAAAAAAAAAAAAAAAAAAAAAAAAAAAAAAAAAAAAAAAAAAAAAAAAAAAAAAAAAAAAAAAAAAAAAAAAAAAAAAAAAAAAAAAAAAAAAAAAAAAAAAAAAAAAAAAAAAAAAAAAAAAAAAAAAAAAAAAAAAAAAAAAAAAAAAAAAAAAAAAAAAAAAAAAAAAAAAAAAAAAAAAAAAAAAAAAAAAAAAAAAAAAAAAAAAAAAAAAAAAAAAAAAAAAAAAAAAAAAAAAAAAAAAAAAAAAAAAAAAAAAAAAAAAAAAAAAAAAAAAAAAAAAAAAAAAAAAAAAAAAAAAAAAAAAAAAAAAAAAAAAAAAAAAAAAAAAAAAAAAAAAAAAAAAAAAAAAAAAAAAAAAAAAAAAAAAAAAAAAAAAAAAAAAAAAAAAAAAAAAAAAAAAAAAAAAAAAAAAAAAAAAAAAAAAAAAAAAAAAAAAAAAAAAAAAAAAAAAAAAAAAAAAAAAAAAAAAAAAAAAAAAAAAAAAAAAAAAAAAAAAAAAAAAAAAAAAAAAAAAAAAAAAAAAAAAAAAAAAAAAAAAAAAAAAAAAAAAAAAAAAAAAAAAAAAAAAAAAAAAAAAAAAAAAAAAAAAAAAAAAAAAAAAAAAAAAAAAAAAAAAAAAAAAAAAAAAAAAAAAAAAAAAAAAAAAAAAAAAAAAAAAAAAAAAAAAAAAAAAAAAAAAAAAAAAAAAAAAAAAAAAAAAAAAAAAAAAAAAAAAAAAAAAAAAAAAAAAAAAAAAAAAAAAAAAAAAAAAAAAAAAAAAAAAAAAAAAAAAAAAAADoRQ/PHkPdPiYZEsnM8wg/JdGNXPXCKT+bL5gTv4tAP9WcUqW530s/XnFejC+IUD9zidqRIb9MP/Hdqt/MtUE/3prQZ2jOLD+2cywY2EINP7IYV+W0BuI+bl5/ySyXqj6hKecjqVpnPqJFs/6CXxg+A2Deucw0vj38GdxRNRd0PSJQGZvhwdE92BwOTZi8KT6lX/okOiR2PsyLbNZVobY+kg5F9w6J6z7lh1kFbA0UP1Awgl7YujE/Egi/g2ewQz+x0iuFc1tNP1otcV7G+E8/KfAJiicxSj8EeIg/DmE+P51rcbNZ8yY/BodE13NrBT+xVAq+bBnYPqAk1/AIL6A+uRv0uhgRWz7B9+UBL6ljPlYduVZQmKY+DnuqLF5s3z5V3HX32e0JP43NJfALZSk/a27YW0GSPT+34cobi7tEP1x5ef1iH0M/GP201v2KQT+WRlK2xPpIPzHpqoC14FE/jTkdwDZAUz/GbGcPpmxRP5qr6X03MlI/d5qYXEVIVz8TqyaLm9NcPzGMuqHhfV0/1P/XVKe3Vj8T0/9ZJ5tIPxXDegESTzI/Q6W9Td+1IT85tFrIVfw4P5g7v+nLy1M/3zoBKpDwZD8KmxWxT4tuP/lq9ehe9XA/FXtRZGVrcT+JYZfv40t1P6LdEiHZ5H4/aWDXRaeBhT9EwZ8rm7OJPwzI8JE5FYo/j0iNTuQOhz9+9JttLmuDP2t3H/viRYM/hyC9VO/iiD8Zjdv+UiuRPwcl/JdnX5U/S9LRg8Talz9Ac1u4ET+aP82Wvj3VJ54/SknfjFe1oT+u5FhQ5u2kP6J2mCStUqg/0O0tGeWeqz9BgZEn1miwP+sjzWrpXrU/CCCBHTPFvD+o2Rw2CMbCPxLvJM3Krsc/7U0MUVZszT9NcXHHcf3RPyUIKBlwm9U/nFi26T2q2T8DI6ofnCTeP4atpbxEKuE/fsuShec44j9JXQJF0kfhPxpssYXsjdw/hgFBxAic1D8/7uwSsXnKP4acvUhbFb4/sS0G03aIrD+UUX34ZbCUP3gs5WZ5KHU/JahRHJvNTD/hI8oz3iUZPw==\",\"dtype\":\"float64\",\"order\":\"little\",\"shape\":[200]}},\"selected\":{\"id\":\"32398\"},\"selection_policy\":{\"id\":\"32414\"}},\"id\":\"32397\",\"type\":\"ColumnDataSource\"},{\"attributes\":{\"click_policy\":\"mute\",\"items\":[{\"id\":\"32396\"},{\"id\":\"32415\"},{\"id\":\"32436\"}],\"title\":\"forecast_flag\"},\"id\":\"32395\",\"type\":\"Legend\"},{\"attributes\":{},\"id\":\"32435\",\"type\":\"UnionRenderers\"},{\"attributes\":{\"axis\":{\"id\":\"32354\"},\"grid_line_color\":null,\"ticker\":null},\"id\":\"32357\",\"type\":\"Grid\"},{\"attributes\":{\"fill_alpha\":0.5,\"fill_color\":\"#2ba02b\",\"line_alpha\":0.7,\"x\":{\"field\":\"x\"},\"y\":{\"field\":\"y\"}},\"id\":\"32419\",\"type\":\"Patch\"},{\"attributes\":{},\"id\":\"32417\",\"type\":\"Selection\"},{\"attributes\":{\"end\":17.32548221750232,\"reset_end\":17.32548221750232,\"reset_start\":-2.6946569782126875,\"start\":-2.6946569782126875,\"tags\":[[[\"num_total_rooms\",\"num_total_rooms\",null]]]},\"id\":\"32340\",\"type\":\"Range1d\"},{\"attributes\":{\"data_source\":{\"id\":\"32416\"},\"glyph\":{\"id\":\"32419\"},\"hover_glyph\":null,\"muted_glyph\":{\"id\":\"32421\"},\"nonselection_glyph\":{\"id\":\"32420\"},\"selection_glyph\":null,\"view\":{\"id\":\"32423\"}},\"id\":\"32422\",\"type\":\"GlyphRenderer\"},{\"attributes\":{\"align\":null,\"below\":[{\"id\":\"32354\"}],\"center\":[{\"id\":\"32357\"},{\"id\":\"32361\"},{\"id\":\"32395\"}],\"left\":[{\"id\":\"32358\"}],\"margin\":null,\"min_border_bottom\":10,\"min_border_left\":10,\"min_border_right\":10,\"min_border_top\":10,\"plot_height\":400,\"plot_width\":800,\"renderers\":[{\"id\":\"32385\"},{\"id\":\"32403\"},{\"id\":\"32422\"}],\"sizing_mode\":\"fixed\",\"title\":{\"id\":\"32346\"},\"toolbar\":{\"id\":\"32368\"},\"x_range\":{\"id\":\"32340\"},\"x_scale\":{\"id\":\"32350\"},\"y_range\":{\"id\":\"32341\"},\"y_scale\":{\"id\":\"32352\"}},\"id\":\"32345\",\"subtype\":\"Figure\",\"type\":\"Plot\"},{\"attributes\":{\"fill_alpha\":0.2,\"fill_color\":\"#ff7e0e\",\"line_alpha\":0.2,\"x\":{\"field\":\"x\"},\"y\":{\"field\":\"y\"}},\"id\":\"32402\",\"type\":\"Patch\"},{\"attributes\":{\"axis_label\":\"density\",\"bounds\":\"auto\",\"formatter\":{\"id\":\"32377\"},\"major_label_orientation\":\"horizontal\",\"ticker\":{\"id\":\"32359\"}},\"id\":\"32358\",\"type\":\"LinearAxis\"},{\"attributes\":{\"callback\":null,\"renderers\":[{\"id\":\"32385\"},{\"id\":\"32403\"},{\"id\":\"32422\"}],\"tags\":[\"hv_created\"],\"tooltips\":[[\"forecast_flag\",\"@{forecast_flag}\"],[\"num_total_rooms\",\"@{num_total_rooms}\"],[\"Density\",\"@{num_total_rooms_density}\"]]},\"id\":\"32342\",\"type\":\"HoverTool\"},{\"attributes\":{\"label\":{\"value\":\"under predict\"},\"renderers\":[{\"id\":\"32422\"}]},\"id\":\"32436\",\"type\":\"LegendItem\"},{\"attributes\":{\"fill_alpha\":0.5,\"fill_color\":\"#1f77b3\",\"line_alpha\":0.7,\"x\":{\"field\":\"x\"},\"y\":{\"field\":\"y\"}},\"id\":\"32383\",\"type\":\"Patch\"},{\"attributes\":{\"source\":{\"id\":\"32416\"}},\"id\":\"32423\",\"type\":\"CDSView\"},{\"attributes\":{},\"id\":\"32398\",\"type\":\"Selection\"},{\"attributes\":{\"label\":{\"value\":\"good\"},\"renderers\":[{\"id\":\"32403\"}]},\"id\":\"32415\",\"type\":\"LegendItem\"},{\"attributes\":{\"fill_alpha\":0.5,\"fill_color\":\"#ff7e0e\",\"line_alpha\":0.7,\"x\":{\"field\":\"x\"},\"y\":{\"field\":\"y\"}},\"id\":\"32401\",\"type\":\"Patch\"}],\"root_ids\":[\"32338\"]},\"title\":\"Bokeh Application\",\"version\":\"2.2.3\"}};\n",
       "  var render_items = [{\"docid\":\"735383ad-8d50-4e16-9b88-6f1220f3ddda\",\"root_ids\":[\"32338\"],\"roots\":{\"32338\":\"369cd905-b852-415c-9ed2-dea573cbce76\"}}];\n",
       "  root.Bokeh.embed.embed_items_notebook(docs_json, render_items);\n",
       "  }\n",
       "if (root.Bokeh !== undefined) {\n",
       "    embed_document(root);\n",
       "  } else {\n",
       "    var attempts = 0;\n",
       "    var timer = setInterval(function(root) {\n",
       "      if (root.Bokeh !== undefined) {\n",
       "        clearInterval(timer);\n",
       "        embed_document(root);\n",
       "      } else if (document.readyState == \"complete\") {\n",
       "        attempts++;\n",
       "        if (attempts > 100) {\n",
       "          clearInterval(timer);\n",
       "          console.log(\"Bokeh: ERROR: Unable to run BokehJS code because BokehJS library is missing\");\n",
       "        }\n",
       "      }\n",
       "    }, 10, root)\n",
       "  }\n",
       "})(window);</script>"
      ],
      "text/plain": [
       ":NdOverlay   [forecast_flag]\n",
       "   :Distribution   [num_total_rooms]   (Density)"
      ]
     },
     "execution_count": 50,
     "metadata": {
      "application/vnd.holoviews_exec.v0+json": {
       "id": "32338"
      }
     },
     "output_type": "execute_result"
    }
   ],
   "source": [
    "residual_analysis.hvplot.kde(y=\"num_total_rooms\",by=\"forecast_flag\", ## Grouping by Predictions\n",
    "                                width=800, height=400,\n",
    "                                alpha=0.7,\n",
    "                                ylabel=\"density\",\n",
    "                                xlabel=\"num_total_rooms\",\n",
    "                                title=f'num_total_rooms(density)',legend='top_right')"
   ]
  },
  {
   "cell_type": "markdown",
   "metadata": {},
   "source": [
    "- From the above plot we can infer that the higher \"over predictions\" are happening for unit_cost > 200.\n",
    "- similarly, the higher \"under predictions\" are happening for unit_cost is zero.\n",
    "\n",
    "This can help us tune the model by a separate model for unit_cost > 200\n"
   ]
  },
  {
   "cell_type": "markdown",
   "metadata": {},
   "source": [
    "# 4.2 Modelling - XGBoost"
   ]
  },
  {
   "cell_type": "markdown",
   "metadata": {},
   "source": [
    "## 4.2.1 Model training pipeline\n",
    "\n",
    "Here we focus on creating a collection of pipelines that can be used for tranining respective models.\n",
    "\n",
    "Each model pipeline will essentially be of the form\n",
    "```\n",
    "[\n",
    "('preprocessing', preprocessing_pipeline),\n",
    "('feature_selection', feature_selection_pipeline),\n",
    "('estimator', estimator),\n",
    "]\n",
    "```"
   ]
  },
  {
   "cell_type": "markdown",
   "metadata": {},
   "source": [
    "### 4.2.2 Model Pipeline Build"
   ]
  },
  {
   "cell_type": "code",
   "execution_count": 51,
   "metadata": {},
   "outputs": [
    {
     "data": {
      "text/plain": [
       "Pipeline(steps=[('XGBoost',\n",
       "                 XGBRegressor(base_score=0.5, booster='gbtree',\n",
       "                              colsample_bylevel=1, colsample_bynode=1,\n",
       "                              colsample_bytree=1, gamma=0, gpu_id=-1,\n",
       "                              importance_type='gain',\n",
       "                              interaction_constraints='',\n",
       "                              learning_rate=0.300000012, max_delta_step=0,\n",
       "                              max_depth=6, min_child_weight=1, missing=nan,\n",
       "                              monotone_constraints='()', n_estimators=100,\n",
       "                              n_jobs=0, num_parallel_tree=1, random_state=0,\n",
       "                              reg_alpha=0, reg_lambda=1, scale_pos_weight=1,\n",
       "                              subsample=1, tree_method='exact',\n",
       "                              validate_parameters=1, verbosity=None))])"
      ]
     },
     "execution_count": 51,
     "metadata": {},
     "output_type": "execute_result"
    }
   ],
   "source": [
    "# let's find features for some decent defaults\n",
    "estimator = XGBRegressor()\n",
    "xgb_training_pipe_init = Pipeline([\n",
    "    ('XGBoost', XGBRegressor())\n",
    "])\n",
    "xgb_training_pipe_init.fit(train_X, train_y)"
   ]
  },
  {
   "cell_type": "markdown",
   "metadata": {},
   "source": [
    "### 4.2.3 Model Tuning"
   ]
  },
  {
   "cell_type": "code",
   "execution_count": 52,
   "metadata": {},
   "outputs": [
    {
     "data": {
      "text/plain": [
       "<AxesSubplot:>"
      ]
     },
     "execution_count": 52,
     "metadata": {},
     "output_type": "execute_result"
    },
    {
     "data": {
      "image/png": "[encoded data removed]",
      "text/plain": [
       "<Figure size 432x288 with 1 Axes>"
      ]
     },
     "metadata": {
      "needs_background": "light"
     },
     "output_type": "display_data"
    }
   ],
   "source": [
    "# Understanding the Feature Importance\n",
    "%matplotlib inline\n",
    "imp = pd.DataFrame({'importance': xgb_training_pipe_init['XGBoost'].feature_importances_})\n",
    "imp.index = train_X.columns\n",
    "imp.sort_values('importance',inplace=True)\n",
    "imp.plot(kind='barh')"
   ]
  },
  {
   "cell_type": "markdown",
   "metadata": {},
   "source": [
    "'condition','model_family','days_since_last_purchase','first_time_customer','sales_person', are considered to be important and in grid search"
   ]
  },
  {
   "cell_type": "markdown",
   "metadata": {},
   "source": [
    "##### Pipeline build based on new importance features"
   ]
  },
  {
   "cell_type": "code",
   "execution_count": 53,
   "metadata": {},
   "outputs": [],
   "source": [
    "# let's find features for some decent defaults\n",
    "imp_features = []\n",
    "\n",
    "estimator = XGBRegressor()\n",
    "xgb_training_pipe2 = Pipeline([\n",
    "    ('', FunctionTransformer(_custom_data_transform, kw_args={'cols2keep':imp_features})),\n",
    "    ('XGBoost', XGBRegressor())\n",
    "])"
   ]
  },
  {
   "cell_type": "markdown",
   "metadata": {},
   "source": [
    "#### Grid Search of the Estimator"
   ]
  },
  {
   "cell_type": "code",
   "execution_count": 54,
   "metadata": {},
   "outputs": [
    {
     "name": "stdout",
     "output_type": "stream",
     "text": [
      "Fitting 2 folds for each of 1 candidates, totalling 2 fits\n"
     ]
    },
    {
     "name": "stderr",
     "output_type": "stream",
     "text": [
      "[Parallel(n_jobs=4)]: Using backend LokyBackend with 4 concurrent workers.\n",
      "[Parallel(n_jobs=4)]: Done   2 out of   2 | elapsed:    7.1s finished\n"
     ]
    },
    {
     "name": "stdout",
     "output_type": "stream",
     "text": [
      "0.8110126220241229\n",
      "{'gamma': 0.03, 'learning_rate': 0.1, 'max_depth': 3, 'min_child_weight': 6, 'n_estimators': 500}\n",
      "CPU times: user 9.45 s, sys: 232 ms, total: 9.68 s\n",
      "Wall time: 8.47 s\n"
     ]
    }
   ],
   "source": [
    "%%time\n",
    "parameters = {\n",
    "   'gamma':[0.03],\n",
    "   'min_child_weight':[6],\n",
    "   'learning_rate':[0.1],\n",
    "   'max_depth':[3],\n",
    "   'n_estimators':[500], \n",
    "}\n",
    "est = XGBRegressor()\n",
    "xgb_grid = GridSearchCV(est,\n",
    "                        parameters,\n",
    "                        cv = 2,\n",
    "                        n_jobs = 4,\n",
    "                        verbose=True)\n",
    "\n",
    "xgb_grid.fit(train_X, train_y)\n",
    "\n",
    "print(xgb_grid.best_score_)\n",
    "print(xgb_grid.best_params_)"
   ]
  },
  {
   "cell_type": "markdown",
   "metadata": {},
   "source": [
    "#### Pipeline Build using the best estimator"
   ]
  },
  {
   "cell_type": "code",
   "execution_count": 55,
   "metadata": {},
   "outputs": [
    {
     "data": {
      "text/plain": [
       "Pipeline(steps=[('',\n",
       "                 FunctionTransformer(func=<function _custom_data_transform at 0x7f9f3816e820>,\n",
       "                                     kw_args={'cols2keep': []})),\n",
       "                ('XGBoost',\n",
       "                 XGBRegressor(base_score=0.5, booster='gbtree',\n",
       "                              colsample_bylevel=1, colsample_bynode=1,\n",
       "                              colsample_bytree=1, gamma=0.03, gpu_id=-1,\n",
       "                              importance_type='gain',\n",
       "                              interaction_constraints='', learning_rate=0.1,\n",
       "                              max_delta_step=0, max_depth=3, min_child_weight=6,\n",
       "                              missing=nan, monotone_constraints='()',\n",
       "                              n_estimators=500, n_jobs=0, num_parallel_tree=1,\n",
       "                              random_state=0, reg_alpha=0, reg_lambda=1,\n",
       "                              scale_pos_weight=1, subsample=1,\n",
       "                              tree_method='exact', validate_parameters=1,\n",
       "                              verbosity=None))])"
      ]
     },
     "execution_count": 55,
     "metadata": {},
     "output_type": "execute_result"
    }
   ],
   "source": [
    "xgb_pipeline_final = Pipeline([\n",
    "    ('', FunctionTransformer(_custom_data_transform, kw_args={'cols2keep':imp_features})),\n",
    "    ('XGBoost', xgb_grid.best_estimator_)\n",
    "])\n",
    "xgb_pipeline_final.fit(train_X, train_y)"
   ]
  },
  {
   "cell_type": "code",
   "execution_count": 60,
   "metadata": {},
   "outputs": [],
   "source": [
    "reg_tree_report = RegressionReport(model=xgb_pipeline_final,refit=True, x_train=train_X, y_train=train_y, x_test= test_X, y_test= test_y)\n",
    "reg_tree_report.get_report(include_shap=False, file_path='regression_tree_model_report')"
   ]
  },
  {
   "cell_type": "markdown",
   "metadata": {},
   "source": [
    "The Regression report containing the feature importances are available [here](https://drive.google.com/file/d/1-VvhnH-TELL_SYQP1SA91KeGbSI48bCl/view?usp=sharing)"
   ]
  },
  {
   "cell_type": "markdown",
   "metadata": {},
   "source": [
    "# 5 Model Comparison"
   ]
  },
  {
   "cell_type": "markdown",
   "metadata": {},
   "source": [
    "Now, a comparison report of the  linear (vs) tree -based model  approach can be generated as follows.\n",
    "\n",
    "This code will not be part of the production code."
   ]
  },
  {
   "cell_type": "code",
   "execution_count": 66,
   "metadata": {},
   "outputs": [
    {
     "name": "stderr",
     "output_type": "stream",
     "text": [
      "`rcond` parameter will change to the default of machine precision times ``max(M, N)`` where M and N are the input matrix dimensions.\n",
      "To use the future default and silence this warning we advise to pass `rcond=None`, to keep using the old, explicitly pass `rcond=-1`.\n"
     ]
    }
   ],
   "source": [
    "model_pipelines = [reg_ppln, xgb_pipeline_final]\n",
    "model_comparison_report = RegressionComparison(models=model_pipelines,x=train_X, y=train_y)\n",
    "metrics = model_comparison_report.get_report(file_path='regression_comparison',include_shap=False)"
   ]
  },
  {
   "cell_type": "code",
   "execution_count": 62,
   "metadata": {},
   "outputs": [
    {
     "data": {
      "text/html": [
       "<div>\n",
       "<style scoped>\n",
       "    .dataframe tbody tr th:only-of-type {\n",
       "        vertical-align: middle;\n",
       "    }\n",
       "\n",
       "    .dataframe tbody tr th {\n",
       "        vertical-align: top;\n",
       "    }\n",
       "\n",
       "    .dataframe thead th {\n",
       "        text-align: right;\n",
       "    }\n",
       "</style>\n",
       "<table border=\"1\" class=\"dataframe\">\n",
       "  <thead>\n",
       "    <tr style=\"text-align: right;\">\n",
       "      <th>metric</th>\n",
       "      <th>MAPE</th>\n",
       "      <th>WMAPE</th>\n",
       "      <th>MAE</th>\n",
       "      <th>RMSE</th>\n",
       "      <th>R^2</th>\n",
       "    </tr>\n",
       "  </thead>\n",
       "  <tbody>\n",
       "    <tr>\n",
       "      <th>, Linear Regression</th>\n",
       "      <td>0.2980</td>\n",
       "      <td>0.2384</td>\n",
       "      <td>49295.8945</td>\n",
       "      <td>67729.5520</td>\n",
       "      <td>0.6540</td>\n",
       "    </tr>\n",
       "    <tr>\n",
       "      <th>, XGBoost</th>\n",
       "      <td>0.1636</td>\n",
       "      <td>0.1412</td>\n",
       "      <td>29188.3233</td>\n",
       "      <td>42324.3732</td>\n",
       "      <td>0.8649</td>\n",
       "    </tr>\n",
       "  </tbody>\n",
       "</table>\n",
       "</div>"
      ],
      "text/plain": [
       "metric                 MAPE   WMAPE         MAE        RMSE     R^2\n",
       ", Linear Regression  0.2980  0.2384  49295.8945  67729.5520  0.6540\n",
       ", XGBoost            0.1636  0.1412  29188.3233  42324.3732  0.8649"
      ]
     },
     "execution_count": 62,
     "metadata": {},
     "output_type": "execute_result"
    }
   ],
   "source": [
    "model_comparison_report.performance_metrics"
   ]
  },
  {
   "cell_type": "markdown",
   "metadata": {},
   "source": [
    "A report comparing the performance, metrics between Linear model and Tree model are available [here](https://drive.google.com/file/d/1t2VtBffSH5gfhxyaXZrfNufuRgMFZhc9/view?usp=sharing)"
   ]
  },
  {
   "cell_type": "markdown",
   "metadata": {},
   "source": [
    "**Dev NOTES**\n",
    "<details>\n",
    "\n",
    "the above metrics are absolute nos and not %ges"
   ]
  },
  {
   "cell_type": "markdown",
   "metadata": {},
   "source": [
    "In this example we are choosing LM model for pipelining. General criteria for choosing production models is:\n",
    "\n",
    "- Parametric models (aka whitebox models) such as Linear Regression are easier to explain to non-technical audience.\n",
    "- Generally these are accepted fast and adoption is quicker.\n",
    "- If the downstream calls for optimization using these models parametric models are easier to implement.\n",
    "- When accuracy is primary goal without explainability, the above two takes a backseat"
   ]
  }
 ],
 "metadata": {
  "kernelspec": {
   "display_name": "Python 3",
   "language": "python",
   "name": "python3"
  },
  "language_info": {
   "codemirror_mode": {
    "name": "ipython",
    "version": 3
   },
   "file_extension": ".py",
   "mimetype": "text/x-python",
   "name": "python",
   "nbconvert_exporter": "python",
   "pygments_lexer": "ipython3",
   "version": "3.8.11"
  }
 },
 "nbformat": 4,
 "nbformat_minor": 4
}
