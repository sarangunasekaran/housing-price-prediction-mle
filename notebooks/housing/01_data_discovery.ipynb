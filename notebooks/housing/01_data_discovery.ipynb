{
 "cells": [
  {
   "cell_type": "markdown",
   "metadata": {},
   "source": [
    "# Purpose\n",
    "This notebook describes the typical activities carried out  at the beginning to a project / thread when customer shares new data. We will be trying to understand the tables, columns and information flow. Typically we also look for data issues and confirm with respective owners for resolution. At the end of this activity, the data sources and their treatment is finalized. Code in this notebook will not be part of the production code.\n",
    "\n",
    "This data can be downloaded from\n",
    "[here](https://drive.google.com/file/d/11DqcBxxEcn3QA4YvPQmmExBm-m6AgUQ_/view?usp=sharing)\n",
    "\n",
    "**NOTE**:\n",
    "Download the data from the above link, and copy the extracted csv files to the path `data/raw/sales/` (relative to root of the code archive folder). Make sure to copy the files before continuing on with the rest of the notebook.\n",
    "\n",
    "# Initialization"
   ]
  },
  {
   "cell_type": "code",
   "execution_count": 56,
   "metadata": {},
   "outputs": [
    {
     "name": "stdout",
     "output_type": "stream",
     "text": [
      "The autoreload extension is already loaded. To reload it, use:\n",
      "  %reload_ext autoreload\n"
     ]
    }
   ],
   "source": [
    "%load_ext autoreload\n",
    "%autoreload 2"
   ]
  },
  {
   "cell_type": "code",
   "execution_count": 57,
   "metadata": {},
   "outputs": [
    {
     "name": "stdout",
     "output_type": "stream",
     "text": [
      "CPU times: user 132 µs, sys: 14 µs, total: 146 µs\n",
      "Wall time: 150 µs\n"
     ]
    }
   ],
   "source": [
    "%%time\n",
    "\n",
    "# Third-party imports\n",
    "import os.path as op\n",
    "import pandas as pd\n",
    "import great_expectations as ge\n",
    "\n",
    "# Project imports\n",
    "from ta_lib.core.api import display_as_tabs, initialize_environment\n",
    "\n",
    "# Initialization\n",
    "initialize_environment(debug=False, hide_warnings=True)"
   ]
  },
  {
   "cell_type": "markdown",
   "metadata": {},
   "source": [
    "# Data\n",
    "\n",
    "## Background\n",
    "\n",
    "Customer is a distributor of electronic devices. They partner with manufacturers, carriers and refurbishers and sell across to  retailers. The selling price is the outcome of negotiation between sales representatives and retailers. Customer wants to understand the selling price variation and determine  optimal pricing with Machine Learning."
   ]
  },
  {
   "cell_type": "code",
   "execution_count": 58,
   "metadata": {},
   "outputs": [],
   "source": [
    "from ta_lib.core.api import create_context, list_datasets, load_dataset"
   ]
  },
  {
   "cell_type": "code",
   "execution_count": 59,
   "metadata": {},
   "outputs": [],
   "source": [
    "config_path = op.join('conf', 'config.yml')\n",
    "context = create_context(config_path)"
   ]
  },
  {
   "cell_type": "code",
   "execution_count": 60,
   "metadata": {},
   "outputs": [
    {
     "data": {
      "text/html": [
       "['/raw/housing', '/cleaned/housing', '/processed/housing', '/train/housing/features', '/train/housing/target', '/test/housing/features', '/test/housing/target', '/score/housing/output']"
      ],
      "text/plain": [
       "['/raw/housing',\n",
       " '/cleaned/housing',\n",
       " '/processed/housing',\n",
       " '/train/housing/features',\n",
       " '/train/housing/target',\n",
       " '/test/housing/features',\n",
       " '/test/housing/target',\n",
       " '/score/housing/output']"
      ]
     },
     "execution_count": 60,
     "metadata": {},
     "output_type": "execute_result"
    }
   ],
   "source": [
    "list_datasets(context)"
   ]
  },
  {
   "cell_type": "code",
   "execution_count": 61,
   "metadata": {},
   "outputs": [],
   "source": [
    "# load datasets\n",
    "housing_df = load_dataset(context, '/raw/housing')"
   ]
  },
  {
   "cell_type": "markdown",
   "metadata": {},
   "source": [
    "# Exploratory Analysis\n",
    "\n",
    "Given the raw data from data ingestion, we would now like to explore and learn more details about the data.\n",
    "\n",
    "\n",
    "The output of the step would be a summary report and discussion of any pertinent findings.\n"
   ]
  },
  {
   "cell_type": "code",
   "execution_count": 62,
   "metadata": {},
   "outputs": [],
   "source": [
    "# Import the eda API\n",
    "import ta_lib.eda.api as eda"
   ]
  },
  {
   "cell_type": "markdown",
   "metadata": {},
   "source": [
    "## Variable summary"
   ]
  },
  {
   "cell_type": "code",
   "execution_count": 63,
   "metadata": {},
   "outputs": [
    {
     "data": {},
     "metadata": {},
     "output_type": "display_data"
    },
    {
     "data": {
      "application/vnd.holoviews_exec.v0+json": "",
      "text/html": [
       "<div id='4258'>\n",
       "\n",
       "\n",
       "\n",
       "\n",
       "\n",
       "  <div class=\"bk-root\" id=\"4e712568-4728-4ca6-9640-379f0c219638\" data-root-id=\"4258\"></div>\n",
       "</div>\n",
       "<script type=\"application/javascript\">(function(root) {\n",
       "  function embed_document(root) {\n",
       "  var docs_json = {\"696deac9-a170-4923-8762-d624416c3ef2\":{\"roots\":{\"references\":[{\"attributes\":{\"child\":{\"id\":\"4259\"},\"name\":\"housing\",\"title\":\"housing\"},\"id\":\"4260\",\"type\":\"Panel\"},{\"attributes\":{\"client_comm_id\":\"0147aabf4167485a8b7faed8084f7f9a\",\"comm_id\":\"ae7163c1893c49d2b7de9e24b104c274\",\"plot_id\":\"4258\"},\"id\":\"4261\",\"type\":\"panel.models.comm_manager.CommManager\"},{\"attributes\":{\"margin\":[0,0,0,0],\"tabs\":[{\"id\":\"4260\"}]},\"id\":\"4258\",\"type\":\"Tabs\"},{\"attributes\":{\"margin\":[5,5,5,5],\"name\":\"housing\",\"text\":\"&lt;pre&gt;(20640, 10)&lt;/pre&gt;\"},\"id\":\"4259\",\"type\":\"panel.models.markup.HTML\"}],\"root_ids\":[\"4258\",\"4261\"]},\"title\":\"Bokeh Application\",\"version\":\"2.2.3\"}};\n",
       "  var render_items = [{\"docid\":\"696deac9-a170-4923-8762-d624416c3ef2\",\"root_ids\":[\"4258\"],\"roots\":{\"4258\":\"4e712568-4728-4ca6-9640-379f0c219638\"}}];\n",
       "  root.Bokeh.embed.embed_items_notebook(docs_json, render_items);\n",
       "  }\n",
       "if (root.Bokeh !== undefined) {\n",
       "    embed_document(root);\n",
       "  } else {\n",
       "    var attempts = 0;\n",
       "    var timer = setInterval(function(root) {\n",
       "      if (root.Bokeh !== undefined) {\n",
       "        clearInterval(timer);\n",
       "        embed_document(root);\n",
       "      } else if (document.readyState == \"complete\") {\n",
       "        attempts++;\n",
       "        if (attempts > 100) {\n",
       "          clearInterval(timer);\n",
       "          console.log(\"Bokeh: ERROR: Unable to run BokehJS code because BokehJS library is missing\");\n",
       "        }\n",
       "      }\n",
       "    }, 10, root)\n",
       "  }\n",
       "})(window);</script>"
      ],
      "text/plain": [
       "Tabs\n",
       "    [0] Str(tuple, name='housing')"
      ]
     },
     "execution_count": 63,
     "metadata": {
      "application/vnd.holoviews_exec.v0+json": {
       "id": "4258"
      }
     },
     "output_type": "execute_result"
    }
   ],
   "source": [
    "display_as_tabs([('housing', housing_df.shape)])"
   ]
  },
  {
   "cell_type": "code",
   "execution_count": 64,
   "metadata": {},
   "outputs": [
    {
     "data": {},
     "metadata": {},
     "output_type": "display_data"
    },
    {
     "data": {
      "application/vnd.holoviews_exec.v0+json": "",
      "text/html": [
       "<div id='4262'>\n",
       "\n",
       "\n",
       "\n",
       "\n",
       "\n",
       "  <div class=\"bk-root\" id=\"10c00785-a911-4119-83de-e697906dcc1d\" data-root-id=\"4262\"></div>\n",
       "</div>\n",
       "<script type=\"application/javascript\">(function(root) {\n",
       "  function embed_document(root) {\n",
       "  var docs_json = {\"ebaec89e-e4ad-4ce5-839d-26e0d3cc3b93\":{\"roots\":{\"references\":[{\"attributes\":{},\"id\":\"4265\",\"type\":\"StringEditor\"},{\"attributes\":{\"format\":\"0,0.0[00000]\"},\"id\":\"4269\",\"type\":\"NumberFormatter\"},{\"attributes\":{\"child\":{\"id\":\"4274\"},\"name\":\"housing\",\"title\":\"housing\"},\"id\":\"4277\",\"type\":\"Panel\"},{\"attributes\":{},\"id\":\"4264\",\"type\":\"StringFormatter\"},{\"attributes\":{\"columns\":[{\"id\":\"4266\"},{\"id\":\"4271\"}],\"editable\":true,\"fit_columns\":true,\"height\":230,\"index_position\":null,\"margin\":[5,10,5,10],\"name\":\"housing\",\"source\":{\"id\":\"4263\"},\"view\":{\"id\":\"4275\"}},\"id\":\"4274\",\"type\":\"DataTable\"},{\"attributes\":{\"data\":{\"type_labels\":[[\"Datatypes\",\"Numeric\"],[\"Datatypes\",\"Others\"],[\"Missing Values\",\"Available\"],[\"Missing Values\",\"Missing\"],[\"Duplicate Values\",\"Unique\"],[\"Duplicate Values\",\"Duplicate\"],[\"Duplicate Columns\",\"Unique\"],[\"Duplicate Columns\",\"Duplicate\"]],\"values\":{\"__ndarray__\":\"AAAAAACAVkAAAAAAAAAkQE1ZU9aU+VhAa8qasqasuT8AAAAAAABZQAAAAAAAAAAAAAAAAAAAWUAAAAAAAAAAAA==\",\"dtype\":\"float64\",\"order\":\"little\",\"shape\":[8]}},\"selected\":{\"id\":\"4276\"},\"selection_policy\":{\"id\":\"4278\"}},\"id\":\"4263\",\"type\":\"ColumnDataSource\"},{\"attributes\":{},\"id\":\"4270\",\"type\":\"NumberEditor\"},{\"attributes\":{},\"id\":\"4276\",\"type\":\"Selection\"},{\"attributes\":{\"source\":{\"id\":\"4263\"}},\"id\":\"4275\",\"type\":\"CDSView\"},{\"attributes\":{},\"id\":\"4278\",\"type\":\"UnionRenderers\"},{\"attributes\":{\"client_comm_id\":\"005d4412f06d42f0ae68068fef9364b0\",\"comm_id\":\"527c4652acae4fa7940965b6cc1880d1\",\"plot_id\":\"4262\"},\"id\":\"4284\",\"type\":\"panel.models.comm_manager.CommManager\"},{\"attributes\":{\"margin\":[0,0,0,0],\"tabs\":[{\"id\":\"4277\"}]},\"id\":\"4262\",\"type\":\"Tabs\"},{\"attributes\":{\"editor\":{\"id\":\"4270\"},\"field\":\"values\",\"formatter\":{\"id\":\"4269\"},\"title\":\"values\",\"width\":null},\"id\":\"4271\",\"type\":\"TableColumn\"},{\"attributes\":{\"editor\":{\"id\":\"4265\"},\"field\":\"index\",\"formatter\":{\"id\":\"4264\"},\"title\":\"index\",\"width\":null},\"id\":\"4266\",\"type\":\"TableColumn\"}],\"root_ids\":[\"4262\",\"4284\"]},\"title\":\"Bokeh Application\",\"version\":\"2.2.3\"}};\n",
       "  var render_items = [{\"docid\":\"ebaec89e-e4ad-4ce5-839d-26e0d3cc3b93\",\"root_ids\":[\"4262\"],\"roots\":{\"4262\":\"10c00785-a911-4119-83de-e697906dcc1d\"}}];\n",
       "  root.Bokeh.embed.embed_items_notebook(docs_json, render_items);\n",
       "  }\n",
       "if (root.Bokeh !== undefined) {\n",
       "    embed_document(root);\n",
       "  } else {\n",
       "    var attempts = 0;\n",
       "    var timer = setInterval(function(root) {\n",
       "      if (root.Bokeh !== undefined) {\n",
       "        clearInterval(timer);\n",
       "        embed_document(root);\n",
       "      } else if (document.readyState == \"complete\") {\n",
       "        attempts++;\n",
       "        if (attempts > 100) {\n",
       "          clearInterval(timer);\n",
       "          console.log(\"Bokeh: ERROR: Unable to run BokehJS code because BokehJS library is missing\");\n",
       "        }\n",
       "      }\n",
       "    }, 10, root)\n",
       "  }\n",
       "})(window);</script>"
      ],
      "text/plain": [
       "Tabs\n",
       "    [0] DataFrame(name='housing', value=              ...)"
      ]
     },
     "execution_count": 64,
     "metadata": {
      "application/vnd.holoviews_exec.v0+json": {
       "id": "4262"
      }
     },
     "output_type": "execute_result"
    }
   ],
   "source": [
    "sum1 = eda.get_variable_summary(housing_df)\n",
    "\n",
    "display_as_tabs([('housing', sum)])"
   ]
  },
  {
   "cell_type": "code",
   "execution_count": 65,
   "metadata": {},
   "outputs": [
    {
     "data": {
      "text/plain": [
       "longitude               0\n",
       "latitude                0\n",
       "housing_median_age      0\n",
       "total_rooms             0\n",
       "total_bedrooms        207\n",
       "population              0\n",
       "households              0\n",
       "median_income           0\n",
       "median_house_value      0\n",
       "ocean_proximity         0\n",
       "dtype: int64"
      ]
     },
     "execution_count": 65,
     "metadata": {},
     "output_type": "execute_result"
    }
   ],
   "source": [
    "housing_df.isna().sum()"
   ]
  },
  {
   "cell_type": "markdown",
   "metadata": {},
   "source": [
    "**Dev NOTES**\n",
    "\n",
    "<details>\n",
    "1. Datatypes : We have both numeric and other types. The bulk of them seem to be numeric. `Numeric` is defined to be one of [float|int|date] and the rest are categorized as `Others`. A column is assumed to have `date` values if it has the string `date` in the column name.\n"
   ]
  },
  {
   "cell_type": "markdown",
   "metadata": {},
   "source": [
    "### Summary Plot\n",
    "\n",
    "Provides a high level summary of the dataset health.\n",
    "\n",
    "**Watch out for:**\n",
    "\n",
    "* too few numeric values\n",
    "* high % of missing values\n",
    "* high % of duplicate values\n",
    "* high % of duplicate columns "
   ]
  },
  {
   "cell_type": "code",
   "execution_count": 66,
   "metadata": {},
   "outputs": [
    {
     "data": {},
     "metadata": {},
     "output_type": "display_data"
    },
    {
     "data": {},
     "metadata": {},
     "output_type": "display_data"
    },
    {
     "data": {
      "application/vnd.holoviews_exec.v0+json": "",
      "text/html": [
       "<div id='4295'>\n",
       "\n",
       "\n",
       "\n",
       "\n",
       "\n",
       "  <div class=\"bk-root\" id=\"362c355a-4da5-4f7d-9085-f1d87204ac5d\" data-root-id=\"4295\"></div>\n",
       "</div>\n",
       "<script type=\"application/javascript\">(function(root) {\n",
       "  function embed_document(root) {\n",
       "  var docs_json = {\"551307bb-1459-46ca-8caa-c33fa09320f4\":{\"roots\":{\"references\":[{\"attributes\":{\"axis\":{\"id\":\"4365\"},\"grid_line_color\":null,\"ticker\":null},\"id\":\"4368\",\"type\":\"Grid\"},{\"attributes\":{},\"id\":\"4361\",\"type\":\"LinearScale\"},{\"attributes\":{\"active_drag\":\"auto\",\"active_inspect\":\"auto\",\"active_multi\":null,\"active_scroll\":\"auto\",\"active_tap\":\"auto\",\"tools\":[{\"id\":\"4298\"},{\"id\":\"4315\"},{\"id\":\"4316\"},{\"id\":\"4317\"},{\"id\":\"4318\"},{\"id\":\"4319\"}]},\"id\":\"4321\",\"type\":\"Toolbar\"},{\"attributes\":{\"text\":\"Missing Values\",\"text_color\":{\"value\":\"black\"},\"text_font_size\":{\"value\":\"12pt\"}},\"id\":\"4357\",\"type\":\"Title\"},{\"attributes\":{\"axis_label\":\"\",\"bounds\":\"auto\",\"formatter\":{\"id\":\"4512\"},\"major_label_orientation\":\"horizontal\",\"ticker\":{\"id\":\"4484\"}},\"id\":\"4483\",\"type\":\"CategoricalAxis\"},{\"attributes\":{},\"id\":\"4456\",\"type\":\"UnionRenderers\"},{\"attributes\":{\"axis_label\":\"\",\"bounds\":\"auto\",\"formatter\":{\"id\":\"4398\"},\"major_label_orientation\":\"horizontal\",\"ticker\":{\"id\":\"4370\"}},\"id\":\"4369\",\"type\":\"CategoricalAxis\"},{\"attributes\":{},\"id\":\"4317\",\"type\":\"WheelZoomTool\"},{\"attributes\":{},\"id\":\"4484\",\"type\":\"CategoricalTicker\"},{\"attributes\":{},\"id\":\"4315\",\"type\":\"SaveTool\"},{\"attributes\":{\"overlay\":{\"id\":\"4320\"}},\"id\":\"4318\",\"type\":\"BoxZoomTool\"},{\"attributes\":{\"align\":null,\"below\":[{\"id\":\"4365\"}],\"center\":[{\"id\":\"4368\"},{\"id\":\"4371\"},{\"id\":\"4402\"}],\"left\":[{\"id\":\"4369\"}],\"margin\":null,\"min_border_bottom\":10,\"min_border_left\":10,\"min_border_right\":10,\"min_border_top\":10,\"plot_height\":100,\"plot_width\":700,\"renderers\":[{\"id\":\"4392\"}],\"right\":[{\"id\":\"4402\"}],\"sizing_mode\":\"fixed\",\"title\":{\"id\":\"4357\"},\"toolbar\":{\"id\":\"4378\"},\"toolbar_location\":null,\"x_range\":{\"id\":\"4296\"},\"x_scale\":{\"id\":\"4361\"},\"y_range\":{\"id\":\"4297\"},\"y_scale\":{\"id\":\"4363\"}},\"id\":\"4356\",\"subtype\":\"Figure\",\"type\":\"Plot\"},{\"attributes\":{},\"id\":\"4316\",\"type\":\"PanTool\"},{\"attributes\":{\"fill_color\":{\"field\":\"Variable\",\"transform\":{\"id\":\"4328\"}},\"height\":{\"value\":0.8},\"left\":{\"field\":\"bottom\"},\"right\":{\"field\":\"top\"},\"y\":{\"field\":\"index\"}},\"id\":\"4332\",\"type\":\"HBar\"},{\"attributes\":{\"label\":{\"field\":\"Variable\"},\"renderers\":[{\"id\":\"4335\"}]},\"id\":\"4346\",\"type\":\"LegendItem\"},{\"attributes\":{\"axis_label\":\"\",\"bounds\":\"auto\",\"formatter\":{\"id\":\"4396\"},\"major_label_orientation\":\"horizontal\",\"ticker\":{\"id\":\"4404\"}},\"id\":\"4365\",\"type\":\"LinearAxis\"},{\"attributes\":{},\"id\":\"4396\",\"type\":\"BasicTickFormatter\"},{\"attributes\":{\"callback\":null,\"renderers\":[{\"id\":\"4392\"}],\"tags\":[\"hv_created\"],\"tooltips\":[[\"index\",\"@{index}\"],[\"Variable\",\"@{Variable}\"],[\"value\",\"@{value}\"]]},\"id\":\"4355\",\"type\":\"HoverTool\"},{\"attributes\":{\"overlay\":{\"id\":\"4434\"}},\"id\":\"4432\",\"type\":\"BoxZoomTool\"},{\"attributes\":{},\"id\":\"4319\",\"type\":\"ResetTool\"},{\"attributes\":{\"callback\":null,\"renderers\":[{\"id\":\"4449\"}],\"tags\":[\"hv_created\"],\"tooltips\":[[\"index\",\"@{index}\"],[\"Variable\",\"@{Variable}\"],[\"value\",\"@{value}\"]]},\"id\":\"4412\",\"type\":\"HoverTool\"},{\"attributes\":{\"callback\":null,\"renderers\":[{\"id\":\"4335\"}],\"tags\":[\"hv_created\"],\"tooltips\":[[\"index\",\"@{index}\"],[\"Variable\",\"@{Variable}\"],[\"value\",\"@{value}\"]]},\"id\":\"4298\",\"type\":\"HoverTool\"},{\"attributes\":{},\"id\":\"4429\",\"type\":\"SaveTool\"},{\"attributes\":{\"overlay\":{\"id\":\"4377\"}},\"id\":\"4375\",\"type\":\"BoxZoomTool\"},{\"attributes\":{},\"id\":\"4431\",\"type\":\"WheelZoomTool\"},{\"attributes\":{\"fill_alpha\":{\"value\":0.2},\"fill_color\":{\"field\":\"Variable\",\"transform\":{\"id\":\"4328\"}},\"height\":{\"value\":0.8},\"left\":{\"field\":\"bottom\"},\"line_alpha\":{\"value\":0.2},\"right\":{\"field\":\"top\"},\"y\":{\"field\":\"index\"}},\"id\":\"4334\",\"type\":\"HBar\"},{\"attributes\":{\"axis_label\":\"\",\"bounds\":\"auto\",\"formatter\":{\"id\":\"4453\"},\"major_label_orientation\":\"horizontal\",\"ticker\":{\"id\":\"4461\"}},\"id\":\"4422\",\"type\":\"LinearAxis\"},{\"attributes\":{\"align\":null,\"below\":[{\"id\":\"4479\"}],\"center\":[{\"id\":\"4482\"},{\"id\":\"4485\"},{\"id\":\"4516\"}],\"left\":[{\"id\":\"4483\"}],\"margin\":null,\"min_border_bottom\":10,\"min_border_left\":10,\"min_border_right\":10,\"min_border_top\":10,\"plot_height\":100,\"plot_width\":700,\"renderers\":[{\"id\":\"4506\"}],\"right\":[{\"id\":\"4516\"}],\"sizing_mode\":\"fixed\",\"title\":{\"id\":\"4471\"},\"toolbar\":{\"id\":\"4492\"},\"toolbar_location\":null,\"x_range\":{\"id\":\"4296\"},\"x_scale\":{\"id\":\"4475\"},\"y_range\":{\"id\":\"4297\"},\"y_scale\":{\"id\":\"4477\"}},\"id\":\"4470\",\"subtype\":\"Figure\",\"type\":\"Plot\"},{\"attributes\":{\"axis_label\":\"\",\"bounds\":\"auto\",\"formatter\":{\"id\":\"4339\"},\"major_label_orientation\":\"horizontal\",\"ticker\":{\"id\":\"4347\"}},\"id\":\"4308\",\"type\":\"LinearAxis\"},{\"attributes\":{},\"id\":\"4418\",\"type\":\"LinearScale\"},{\"attributes\":{\"ticks\":[0]},\"id\":\"4461\",\"type\":\"FixedTicker\"},{\"attributes\":{\"toolbars\":[{\"id\":\"4321\"},{\"id\":\"4378\"},{\"id\":\"4435\"},{\"id\":\"4492\"}],\"tools\":[{\"id\":\"4298\"},{\"id\":\"4315\"},{\"id\":\"4316\"},{\"id\":\"4317\"},{\"id\":\"4318\"},{\"id\":\"4319\"},{\"id\":\"4355\"},{\"id\":\"4372\"},{\"id\":\"4373\"},{\"id\":\"4374\"},{\"id\":\"4375\"},{\"id\":\"4376\"},{\"id\":\"4412\"},{\"id\":\"4429\"},{\"id\":\"4430\"},{\"id\":\"4431\"},{\"id\":\"4432\"},{\"id\":\"4433\"},{\"id\":\"4469\"},{\"id\":\"4486\"},{\"id\":\"4487\"},{\"id\":\"4488\"},{\"id\":\"4489\"},{\"id\":\"4490\"}]},\"id\":\"4558\",\"type\":\"ProxyToolbar\"},{\"attributes\":{\"label\":{\"field\":\"Variable\"},\"renderers\":[{\"id\":\"4392\"}]},\"id\":\"4403\",\"type\":\"LegendItem\"},{\"attributes\":{},\"id\":\"4373\",\"type\":\"PanTool\"},{\"attributes\":{},\"id\":\"4398\",\"type\":\"CategoricalTickFormatter\"},{\"attributes\":{\"callback\":null,\"renderers\":[{\"id\":\"4506\"}],\"tags\":[\"hv_created\"],\"tooltips\":[[\"index\",\"@{index}\"],[\"Variable\",\"@{Variable}\"],[\"value\",\"@{value}\"]]},\"id\":\"4469\",\"type\":\"HoverTool\"},{\"attributes\":{\"fill_alpha\":{\"value\":0.1},\"fill_color\":{\"field\":\"Variable\",\"transform\":{\"id\":\"4328\"}},\"height\":{\"value\":0.8},\"left\":{\"field\":\"bottom\"},\"line_alpha\":{\"value\":0.1},\"right\":{\"field\":\"top\"},\"y\":{\"field\":\"index\"}},\"id\":\"4333\",\"type\":\"HBar\"},{\"attributes\":{},\"id\":\"4370\",\"type\":\"CategoricalTicker\"},{\"attributes\":{\"axis\":{\"id\":\"4369\"},\"dimension\":1,\"grid_line_color\":null,\"ticker\":null},\"id\":\"4371\",\"type\":\"Grid\"},{\"attributes\":{\"factors\":[\"Numeric\",\"Others\"],\"palette\":[\"#1f77b3\",\"#ff7e0e\"]},\"id\":\"4328\",\"type\":\"CategoricalColorMapper\"},{\"attributes\":{},\"id\":\"4363\",\"type\":\"CategoricalScale\"},{\"attributes\":{\"data_source\":{\"id\":\"4329\"},\"glyph\":{\"id\":\"4332\"},\"hover_glyph\":null,\"muted_glyph\":{\"id\":\"4334\"},\"nonselection_glyph\":{\"id\":\"4333\"},\"selection_glyph\":null,\"view\":{\"id\":\"4336\"}},\"id\":\"4335\",\"type\":\"GlyphRenderer\"},{\"attributes\":{\"source\":{\"id\":\"4329\"}},\"id\":\"4336\",\"type\":\"CDSView\"},{\"attributes\":{\"items\":[{\"id\":\"4346\"}],\"location\":[0,0]},\"id\":\"4345\",\"type\":\"Legend\"},{\"attributes\":{\"fill_alpha\":{\"value\":0.2},\"fill_color\":{\"field\":\"Variable\",\"transform\":{\"id\":\"4385\"}},\"height\":{\"value\":0.8},\"left\":{\"field\":\"bottom\"},\"line_alpha\":{\"value\":0.2},\"right\":{\"field\":\"top\"},\"y\":{\"field\":\"index\"}},\"id\":\"4391\",\"type\":\"HBar\"},{\"attributes\":{\"data_source\":{\"id\":\"4386\"},\"glyph\":{\"id\":\"4389\"},\"hover_glyph\":null,\"muted_glyph\":{\"id\":\"4391\"},\"nonselection_glyph\":{\"id\":\"4390\"},\"selection_glyph\":null,\"view\":{\"id\":\"4393\"}},\"id\":\"4392\",\"type\":\"GlyphRenderer\"},{\"attributes\":{},\"id\":\"4486\",\"type\":\"SaveTool\"},{\"attributes\":{\"fill_alpha\":{\"value\":0.1},\"fill_color\":{\"field\":\"Variable\",\"transform\":{\"id\":\"4385\"}},\"height\":{\"value\":0.8},\"left\":{\"field\":\"bottom\"},\"line_alpha\":{\"value\":0.1},\"right\":{\"field\":\"top\"},\"y\":{\"field\":\"index\"}},\"id\":\"4390\",\"type\":\"HBar\"},{\"attributes\":{\"ticks\":[0]},\"id\":\"4518\",\"type\":\"FixedTicker\"},{\"attributes\":{},\"id\":\"4339\",\"type\":\"BasicTickFormatter\"},{\"attributes\":{\"data\":{\"Variable\":[\"Unique\",\"Duplicate\"],\"bottom\":{\"__ndarray__\":\"AAAAAAAAAAAAAAAAAABZQA==\",\"dtype\":\"float64\",\"order\":\"little\",\"shape\":[2]},\"index\":[\"values\",\"values\"],\"top\":{\"__ndarray__\":\"AAAAAAAAWUAAAAAAAABZQA==\",\"dtype\":\"float64\",\"order\":\"little\",\"shape\":[2]},\"value\":{\"__ndarray__\":\"AAAAAAAAWUAAAAAAAAAAAA==\",\"dtype\":\"float64\",\"order\":\"little\",\"shape\":[2]}},\"selected\":{\"id\":\"4444\"},\"selection_policy\":{\"id\":\"4456\"}},\"id\":\"4443\",\"type\":\"ColumnDataSource\"},{\"attributes\":{},\"id\":\"4374\",\"type\":\"WheelZoomTool\"},{\"attributes\":{},\"id\":\"4433\",\"type\":\"ResetTool\"},{\"attributes\":{},\"id\":\"4430\",\"type\":\"PanTool\"},{\"attributes\":{\"align\":null,\"below\":[{\"id\":\"4422\"}],\"center\":[{\"id\":\"4425\"},{\"id\":\"4428\"},{\"id\":\"4459\"}],\"left\":[{\"id\":\"4426\"}],\"margin\":null,\"min_border_bottom\":10,\"min_border_left\":10,\"min_border_right\":10,\"min_border_top\":10,\"plot_height\":100,\"plot_width\":700,\"renderers\":[{\"id\":\"4449\"}],\"right\":[{\"id\":\"4459\"}],\"sizing_mode\":\"fixed\",\"title\":{\"id\":\"4414\"},\"toolbar\":{\"id\":\"4435\"},\"toolbar_location\":null,\"x_range\":{\"id\":\"4296\"},\"x_scale\":{\"id\":\"4418\"},\"y_range\":{\"id\":\"4297\"},\"y_scale\":{\"id\":\"4420\"}},\"id\":\"4413\",\"subtype\":\"Figure\",\"type\":\"Plot\"},{\"attributes\":{},\"id\":\"4488\",\"type\":\"WheelZoomTool\"},{\"attributes\":{},\"id\":\"4306\",\"type\":\"CategoricalScale\"},{\"attributes\":{},\"id\":\"4304\",\"type\":\"LinearScale\"},{\"attributes\":{\"source\":{\"id\":\"4386\"}},\"id\":\"4393\",\"type\":\"CDSView\"},{\"attributes\":{\"factors\":[\"values\"],\"tags\":[[[\"index\",\"index\",null]]]},\"id\":\"4297\",\"type\":\"FactorRange\"},{\"attributes\":{\"axis\":{\"id\":\"4422\"},\"grid_line_color\":null,\"ticker\":null},\"id\":\"4425\",\"type\":\"Grid\"},{\"attributes\":{\"axis\":{\"id\":\"4312\"},\"dimension\":1,\"grid_line_color\":null,\"ticker\":null},\"id\":\"4314\",\"type\":\"Grid\"},{\"attributes\":{\"axis_label\":\"\",\"bounds\":\"auto\",\"formatter\":{\"id\":\"4341\"},\"major_label_orientation\":\"horizontal\",\"ticker\":{\"id\":\"4313\"}},\"id\":\"4312\",\"type\":\"CategoricalAxis\"},{\"attributes\":{},\"id\":\"4513\",\"type\":\"UnionRenderers\"},{\"attributes\":{},\"id\":\"4313\",\"type\":\"CategoricalTicker\"},{\"attributes\":{},\"id\":\"4376\",\"type\":\"ResetTool\"},{\"attributes\":{},\"id\":\"4341\",\"type\":\"CategoricalTickFormatter\"},{\"attributes\":{\"axis\":{\"id\":\"4308\"},\"grid_line_color\":null,\"ticker\":null},\"id\":\"4311\",\"type\":\"Grid\"},{\"attributes\":{},\"id\":\"4330\",\"type\":\"Selection\"},{\"attributes\":{},\"id\":\"4444\",\"type\":\"Selection\"},{\"attributes\":{\"text\":\"Duplicate Values\",\"text_color\":{\"value\":\"black\"},\"text_font_size\":{\"value\":\"12pt\"}},\"id\":\"4414\",\"type\":\"Title\"},{\"attributes\":{\"margin\":[0,0,0,0],\"tabs\":[{\"id\":\"4815\"}]},\"id\":\"4295\",\"type\":\"Tabs\"},{\"attributes\":{},\"id\":\"4372\",\"type\":\"SaveTool\"},{\"attributes\":{\"axis\":{\"id\":\"4483\"},\"dimension\":1,\"grid_line_color\":null,\"ticker\":null},\"id\":\"4485\",\"type\":\"Grid\"},{\"attributes\":{\"text\":\"Datatypes\",\"text_color\":{\"value\":\"black\"},\"text_font_size\":{\"value\":\"12pt\"}},\"id\":\"4300\",\"type\":\"Title\"},{\"attributes\":{\"items\":[{\"id\":\"4403\"}],\"location\":[0,0]},\"id\":\"4402\",\"type\":\"Legend\"},{\"attributes\":{},\"id\":\"4512\",\"type\":\"CategoricalTickFormatter\"},{\"attributes\":{\"align\":null,\"below\":[{\"id\":\"4308\"}],\"center\":[{\"id\":\"4311\"},{\"id\":\"4314\"},{\"id\":\"4345\"}],\"left\":[{\"id\":\"4312\"}],\"margin\":null,\"min_border_bottom\":10,\"min_border_left\":10,\"min_border_right\":10,\"min_border_top\":10,\"plot_height\":100,\"plot_width\":700,\"renderers\":[{\"id\":\"4335\"}],\"right\":[{\"id\":\"4345\"}],\"sizing_mode\":\"fixed\",\"title\":{\"id\":\"4300\"},\"toolbar\":{\"id\":\"4321\"},\"toolbar_location\":null,\"x_range\":{\"id\":\"4296\"},\"x_scale\":{\"id\":\"4304\"},\"y_range\":{\"id\":\"4297\"},\"y_scale\":{\"id\":\"4306\"}},\"id\":\"4299\",\"subtype\":\"Figure\",\"type\":\"Plot\"},{\"attributes\":{},\"id\":\"4487\",\"type\":\"PanTool\"},{\"attributes\":{\"data\":{\"Variable\":[\"Unique\",\"Duplicate\"],\"bottom\":{\"__ndarray__\":\"AAAAAAAAAAAAAAAAAABZQA==\",\"dtype\":\"float64\",\"order\":\"little\",\"shape\":[2]},\"index\":[\"values\",\"values\"],\"top\":{\"__ndarray__\":\"AAAAAAAAWUAAAAAAAABZQA==\",\"dtype\":\"float64\",\"order\":\"little\",\"shape\":[2]},\"value\":{\"__ndarray__\":\"AAAAAAAAWUAAAAAAAAAAAA==\",\"dtype\":\"float64\",\"order\":\"little\",\"shape\":[2]}},\"selected\":{\"id\":\"4501\"},\"selection_policy\":{\"id\":\"4513\"}},\"id\":\"4500\",\"type\":\"ColumnDataSource\"},{\"attributes\":{\"client_comm_id\":\"d9aff13a4eb2417f89d115d651d5ff94\",\"comm_id\":\"eba5f84494a8419c9ce1f1cd6a21d58d\",\"plot_id\":\"4295\"},\"id\":\"4900\",\"type\":\"panel.models.comm_manager.CommManager\"},{\"attributes\":{\"text\":\"Duplicate Columns\",\"text_color\":{\"value\":\"black\"},\"text_font_size\":{\"value\":\"12pt\"}},\"id\":\"4471\",\"type\":\"Title\"},{\"attributes\":{\"end\":100.0,\"reset_end\":100.0,\"reset_start\":0.0,\"tags\":[[[\"value\",\"value\",null]]]},\"id\":\"4296\",\"type\":\"Range1d\"},{\"attributes\":{},\"id\":\"4342\",\"type\":\"UnionRenderers\"},{\"attributes\":{},\"id\":\"4453\",\"type\":\"BasicTickFormatter\"},{\"attributes\":{\"active_drag\":\"auto\",\"active_inspect\":\"auto\",\"active_multi\":null,\"active_scroll\":\"auto\",\"active_tap\":\"auto\",\"tools\":[{\"id\":\"4469\"},{\"id\":\"4486\"},{\"id\":\"4487\"},{\"id\":\"4488\"},{\"id\":\"4489\"},{\"id\":\"4490\"}]},\"id\":\"4492\",\"type\":\"Toolbar\"},{\"attributes\":{\"bottom_units\":\"screen\",\"fill_alpha\":0.5,\"fill_color\":\"lightgrey\",\"left_units\":\"screen\",\"level\":\"overlay\",\"line_alpha\":1.0,\"line_color\":\"black\",\"line_dash\":[4,4],\"line_width\":2,\"right_units\":\"screen\",\"top_units\":\"screen\"},\"id\":\"4377\",\"type\":\"BoxAnnotation\"},{\"attributes\":{\"axis\":{\"id\":\"4479\"},\"grid_line_color\":null,\"ticker\":null},\"id\":\"4482\",\"type\":\"Grid\"},{\"attributes\":{\"style\":{\"white-space\":\"nowrap\"},\"text\":\"<span style=\\\"color:black;font-family:Arial;font-style:bold;font-weight:bold;font-size:12pt\\\">Data Shape:(20640, 10)</span>\",\"width\":450},\"id\":\"4561\",\"type\":\"Div\"},{\"attributes\":{\"source\":{\"id\":\"4500\"}},\"id\":\"4507\",\"type\":\"CDSView\"},{\"attributes\":{\"children\":[[{\"id\":\"4299\"},0,0],[{\"id\":\"4356\"},1,0],[{\"id\":\"4413\"},2,0],[{\"id\":\"4470\"},3,0]]},\"id\":\"4557\",\"type\":\"GridBox\"},{\"attributes\":{},\"id\":\"4490\",\"type\":\"ResetTool\"},{\"attributes\":{\"ticks\":[0]},\"id\":\"4347\",\"type\":\"FixedTicker\"},{\"attributes\":{\"active_drag\":\"auto\",\"active_inspect\":\"auto\",\"active_multi\":null,\"active_scroll\":\"auto\",\"active_tap\":\"auto\",\"tools\":[{\"id\":\"4412\"},{\"id\":\"4429\"},{\"id\":\"4430\"},{\"id\":\"4431\"},{\"id\":\"4432\"},{\"id\":\"4433\"}]},\"id\":\"4435\",\"type\":\"Toolbar\"},{\"attributes\":{\"axis_label\":\"\",\"bounds\":\"auto\",\"formatter\":{\"id\":\"4510\"},\"major_label_orientation\":\"horizontal\",\"ticker\":{\"id\":\"4518\"}},\"id\":\"4479\",\"type\":\"LinearAxis\"},{\"attributes\":{\"overlay\":{\"id\":\"4491\"}},\"id\":\"4489\",\"type\":\"BoxZoomTool\"},{\"attributes\":{\"data_source\":{\"id\":\"4443\"},\"glyph\":{\"id\":\"4446\"},\"hover_glyph\":null,\"muted_glyph\":{\"id\":\"4448\"},\"nonselection_glyph\":{\"id\":\"4447\"},\"selection_glyph\":null,\"view\":{\"id\":\"4450\"}},\"id\":\"4449\",\"type\":\"GlyphRenderer\"},{\"attributes\":{\"fill_alpha\":{\"value\":0.2},\"fill_color\":{\"field\":\"Variable\",\"transform\":{\"id\":\"4442\"}},\"height\":{\"value\":0.8},\"left\":{\"field\":\"bottom\"},\"line_alpha\":{\"value\":0.2},\"right\":{\"field\":\"top\"},\"y\":{\"field\":\"index\"}},\"id\":\"4448\",\"type\":\"HBar\"},{\"attributes\":{},\"id\":\"4399\",\"type\":\"UnionRenderers\"},{\"attributes\":{\"label\":{\"field\":\"Variable\"},\"renderers\":[{\"id\":\"4449\"}]},\"id\":\"4460\",\"type\":\"LegendItem\"},{\"attributes\":{\"axis_label\":\"\",\"bounds\":\"auto\",\"formatter\":{\"id\":\"4455\"},\"major_label_orientation\":\"horizontal\",\"ticker\":{\"id\":\"4427\"}},\"id\":\"4426\",\"type\":\"CategoricalAxis\"},{\"attributes\":{},\"id\":\"4475\",\"type\":\"LinearScale\"},{\"attributes\":{\"fill_color\":{\"field\":\"Variable\",\"transform\":{\"id\":\"4442\"}},\"height\":{\"value\":0.8},\"left\":{\"field\":\"bottom\"},\"right\":{\"field\":\"top\"},\"y\":{\"field\":\"index\"}},\"id\":\"4446\",\"type\":\"HBar\"},{\"attributes\":{\"children\":[{\"id\":\"4559\"},{\"id\":\"4557\"}]},\"id\":\"4560\",\"type\":\"Column\"},{\"attributes\":{\"source\":{\"id\":\"4443\"}},\"id\":\"4450\",\"type\":\"CDSView\"},{\"attributes\":{\"fill_alpha\":{\"value\":0.1},\"fill_color\":{\"field\":\"Variable\",\"transform\":{\"id\":\"4442\"}},\"height\":{\"value\":0.8},\"left\":{\"field\":\"bottom\"},\"line_alpha\":{\"value\":0.1},\"right\":{\"field\":\"top\"},\"y\":{\"field\":\"index\"}},\"id\":\"4447\",\"type\":\"HBar\"},{\"attributes\":{\"factors\":[\"Unique\",\"Duplicate\"],\"palette\":[\"#1f77b3\",\"#ff7e0e\"]},\"id\":\"4442\",\"type\":\"CategoricalColorMapper\"},{\"attributes\":{\"toolbar\":{\"id\":\"4558\"},\"toolbar_location\":\"above\"},\"id\":\"4559\",\"type\":\"ToolbarBox\"},{\"attributes\":{\"data\":{\"Variable\":[\"Numeric\",\"Others\"],\"bottom\":{\"__ndarray__\":\"AAAAAAAAAAAAAAAAAIBWQA==\",\"dtype\":\"float64\",\"order\":\"little\",\"shape\":[2]},\"index\":[\"values\",\"values\"],\"top\":{\"__ndarray__\":\"AAAAAACAVkAAAAAAAABZQA==\",\"dtype\":\"float64\",\"order\":\"little\",\"shape\":[2]},\"value\":{\"__ndarray__\":\"AAAAAACAVkAAAAAAAAAkQA==\",\"dtype\":\"float64\",\"order\":\"little\",\"shape\":[2]}},\"selected\":{\"id\":\"4330\"},\"selection_policy\":{\"id\":\"4342\"}},\"id\":\"4329\",\"type\":\"ColumnDataSource\"},{\"attributes\":{\"factors\":[\"Unique\",\"Duplicate\"],\"palette\":[\"#1f77b3\",\"#ff7e0e\"]},\"id\":\"4499\",\"type\":\"CategoricalColorMapper\"},{\"attributes\":{\"children\":[{\"id\":\"4561\"},{\"id\":\"4560\"}]},\"id\":\"4562\",\"type\":\"Column\"},{\"attributes\":{\"items\":[{\"id\":\"4460\"}],\"location\":[0,0]},\"id\":\"4459\",\"type\":\"Legend\"},{\"attributes\":{\"data\":{\"Variable\":[\"Available\",\"Missing\"],\"bottom\":{\"__ndarray__\":\"AAAAAAAAAABNWVPWlPlYQA==\",\"dtype\":\"float64\",\"order\":\"little\",\"shape\":[2]},\"index\":[\"values\",\"values\"],\"top\":{\"__ndarray__\":\"TVlT1pT5WEAAAAAAAABZQA==\",\"dtype\":\"float64\",\"order\":\"little\",\"shape\":[2]},\"value\":{\"__ndarray__\":\"TVlT1pT5WEBrypqypqy5Pw==\",\"dtype\":\"float64\",\"order\":\"little\",\"shape\":[2]}},\"selected\":{\"id\":\"4387\"},\"selection_policy\":{\"id\":\"4399\"}},\"id\":\"4386\",\"type\":\"ColumnDataSource\"},{\"attributes\":{\"bottom_units\":\"screen\",\"fill_alpha\":0.5,\"fill_color\":\"lightgrey\",\"left_units\":\"screen\",\"level\":\"overlay\",\"line_alpha\":1.0,\"line_color\":\"black\",\"line_dash\":[4,4],\"line_width\":2,\"right_units\":\"screen\",\"top_units\":\"screen\"},\"id\":\"4491\",\"type\":\"BoxAnnotation\"},{\"attributes\":{\"label\":{\"field\":\"Variable\"},\"renderers\":[{\"id\":\"4506\"}]},\"id\":\"4517\",\"type\":\"LegendItem\"},{\"attributes\":{\"ticks\":[0]},\"id\":\"4404\",\"type\":\"FixedTicker\"},{\"attributes\":{\"factors\":[\"Available\",\"Missing\"],\"palette\":[\"#1f77b3\",\"#ff7e0e\"]},\"id\":\"4385\",\"type\":\"CategoricalColorMapper\"},{\"attributes\":{\"child\":{\"id\":\"4562\"},\"name\":\"housing\",\"title\":\"housing\"},\"id\":\"4815\",\"type\":\"Panel\"},{\"attributes\":{},\"id\":\"4477\",\"type\":\"CategoricalScale\"},{\"attributes\":{},\"id\":\"4420\",\"type\":\"CategoricalScale\"},{\"attributes\":{\"fill_color\":{\"field\":\"Variable\",\"transform\":{\"id\":\"4385\"}},\"height\":{\"value\":0.8},\"left\":{\"field\":\"bottom\"},\"right\":{\"field\":\"top\"},\"y\":{\"field\":\"index\"}},\"id\":\"4389\",\"type\":\"HBar\"},{\"attributes\":{\"fill_alpha\":{\"value\":0.2},\"fill_color\":{\"field\":\"Variable\",\"transform\":{\"id\":\"4499\"}},\"height\":{\"value\":0.8},\"left\":{\"field\":\"bottom\"},\"line_alpha\":{\"value\":0.2},\"right\":{\"field\":\"top\"},\"y\":{\"field\":\"index\"}},\"id\":\"4505\",\"type\":\"HBar\"},{\"attributes\":{},\"id\":\"4427\",\"type\":\"CategoricalTicker\"},{\"attributes\":{},\"id\":\"4455\",\"type\":\"CategoricalTickFormatter\"},{\"attributes\":{\"fill_color\":{\"field\":\"Variable\",\"transform\":{\"id\":\"4499\"}},\"height\":{\"value\":0.8},\"left\":{\"field\":\"bottom\"},\"right\":{\"field\":\"top\"},\"y\":{\"field\":\"index\"}},\"id\":\"4503\",\"type\":\"HBar\"},{\"attributes\":{\"fill_alpha\":{\"value\":0.1},\"fill_color\":{\"field\":\"Variable\",\"transform\":{\"id\":\"4499\"}},\"height\":{\"value\":0.8},\"left\":{\"field\":\"bottom\"},\"line_alpha\":{\"value\":0.1},\"right\":{\"field\":\"top\"},\"y\":{\"field\":\"index\"}},\"id\":\"4504\",\"type\":\"HBar\"},{\"attributes\":{\"active_drag\":\"auto\",\"active_inspect\":\"auto\",\"active_multi\":null,\"active_scroll\":\"auto\",\"active_tap\":\"auto\",\"tools\":[{\"id\":\"4355\"},{\"id\":\"4372\"},{\"id\":\"4373\"},{\"id\":\"4374\"},{\"id\":\"4375\"},{\"id\":\"4376\"}]},\"id\":\"4378\",\"type\":\"Toolbar\"},{\"attributes\":{},\"id\":\"4387\",\"type\":\"Selection\"},{\"attributes\":{},\"id\":\"4501\",\"type\":\"Selection\"},{\"attributes\":{\"data_source\":{\"id\":\"4500\"},\"glyph\":{\"id\":\"4503\"},\"hover_glyph\":null,\"muted_glyph\":{\"id\":\"4505\"},\"nonselection_glyph\":{\"id\":\"4504\"},\"selection_glyph\":null,\"view\":{\"id\":\"4507\"}},\"id\":\"4506\",\"type\":\"GlyphRenderer\"},{\"attributes\":{\"items\":[{\"id\":\"4517\"}],\"location\":[0,0]},\"id\":\"4516\",\"type\":\"Legend\"},{\"attributes\":{\"axis\":{\"id\":\"4426\"},\"dimension\":1,\"grid_line_color\":null,\"ticker\":null},\"id\":\"4428\",\"type\":\"Grid\"},{\"attributes\":{\"bottom_units\":\"screen\",\"fill_alpha\":0.5,\"fill_color\":\"lightgrey\",\"left_units\":\"screen\",\"level\":\"overlay\",\"line_alpha\":1.0,\"line_color\":\"black\",\"line_dash\":[4,4],\"line_width\":2,\"right_units\":\"screen\",\"top_units\":\"screen\"},\"id\":\"4320\",\"type\":\"BoxAnnotation\"},{\"attributes\":{},\"id\":\"4510\",\"type\":\"BasicTickFormatter\"},{\"attributes\":{\"bottom_units\":\"screen\",\"fill_alpha\":0.5,\"fill_color\":\"lightgrey\",\"left_units\":\"screen\",\"level\":\"overlay\",\"line_alpha\":1.0,\"line_color\":\"black\",\"line_dash\":[4,4],\"line_width\":2,\"right_units\":\"screen\",\"top_units\":\"screen\"},\"id\":\"4434\",\"type\":\"BoxAnnotation\"}],\"root_ids\":[\"4295\",\"4900\"]},\"title\":\"Bokeh Application\",\"version\":\"2.2.3\"}};\n",
       "  var render_items = [{\"docid\":\"551307bb-1459-46ca-8caa-c33fa09320f4\",\"root_ids\":[\"4295\"],\"roots\":{\"4295\":\"362c355a-4da5-4f7d-9085-f1d87204ac5d\"}}];\n",
       "  root.Bokeh.embed.embed_items_notebook(docs_json, render_items);\n",
       "  }\n",
       "if (root.Bokeh !== undefined) {\n",
       "    embed_document(root);\n",
       "  } else {\n",
       "    var attempts = 0;\n",
       "    var timer = setInterval(function(root) {\n",
       "      if (root.Bokeh !== undefined) {\n",
       "        clearInterval(timer);\n",
       "        embed_document(root);\n",
       "      } else if (document.readyState == \"complete\") {\n",
       "        attempts++;\n",
       "        if (attempts > 100) {\n",
       "          clearInterval(timer);\n",
       "          console.log(\"Bokeh: ERROR: Unable to run BokehJS code because BokehJS library is missing\");\n",
       "        }\n",
       "      }\n",
       "    }, 10, root)\n",
       "  }\n",
       "})(window);</script>"
      ],
      "text/plain": [
       "Tabs\n",
       "    [0] HoloViews(Layout, name='housing')"
      ]
     },
     "execution_count": 66,
     "metadata": {
      "application/vnd.holoviews_exec.v0+json": {
       "id": "4295"
      }
     },
     "output_type": "execute_result"
    }
   ],
   "source": [
    "sum, plot1 = eda.get_data_health_summary(housing_df, return_plot=True)\n",
    "\n",
    "display_as_tabs([('housing', plot1)])"
   ]
  },
  {
   "cell_type": "markdown",
   "metadata": {},
   "source": [
    "**Dev NOTES**\n",
    "\n",
    "<details>\n",
    "1. Datatypes : We have both numeric and other types. The bulk of them seem to be numeric. `Numeric` is defined to be one of [float|int|date] and the rest are categorized as `Others`. A column is assumed to have `date` values if it has the string `date` in the column name.\n",
    "\n",
    "2. The missing value plot seems to indicate missing values are not present but we do have them. \n",
    "\n",
    "3. We are looking for duplicate observations (rows in the data). The plot shows the % of rows that are an exact replica of another row (using `df.duplicated`)\n",
    "\n",
    "4. We are looking for duplicate features (columns in the data).\n",
    "\n",
    "</details>"
   ]
  },
  {
   "cell_type": "markdown",
   "metadata": {},
   "source": [
    "### Missing Values summary\n",
    "\n",
    "This provides an overall view focussing on amount of missing values in the dataset.\n",
    "\n",
    "**Watch out for:**\n",
    "* A few columns have significant number of missing values \n",
    "* Most columns have significant number of missing values\n"
   ]
  },
  {
   "cell_type": "code",
   "execution_count": 67,
   "metadata": {},
   "outputs": [
    {
     "data": {},
     "metadata": {},
     "output_type": "display_data"
    },
    {
     "data": {},
     "metadata": {},
     "output_type": "display_data"
    },
    {
     "data": {
      "application/vnd.holoviews_exec.v0+json": "",
      "text/html": [
       "<div id='5041'>\n",
       "\n",
       "\n",
       "\n",
       "\n",
       "\n",
       "  <div class=\"bk-root\" id=\"87afc071-5612-40b8-aa69-edd997437ec4\" data-root-id=\"5041\"></div>\n",
       "</div>\n",
       "<script type=\"application/javascript\">(function(root) {\n",
       "  function embed_document(root) {\n",
       "  var docs_json = {\"a691a1d2-633d-4b0c-ba7e-e6ed1798216b\":{\"roots\":{\"references\":[{\"attributes\":{},\"id\":\"5063\",\"type\":\"WheelZoomTool\"},{\"attributes\":{\"bottom_units\":\"screen\",\"fill_alpha\":0.5,\"fill_color\":\"lightgrey\",\"left_units\":\"screen\",\"level\":\"overlay\",\"line_alpha\":1.0,\"line_color\":\"black\",\"line_dash\":[4,4],\"line_width\":2,\"right_units\":\"screen\",\"top_units\":\"screen\"},\"id\":\"5066\",\"type\":\"BoxAnnotation\"},{\"attributes\":{\"axis_label\":\"# of missing observations\",\"bounds\":\"auto\",\"formatter\":{\"id\":\"5083\"},\"major_label_orientation\":\"horizontal\",\"ticker\":{\"id\":\"5055\"}},\"id\":\"5054\",\"type\":\"CategoricalAxis\"},{\"attributes\":{\"margin\":[0,0,0,0],\"tabs\":[{\"id\":\"5102\"}]},\"id\":\"5041\",\"type\":\"Tabs\"},{\"attributes\":{},\"id\":\"5085\",\"type\":\"BasicTickFormatter\"},{\"attributes\":{\"data\":{\"A_0\":[9,1,0,0,0,0,0,0],\"index\":[\"No Missing\",\"0-5%\",\"5-10%\",\"10-20%\",\"20-30%\",\"30-40%\",\"40-50%\",\"50-100%\"]},\"selected\":{\"id\":\"5075\"},\"selection_policy\":{\"id\":\"5091\"}},\"id\":\"5074\",\"type\":\"ColumnDataSource\"},{\"attributes\":{\"text\":\"Missing Variables - Data Shape:(20640, 10)\",\"text_color\":{\"value\":\"black\"},\"text_font_size\":{\"value\":\"12pt\"}},\"id\":\"5046\",\"type\":\"Title\"},{\"attributes\":{\"align\":null,\"below\":[{\"id\":\"5054\"}],\"center\":[{\"id\":\"5056\"},{\"id\":\"5060\"}],\"left\":[{\"id\":\"5057\"}],\"margin\":null,\"min_border_bottom\":10,\"min_border_left\":10,\"min_border_right\":10,\"min_border_top\":10,\"plot_height\":300,\"plot_width\":700,\"renderers\":[{\"id\":\"5080\"}],\"sizing_mode\":\"fixed\",\"title\":{\"id\":\"5046\"},\"toolbar\":{\"id\":\"5067\"},\"x_range\":{\"id\":\"5042\"},\"x_scale\":{\"id\":\"5050\"},\"y_range\":{\"id\":\"5043\"},\"y_scale\":{\"id\":\"5052\"}},\"id\":\"5045\",\"subtype\":\"Figure\",\"type\":\"Plot\"},{\"attributes\":{\"callback\":null,\"renderers\":[{\"id\":\"5080\"}],\"tags\":[\"hv_created\"],\"tooltips\":[[\"index\",\"@{index}\"],[\"0\",\"@{A_0}\"]]},\"id\":\"5044\",\"type\":\"HoverTool\"},{\"attributes\":{\"overlay\":{\"id\":\"5066\"}},\"id\":\"5064\",\"type\":\"BoxZoomTool\"},{\"attributes\":{\"data_source\":{\"id\":\"5074\"},\"glyph\":{\"id\":\"5077\"},\"hover_glyph\":null,\"muted_glyph\":{\"id\":\"5079\"},\"nonselection_glyph\":{\"id\":\"5078\"},\"selection_glyph\":null,\"view\":{\"id\":\"5081\"}},\"id\":\"5080\",\"type\":\"GlyphRenderer\"},{\"attributes\":{},\"id\":\"5062\",\"type\":\"PanTool\"},{\"attributes\":{},\"id\":\"5083\",\"type\":\"CategoricalTickFormatter\"},{\"attributes\":{\"source\":{\"id\":\"5074\"}},\"id\":\"5081\",\"type\":\"CDSView\"},{\"attributes\":{\"fill_alpha\":{\"value\":0.1},\"fill_color\":{\"value\":\"#1f77b3\"},\"line_alpha\":{\"value\":0.1},\"top\":{\"field\":\"A_0\"},\"width\":{\"value\":0.8},\"x\":{\"field\":\"index\"}},\"id\":\"5078\",\"type\":\"VBar\"},{\"attributes\":{},\"id\":\"5052\",\"type\":\"LinearScale\"},{\"attributes\":{\"active_drag\":\"auto\",\"active_inspect\":\"auto\",\"active_multi\":null,\"active_scroll\":\"auto\",\"active_tap\":\"auto\",\"tools\":[{\"id\":\"5044\"},{\"id\":\"5061\"},{\"id\":\"5062\"},{\"id\":\"5063\"},{\"id\":\"5064\"},{\"id\":\"5065\"}]},\"id\":\"5067\",\"type\":\"Toolbar\"},{\"attributes\":{\"factors\":[\"No Missing\",\"0-5%\",\"5-10%\",\"10-20%\",\"20-30%\",\"30-40%\",\"40-50%\",\"50-100%\"],\"tags\":[[[\"index\",\"index\",null]]]},\"id\":\"5042\",\"type\":\"FactorRange\"},{\"attributes\":{\"fill_alpha\":{\"value\":0.2},\"fill_color\":{\"value\":\"#1f77b3\"},\"line_alpha\":{\"value\":0.2},\"top\":{\"field\":\"A_0\"},\"width\":{\"value\":0.8},\"x\":{\"field\":\"index\"}},\"id\":\"5079\",\"type\":\"VBar\"},{\"attributes\":{},\"id\":\"5050\",\"type\":\"CategoricalScale\"},{\"attributes\":{},\"id\":\"5061\",\"type\":\"SaveTool\"},{\"attributes\":{},\"id\":\"5075\",\"type\":\"Selection\"},{\"attributes\":{\"fill_color\":{\"value\":\"#1f77b3\"},\"top\":{\"field\":\"A_0\"},\"width\":{\"value\":0.8},\"x\":{\"field\":\"index\"}},\"id\":\"5077\",\"type\":\"VBar\"},{\"attributes\":{\"client_comm_id\":\"8abc9de0e5e341f29d55d2aff49b7fad\",\"comm_id\":\"28ce198151324eb79e9b774ccbb9014c\",\"plot_id\":\"5041\"},\"id\":\"5127\",\"type\":\"panel.models.comm_manager.CommManager\"},{\"attributes\":{\"child\":{\"id\":\"5045\"},\"name\":\"housing\",\"title\":\"housing\"},\"id\":\"5102\",\"type\":\"Panel\"},{\"attributes\":{\"axis\":{\"id\":\"5054\"},\"grid_line_color\":null,\"ticker\":null},\"id\":\"5056\",\"type\":\"Grid\"},{\"attributes\":{\"axis\":{\"id\":\"5057\"},\"dimension\":1,\"grid_line_color\":null,\"ticker\":null},\"id\":\"5060\",\"type\":\"Grid\"},{\"attributes\":{},\"id\":\"5055\",\"type\":\"CategoricalTicker\"},{\"attributes\":{},\"id\":\"5058\",\"type\":\"BasicTicker\"},{\"attributes\":{\"axis_label\":\"# of variables\",\"bounds\":\"auto\",\"formatter\":{\"id\":\"5085\"},\"major_label_orientation\":\"horizontal\",\"ticker\":{\"id\":\"5058\"}},\"id\":\"5057\",\"type\":\"LinearAxis\"},{\"attributes\":{},\"id\":\"5065\",\"type\":\"ResetTool\"},{\"attributes\":{},\"id\":\"5091\",\"type\":\"UnionRenderers\"},{\"attributes\":{\"end\":9.9,\"reset_end\":9.9,\"reset_start\":0.0,\"tags\":[[[\"0\",\"0\",null]]]},\"id\":\"5043\",\"type\":\"Range1d\"}],\"root_ids\":[\"5041\",\"5127\"]},\"title\":\"Bokeh Application\",\"version\":\"2.2.3\"}};\n",
       "  var render_items = [{\"docid\":\"a691a1d2-633d-4b0c-ba7e-e6ed1798216b\",\"root_ids\":[\"5041\"],\"roots\":{\"5041\":\"87afc071-5612-40b8-aa69-edd997437ec4\"}}];\n",
       "  root.Bokeh.embed.embed_items_notebook(docs_json, render_items);\n",
       "  }\n",
       "if (root.Bokeh !== undefined) {\n",
       "    embed_document(root);\n",
       "  } else {\n",
       "    var attempts = 0;\n",
       "    var timer = setInterval(function(root) {\n",
       "      if (root.Bokeh !== undefined) {\n",
       "        clearInterval(timer);\n",
       "        embed_document(root);\n",
       "      } else if (document.readyState == \"complete\") {\n",
       "        attempts++;\n",
       "        if (attempts > 100) {\n",
       "          clearInterval(timer);\n",
       "          console.log(\"Bokeh: ERROR: Unable to run BokehJS code because BokehJS library is missing\");\n",
       "        }\n",
       "      }\n",
       "    }, 10, root)\n",
       "  }\n",
       "})(window);</script>"
      ],
      "text/plain": [
       "Tabs\n",
       "    [0] HoloViews(Bars, name='housing')"
      ]
     },
     "execution_count": 67,
     "metadata": {
      "application/vnd.holoviews_exec.v0+json": {
       "id": "5041"
      }
     },
     "output_type": "execute_result"
    }
   ],
   "source": [
    "sum1, plot1 = eda.get_missing_values_summary(housing_df, return_plot=True)\n",
    "\n",
    "display_as_tabs([('housing', plot1)])"
   ]
  },
  {
   "cell_type": "markdown",
   "metadata": {},
   "source": [
    "**Dev notes:**\n",
    "\n",
    "<details>\n",
    "    \n",
    "    * By default, the following are considered missing/NA values : `[np.Nan, pd.NaT, 'NA', None]`\n",
    "    * additional values can be passed to tigerml (add_additional_na_values)\n",
    "    * these are applied to all columns.\n",
    "    \n",
    "    * some of the above information can be learnt from the data discovery step (see discussion below)\n",
    "    \n",
    "</details>"
   ]
  },
  {
   "cell_type": "code",
   "execution_count": 68,
   "metadata": {},
   "outputs": [
    {
     "data": {},
     "metadata": {},
     "output_type": "display_data"
    },
    {
     "data": {
      "application/vnd.holoviews_exec.v0+json": "",
      "text/html": [
       "<div id='5168'>\n",
       "\n",
       "\n",
       "\n",
       "\n",
       "\n",
       "  <div class=\"bk-root\" id=\"863752fc-5307-44d7-9dd9-f7730e95f1b4\" data-root-id=\"5168\"></div>\n",
       "</div>\n",
       "<script type=\"application/javascript\">(function(root) {\n",
       "  function embed_document(root) {\n",
       "  var docs_json = {\"a3f45d78-b197-4ee9-af59-ab375e67ff1f\":{\"roots\":{\"references\":[{\"attributes\":{\"client_comm_id\":\"ee2607d90d0841d58e41f617235e308f\",\"comm_id\":\"c41797328b6145dabeebac5c2ce02803\",\"plot_id\":\"5168\"},\"id\":\"5171\",\"type\":\"panel.models.comm_manager.CommManager\"},{\"attributes\":{\"child\":{\"id\":\"5169\"},\"name\":\"housing\",\"title\":\"housing\"},\"id\":\"5170\",\"type\":\"Panel\"},{\"attributes\":{\"css_classes\":[\"markdown\"],\"margin\":[5,5,5,5],\"name\":\"housing\",\"text\":\"&lt;p&gt;No duplicate variables&lt;/p&gt;\"},\"id\":\"5169\",\"type\":\"panel.models.markup.HTML\"},{\"attributes\":{\"margin\":[0,0,0,0],\"tabs\":[{\"id\":\"5170\"}]},\"id\":\"5168\",\"type\":\"Tabs\"}],\"root_ids\":[\"5168\",\"5171\"]},\"title\":\"Bokeh Application\",\"version\":\"2.2.3\"}};\n",
       "  var render_items = [{\"docid\":\"a3f45d78-b197-4ee9-af59-ab375e67ff1f\",\"root_ids\":[\"5168\"],\"roots\":{\"5168\":\"863752fc-5307-44d7-9dd9-f7730e95f1b4\"}}];\n",
       "  root.Bokeh.embed.embed_items_notebook(docs_json, render_items);\n",
       "  }\n",
       "if (root.Bokeh !== undefined) {\n",
       "    embed_document(root);\n",
       "  } else {\n",
       "    var attempts = 0;\n",
       "    var timer = setInterval(function(root) {\n",
       "      if (root.Bokeh !== undefined) {\n",
       "        clearInterval(timer);\n",
       "        embed_document(root);\n",
       "      } else if (document.readyState == \"complete\") {\n",
       "        attempts++;\n",
       "        if (attempts > 100) {\n",
       "          clearInterval(timer);\n",
       "          console.log(\"Bokeh: ERROR: Unable to run BokehJS code because BokehJS library is missing\");\n",
       "        }\n",
       "      }\n",
       "    }, 10, root)\n",
       "  }\n",
       "})(window);</script>"
      ],
      "text/plain": [
       "Tabs\n",
       "    [0] Markdown(str, name='housing')"
      ]
     },
     "execution_count": 68,
     "metadata": {
      "application/vnd.holoviews_exec.v0+json": {
       "id": "5168"
      }
     },
     "output_type": "execute_result"
    }
   ],
   "source": [
    "sum1 = eda.get_duplicate_columns(housing_df)\n",
    "\n",
    "display_as_tabs([('housing', sum1)])"
   ]
  },
  {
   "cell_type": "code",
   "execution_count": 69,
   "metadata": {},
   "outputs": [
    {
     "data": {},
     "metadata": {},
     "output_type": "display_data"
    },
    {
     "data": {
      "application/vnd.holoviews_exec.v0+json": "",
      "text/html": [
       "<div id='5172'>\n",
       "\n",
       "\n",
       "\n",
       "\n",
       "\n",
       "  <div class=\"bk-root\" id=\"0896d77d-9f4b-4a95-b32f-22edd856e6f6\" data-root-id=\"5172\"></div>\n",
       "</div>\n",
       "<script type=\"application/javascript\">(function(root) {\n",
       "  function embed_document(root) {\n",
       "  var docs_json = {\"929e7ea4-d426-47d2-acb7-a8c657b43df1\":{\"roots\":{\"references\":[{\"attributes\":{},\"id\":\"5180\",\"type\":\"IntEditor\"},{\"attributes\":{},\"id\":\"5213\",\"type\":\"UnionRenderers\"},{\"attributes\":{},\"id\":\"5184\",\"type\":\"NumberFormatter\"},{\"attributes\":{\"editor\":{\"id\":\"5185\"},\"field\":\"('Data Shape:(20640, 10)', '> (mean+3*std)')\",\"formatter\":{\"id\":\"5184\"},\"title\":\"('Data Shape:(20640, 10)', '> (mean+3*std)')\",\"width\":null},\"id\":\"5186\",\"type\":\"TableColumn\"},{\"attributes\":{\"client_comm_id\":\"2e2b1066b0964d99b72152a85f951f74\",\"comm_id\":\"32100063a889426e8c1c83eb18b41aaf\",\"plot_id\":\"5172\"},\"id\":\"5219\",\"type\":\"panel.models.comm_manager.CommManager\"},{\"attributes\":{},\"id\":\"5179\",\"type\":\"NumberFormatter\"},{\"attributes\":{},\"id\":\"5199\",\"type\":\"NumberFormatter\"},{\"attributes\":{},\"id\":\"5190\",\"type\":\"IntEditor\"},{\"attributes\":{\"editor\":{\"id\":\"5200\"},\"field\":\"('Data Shape:(20640, 10)', '-inf')\",\"formatter\":{\"id\":\"5199\"},\"title\":\"('Data Shape:(20640, 10)', '-inf')\",\"width\":null},\"id\":\"5201\",\"type\":\"TableColumn\"},{\"attributes\":{\"source\":{\"id\":\"5173\"}},\"id\":\"5210\",\"type\":\"CDSView\"},{\"attributes\":{},\"id\":\"5204\",\"type\":\"NumberFormatter\"},{\"attributes\":{\"child\":{\"id\":\"5209\"},\"name\":\"housing\",\"title\":\"housing\"},\"id\":\"5212\",\"type\":\"Panel\"},{\"attributes\":{\"editor\":{\"id\":\"5205\"},\"field\":\"('Data Shape:(20640, 10)', '+inf')\",\"formatter\":{\"id\":\"5204\"},\"title\":\"('Data Shape:(20640, 10)', '+inf')\",\"width\":null},\"id\":\"5206\",\"type\":\"TableColumn\"},{\"attributes\":{\"margin\":[0,0,0,0],\"tabs\":[{\"id\":\"5212\"}]},\"id\":\"5172\",\"type\":\"Tabs\"},{\"attributes\":{},\"id\":\"5211\",\"type\":\"Selection\"},{\"attributes\":{},\"id\":\"5189\",\"type\":\"NumberFormatter\"},{\"attributes\":{},\"id\":\"5205\",\"type\":\"IntEditor\"},{\"attributes\":{},\"id\":\"5175\",\"type\":\"StringEditor\"},{\"attributes\":{\"columns\":[{\"id\":\"5176\"},{\"id\":\"5181\"},{\"id\":\"5186\"},{\"id\":\"5191\"},{\"id\":\"5196\"},{\"id\":\"5201\"},{\"id\":\"5206\"}],\"editable\":true,\"fit_columns\":true,\"height\":180,\"index_position\":null,\"margin\":[5,10,5,10],\"name\":\"housing\",\"source\":{\"id\":\"5173\"},\"view\":{\"id\":\"5210\"}},\"id\":\"5209\",\"type\":\"DataTable\"},{\"attributes\":{\"editor\":{\"id\":\"5190\"},\"field\":\"('Data Shape:(20640, 10)', '< (1stQ - 1.5 * IQR)')\",\"formatter\":{\"id\":\"5189\"},\"title\":\"('Data Shape:(20640, 10)', '< (1stQ - 1.5 * IQR)')\",\"width\":null},\"id\":\"5191\",\"type\":\"TableColumn\"},{\"attributes\":{\"editor\":{\"id\":\"5195\"},\"field\":\"('Data Shape:(20640, 10)', '> (3rdQ + 1.5 * IQR)')\",\"formatter\":{\"id\":\"5194\"},\"title\":\"('Data Shape:(20640, 10)', '> (3rdQ + 1.5 * IQR)')\",\"width\":null},\"id\":\"5196\",\"type\":\"TableColumn\"},{\"attributes\":{\"editor\":{\"id\":\"5175\"},\"field\":\"index\",\"formatter\":{\"id\":\"5174\"},\"title\":\"index\",\"width\":null},\"id\":\"5176\",\"type\":\"TableColumn\"},{\"attributes\":{\"editor\":{\"id\":\"5180\"},\"field\":\"('Data Shape:(20640, 10)', '< (mean-3*std)')\",\"formatter\":{\"id\":\"5179\"},\"title\":\"('Data Shape:(20640, 10)', '< (mean-3*std)')\",\"width\":null},\"id\":\"5181\",\"type\":\"TableColumn\"},{\"attributes\":{},\"id\":\"5174\",\"type\":\"StringFormatter\"},{\"attributes\":{},\"id\":\"5185\",\"type\":\"IntEditor\"},{\"attributes\":{},\"id\":\"5195\",\"type\":\"IntEditor\"},{\"attributes\":{},\"id\":\"5194\",\"type\":\"NumberFormatter\"},{\"attributes\":{\"data\":{\"('Data Shape:(20640, 10)', '+inf')\":[0,0,0,0,0,0],\"('Data Shape:(20640, 10)', '-inf')\":[0,0,0,0,0,0],\"('Data Shape:(20640, 10)', '< (1stQ - 1.5 * IQR)')\":[0,0,0,0,0,0],\"('Data Shape:(20640, 10)', '< (mean-3*std)')\":[0,0,0,0,0,0],\"('Data Shape:(20640, 10)', '> (3rdQ + 1.5 * IQR)')\":[1287,1271,1196,1220,681,1071],\"('Data Shape:(20640, 10)', '> (mean+3*std)')\":[373,368,342,363,345,0],\"index\":[\"total_rooms\",\"total_bedrooms\",\"population\",\"households\",\"median_income\",\"median_house_value\"]},\"selected\":{\"id\":\"5211\"},\"selection_policy\":{\"id\":\"5213\"}},\"id\":\"5173\",\"type\":\"ColumnDataSource\"},{\"attributes\":{},\"id\":\"5200\",\"type\":\"IntEditor\"}],\"root_ids\":[\"5172\",\"5219\"]},\"title\":\"Bokeh Application\",\"version\":\"2.2.3\"}};\n",
       "  var render_items = [{\"docid\":\"929e7ea4-d426-47d2-acb7-a8c657b43df1\",\"root_ids\":[\"5172\"],\"roots\":{\"5172\":\"0896d77d-9f4b-4a95-b32f-22edd856e6f6\"}}];\n",
       "  root.Bokeh.embed.embed_items_notebook(docs_json, render_items);\n",
       "  }\n",
       "if (root.Bokeh !== undefined) {\n",
       "    embed_document(root);\n",
       "  } else {\n",
       "    var attempts = 0;\n",
       "    var timer = setInterval(function(root) {\n",
       "      if (root.Bokeh !== undefined) {\n",
       "        clearInterval(timer);\n",
       "        embed_document(root);\n",
       "      } else if (document.readyState == \"complete\") {\n",
       "        attempts++;\n",
       "        if (attempts > 100) {\n",
       "          clearInterval(timer);\n",
       "          console.log(\"Bokeh: ERROR: Unable to run BokehJS code because BokehJS library is missing\");\n",
       "        }\n",
       "      }\n",
       "    }, 10, root)\n",
       "  }\n",
       "})(window);</script>"
      ],
      "text/plain": [
       "Tabs\n",
       "    [0] DataFrame(name='housing', value=                    ('Data...)"
      ]
     },
     "execution_count": 69,
     "metadata": {
      "application/vnd.holoviews_exec.v0+json": {
       "id": "5172"
      }
     },
     "output_type": "execute_result"
    }
   ],
   "source": [
    "sum1 = eda.get_outliers(housing_df)\n",
    "\n",
    "display_as_tabs([('housing', sum1)])"
   ]
  },
  {
   "cell_type": "markdown",
   "metadata": {},
   "source": [
    "## Health Analysis report\n",
    "\n",
    "Generate a report that has all the above data in a single html. This could be useful to submit to a client"
   ]
  },
  {
   "cell_type": "code",
   "execution_count": 70,
   "metadata": {},
   "outputs": [],
   "source": [
    "from ta_lib.reports.api import summary_report\n",
    "\n",
    "summary_report(housing_df, './housing.html')"
   ]
  },
  {
   "cell_type": "code",
   "execution_count": null,
   "metadata": {},
   "outputs": [],
   "source": []
  }
 ],
 "metadata": {
  "kernelspec": {
   "display_name": "Python 3",
   "language": "python",
   "name": "python3"
  },
  "language_info": {
   "codemirror_mode": {
    "name": "ipython",
    "version": 3
   },
   "file_extension": ".py",
   "mimetype": "text/x-python",
   "name": "python",
   "nbconvert_exporter": "python",
   "pygments_lexer": "ipython3",
   "version": "3.8.11"
  }
 },
 "nbformat": 4,
 "nbformat_minor": 4
}
